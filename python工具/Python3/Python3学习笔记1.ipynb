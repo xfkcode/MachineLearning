{
 "cells": [
  {
   "cell_type": "markdown",
   "metadata": {},
   "source": [
    "## **Python3学习笔记1**⭐"
   ]
  },
  {
   "cell_type": "markdown",
   "metadata": {},
   "source": [
    "#### get函数\n",
    "\n",
    "- 用法：`dict_n.get(key, default = None)`\n",
    "- 作用：字典 get() 函数返回指定键的值，如果值不在字典中返回默认值\n",
    "- 参数说明：\n",
    "\n",
    "  - key: 字典键Key\n",
    "  - default: 如果字典中key本来有值，那么返回的是字典中Key所对应的值，  \n",
    "    如果没有，那么返回“default”中的值\n",
    "\n",
    "    📢要返回key的值，可以是任何值，如整形、字符串、列表、字典等\n"
   ]
  },
  {
   "cell_type": "code",
   "execution_count": 2,
   "metadata": {},
   "outputs": [
    {
     "name": "stdout",
     "output_type": "stream",
     "text": [
      "zhangsan\n"
     ]
    }
   ],
   "source": [
    "come_name = {}\n",
    "people1 = come_name.get(\"name\", \"zhangsan\")\n",
    "print(people1)"
   ]
  },
  {
   "cell_type": "code",
   "execution_count": 4,
   "metadata": {},
   "outputs": [
    {
     "name": "stdout",
     "output_type": "stream",
     "text": [
      "{1: 3, 5: 2, 6: 1, 9: 1, 2: 1}\n"
     ]
    }
   ],
   "source": [
    "# 字典计数，实现Counter\n",
    "def Counter(nums):\n",
    "    ans={}\n",
    "    for i in nums:\n",
    "        ans[i] = ans.get(i,0) + 1\n",
    "    return ans\n",
    "print(Counter([1,5,1,1,6,9,2,5]))"
   ]
  },
  {
   "cell_type": "markdown",
   "metadata": {},
   "source": [
    "#### sorted函数\n",
    "\n",
    "- 用法：`sorted(iterable, cmp=None, key=None, reverse=False)`\n",
    "\n",
    "- 作用：对所有可迭代的对象进行排序操作\n",
    "\n",
    "- 参数说明：\n",
    "  - iterable：可迭代对象\n",
    "  - cmp：比较的函数，这个具有两个参数，参数的值都是从可迭代对象中取出，此函数必须遵守的规则为，  \n",
    "    大于则返回1，小于则返回-1，等于则返回0（一般省略）\n",
    "  - key：主要是用来进行比较的元素，只有一个参数，  \n",
    "    具体的函数的参数就是取自于可迭代对象中，指定可迭代对象中的一个元素来进行排序  \n",
    "    常用的用来作为参数key的函数有 lambda函数和operator.itemgetter()  \n",
    "    尤其是列表元素为多维数据时，需要key来选取按哪一位数据来进行排序\n",
    "  - reverse：排序规则，reverse = True 降序 ， reverse = False 升序（默认）。\n"
   ]
  },
  {
   "cell_type": "code",
   "execution_count": 5,
   "metadata": {},
   "outputs": [
    {
     "name": "stdout",
     "output_type": "stream",
     "text": [
      "[1, 2, 4, 5, 7]\n",
      "['a', 'c', 'd', 'f', 'z']\n",
      "['1bf', '2qz', 'ak', 'gc', 'vz']\n"
     ]
    }
   ],
   "source": [
    "# 当元素为一维数字或字母时，结果返回一个新的列表，其中元素按升序或降序排列（根据reverse参数来决定）\n",
    "list = [1, 5, 7, 2, 4]\n",
    "print(sorted(list))\n",
    "\n",
    "list = ['d', 'c', 'f', 'a', 'z']\n",
    "print(sorted(list))\n",
    "\n",
    "list = ['vz', '1bf', 'gc', 'ak', '2qz']#若为字符串，则跟据第一位的数字-字母顺序来排列\n",
    "print(sorted(list))\n"
   ]
  },
  {
   "cell_type": "code",
   "execution_count": 6,
   "metadata": {},
   "outputs": [
    {
     "name": "stdout",
     "output_type": "stream",
     "text": [
      "['qwerrtyyuu', 'handsome', 'defg', 'bc', 'a']\n"
     ]
    }
   ],
   "source": [
    "# 当数据为多维或想要按照特殊形式排序时，通过改变key函数来实现。\n",
    "# lambda函数\n",
    "list = ['a', 'bc', 'defg', 'handsome', 'qwerrtyyuu']\n",
    "print(sorted(list,key=lambda x:len(x),reverse=True))\n"
   ]
  },
  {
   "cell_type": "code",
   "execution_count": 10,
   "metadata": {},
   "outputs": [
    {
     "name": "stdout",
     "output_type": "stream",
     "text": [
      "[('A', 1, 5), ('C', 2, 6), ('B', 3, 2)]\n"
     ]
    }
   ],
   "source": [
    "# operator.itemgetter()\n",
    "import operator\n",
    "tuple_list = [('A', 1,5), ('B', 3,2), ('C', 2,6)]\n",
    "print(sorted(tuple_list, key=operator.itemgetter(1) ))#即按照第1维进行排序"
   ]
  },
  {
   "cell_type": "code",
   "execution_count": 15,
   "metadata": {},
   "outputs": [
    {
     "name": "stdout",
     "output_type": "stream",
     "text": [
      "[(1, 3), (5, 2), (6, 1), (9, 1), (2, 1)]\n",
      "1\n"
     ]
    }
   ],
   "source": [
    "import operator\n",
    "nums=[1,5,1,1,6,9,2,5]\n",
    "d=Counter(nums)\n",
    "# key=operator.itemgetter(1)根据字典的值进行排序\n",
    "# key=operator.itemgetter(0)根据字典的键进行排序\n",
    "# reverse降序排序字典\n",
    "sorted_d = sorted(d.items(),key=operator.itemgetter(1), reverse=True)\n",
    "print(sorted_d)\n",
    "print(sorted_d[0][0])"
   ]
  },
  {
   "cell_type": "markdown",
   "metadata": {},
   "source": [
    "#### s.strip()函数\n",
    "\n",
    "- 用法：`string.strip(s[,chars])`  \n",
    "  - `s.strip(rm) `  \n",
    "  - `s.lstrip(rm)`  \n",
    "  - `s.rstrip(rm)`  \n",
    "\n",
    "- 作用：s为字符串，rm为要删除的字符序列\n",
    "  - 删除 s 字符串中开头、结尾处，位于 rm 删除序列的字符  \n",
    "  - 删除 s 字符串中开头处，位于 rm 删除序列的字符  \n",
    "  - 删除 s 字符串中结尾处，位于 rm 删除序列的字符\n",
    "\n",
    "- 参数说明：\n",
    "  - rm：删除字符列表 \n",
    "  "
   ]
  },
  {
   "cell_type": "code",
   "execution_count": 8,
   "metadata": {},
   "outputs": [
    {
     "name": "stdout",
     "output_type": "stream",
     "text": [
      "hello world\n",
      "hello world  \n",
      "\n",
      "  hello world\n",
      "python\n"
     ]
    }
   ],
   "source": [
    "# 当rm空时,默认删除空白符(包括'\\n','\\r','\\t',' ')\n",
    "string1 = \"  hello world  \\n\"\n",
    "print(string1.strip())\n",
    "print(string1.lstrip())\n",
    "print(string1.rstrip())\n",
    "\n",
    "string2 = \"\\t\\rpython\"\n",
    "print(string2.strip())"
   ]
  },
  {
   "cell_type": "code",
   "execution_count": 4,
   "metadata": {},
   "outputs": [
    {
     "name": "stdout",
     "output_type": "stream",
     "text": [
      "love\n"
     ]
    }
   ],
   "source": [
    "# rm删除序列是只要边（开头或结尾）上的字符在删除序列内，就删除掉。\n",
    "string3 = \"123love\"\n",
    "print(string3.strip(\"123\"))"
   ]
  },
  {
   "cell_type": "code",
   "execution_count": 9,
   "metadata": {},
   "outputs": [
    {
     "data": {
      "text/plain": [
       "'40920\\t8.32\\t0.95\\tlargeDoses'"
      ]
     },
     "execution_count": 9,
     "metadata": {},
     "output_type": "execute_result"
    }
   ],
   "source": [
    "string = \"40920\\t8.32\\t0.95\\tlargeDoses\\n\"\n",
    "string.strip()"
   ]
  },
  {
   "cell_type": "markdown",
   "metadata": {},
   "source": [
    "#### s.split()函数\n",
    "\n",
    "- 用法：`split(sep: str | None = ..., maxsplit: SupportsIndex = ...) -> list[str]`\n",
    "\n",
    "- 作用：返回字符串中单词的列表，使用sep作为分隔符字符串。\n",
    "\n",
    "- 参数说明：\n",
    "  - sep：分隔字符串所依据的分隔符。  \n",
    "  None（默认值）表示根据任何空格进行拆分，并从结果中丢弃空字符串。  \n",
    "  - maxsplit：要执行的最大拆分数。  \n",
    "  -1（默认值）表示没有限制。"
   ]
  },
  {
   "cell_type": "code",
   "execution_count": 17,
   "metadata": {},
   "outputs": [
    {
     "name": "stdout",
     "output_type": "stream",
     "text": [
      "['helloworld', 'mike', '666']\n",
      "['helloworld ', 'mike \\n666']\n"
     ]
    }
   ],
   "source": [
    "string4 = \"helloworld \\nmike \\n666\"\n",
    "print(string4.split())\n",
    "print(string4.split('\\n',1))"
   ]
  },
  {
   "cell_type": "code",
   "execution_count": 18,
   "metadata": {},
   "outputs": [
    {
     "data": {
      "text/plain": [
       "['40920', '8.32', '0.95', 'largeDoses']"
      ]
     },
     "execution_count": 18,
     "metadata": {},
     "output_type": "execute_result"
    }
   ],
   "source": [
    "string.strip().split(\"\\t\")"
   ]
  },
  {
   "cell_type": "code",
   "execution_count": null,
   "metadata": {},
   "outputs": [],
   "source": []
  }
 ],
 "metadata": {
  "kernelspec": {
   "display_name": "Python 3.9.12 ('base')",
   "language": "python",
   "name": "python3"
  },
  "language_info": {
   "codemirror_mode": {
    "name": "ipython",
    "version": 3
   },
   "file_extension": ".py",
   "mimetype": "text/x-python",
   "name": "python",
   "nbconvert_exporter": "python",
   "pygments_lexer": "ipython3",
   "version": "3.9.12"
  },
  "orig_nbformat": 4,
  "vscode": {
   "interpreter": {
    "hash": "a825f8e8905b8e64233e6384cfa1616d0baa442a3b458fa78e4916d5c671b0d4"
   }
  }
 },
 "nbformat": 4,
 "nbformat_minor": 2
}
