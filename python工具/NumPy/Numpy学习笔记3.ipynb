{
 "cells": [
  {
   "cell_type": "markdown",
   "metadata": {},
   "source": [
    "## **NumPy学习笔记3**⭐"
   ]
  },
  {
   "cell_type": "code",
   "execution_count": 1,
   "metadata": {},
   "outputs": [],
   "source": [
    "import numpy as  np"
   ]
  },
  {
   "cell_type": "markdown",
   "metadata": {},
   "source": [
    "### **numpy.matrix**\n",
    "\n",
    "`class numpy.matrix(data, dtype=None, copy=True)`\n",
    "\n",
    "从类似数组的对象或数据字符串返回矩阵。  \n",
    "矩阵是一种特殊的二维阵列，通过运算保持其二维特性。  \n",
    "它有一些特殊的运算符，如*（矩阵乘法）和**（矩阵幂）。\n",
    "\n",
    "- Parameters:\n",
    "  - data: array_like or string  \n",
    "    如果数据是字符串，则它被解释为一个矩阵，用逗号或空格分隔列，用分号分隔行。\n",
    "  - dtype: data-type  \n",
    "    输出矩阵的数据类型。\n",
    "  - copy: bool  \n",
    "    如果数据已经是ndarray，则此标志确定是否复制数据（默认值 True），或是否构造视图。"
   ]
  },
  {
   "cell_type": "code",
   "execution_count": 3,
   "metadata": {},
   "outputs": [
    {
     "data": {
      "text/plain": [
       "matrix([[1, 2],\n",
       "        [3, 4]])"
      ]
     },
     "execution_count": 3,
     "metadata": {},
     "output_type": "execute_result"
    }
   ],
   "source": [
    "# string\n",
    "a = np.matrix('1 2; 3 4')\n",
    "a"
   ]
  },
  {
   "cell_type": "code",
   "execution_count": 4,
   "metadata": {},
   "outputs": [
    {
     "data": {
      "text/plain": [
       "matrix([[1, 2],\n",
       "        [3, 4]])"
      ]
     },
     "execution_count": 4,
     "metadata": {},
     "output_type": "execute_result"
    }
   ],
   "source": [
    "np.matrix([[1, 2], [3, 4]])"
   ]
  },
  {
   "cell_type": "markdown",
   "metadata": {},
   "source": [
    "### **numpy.mat**\n",
    "\n",
    "`numpy.mat(data, dtype=None)`\n",
    "\n",
    "将输入解释为矩阵。  \n",
    "Unlike `matrix` does not make a copy if the input is already a matrix or an ndarray.  \n",
    "Equivalent to `matrix(data, copy=False)`.\n",
    "\n",
    "- Parameters:\n",
    "  - data: array_like  \n",
    "    输入数据。\n",
    "  - dtype: data-type  \n",
    "    输出矩阵的数据类型。"
   ]
  },
  {
   "cell_type": "code",
   "execution_count": 7,
   "metadata": {},
   "outputs": [
    {
     "data": {
      "text/plain": [
       "matrix([[5, 2],\n",
       "        [3, 4]])"
      ]
     },
     "execution_count": 7,
     "metadata": {},
     "output_type": "execute_result"
    }
   ],
   "source": [
    "x=np.array([[1,2],[3,4]])\n",
    "m=np.mat(x)\n",
    "x[0,0]=5\n",
    "m"
   ]
  },
  {
   "cell_type": "code",
   "execution_count": 10,
   "metadata": {},
   "outputs": [
    {
     "data": {
      "text/plain": [
       "matrix([[1, 2],\n",
       "        [3, 4]])"
      ]
     },
     "execution_count": 10,
     "metadata": {},
     "output_type": "execute_result"
    }
   ],
   "source": [
    "x=np.array([[1,2],[3,4]])\n",
    "m=np.matrix(x)\n",
    "x[0,0]=5\n",
    "m"
   ]
  },
  {
   "cell_type": "markdown",
   "metadata": {},
   "source": [
    "### **numpy.ones**\n",
    "\n",
    "`numpy.ones(shape, dtype=None, order='C', *, like=None)`\n",
    "\n",
    "返回一个给定形状和类型的新数组，并填充1。\n",
    "### **numpy.zeros**\n",
    "\n",
    "`numpy.zeros(shape, dtype=float, order='C', *, like=None)`\n",
    "\n",
    "返回一个给定形状和类型的新数组，并填充0。\n",
    "- Parameters:\n",
    "  - shape: int or sequence of ints  \n",
    "    新数组形状。\n",
    "  - dtype: data-type, optional  \n",
    "    数组所需的数据类型（默认 `numpy.float64`）。\n",
    "  - order: {‘C’, ‘F’}, optional, default: C  \n",
    "    是按行主（C样式）还是列主（Fortran样式）顺序在内存中存储多维数据。\n",
    "  - like: array_like, optional  \n",
    "    引用对象以允许创建不是NumPy数组的数组。  \n",
    "    如果像这样传入的数组支持__array_function__协议，则结果将由其定义。  \n",
    "    在这种情况下，它确保创建与通过此参数传入的数组对象兼容的数组对象。"
   ]
  },
  {
   "cell_type": "code",
   "execution_count": 11,
   "metadata": {},
   "outputs": [
    {
     "data": {
      "text/plain": [
       "array([1., 1., 1., 1., 1.])"
      ]
     },
     "execution_count": 11,
     "metadata": {},
     "output_type": "execute_result"
    }
   ],
   "source": [
    "np.ones(5)"
   ]
  },
  {
   "cell_type": "code",
   "execution_count": 12,
   "metadata": {},
   "outputs": [
    {
     "data": {
      "text/plain": [
       "array([1, 1, 1, 1, 1])"
      ]
     },
     "execution_count": 12,
     "metadata": {},
     "output_type": "execute_result"
    }
   ],
   "source": [
    "np.ones((5,), dtype=int)"
   ]
  },
  {
   "cell_type": "code",
   "execution_count": 13,
   "metadata": {},
   "outputs": [
    {
     "data": {
      "text/plain": [
       "array([[1.],\n",
       "       [1.]])"
      ]
     },
     "execution_count": 13,
     "metadata": {},
     "output_type": "execute_result"
    }
   ],
   "source": [
    "np.ones((2, 1))"
   ]
  },
  {
   "cell_type": "code",
   "execution_count": 14,
   "metadata": {},
   "outputs": [
    {
     "data": {
      "text/plain": [
       "array([[1., 1.],\n",
       "       [1., 1.]])"
      ]
     },
     "execution_count": 14,
     "metadata": {},
     "output_type": "execute_result"
    }
   ],
   "source": [
    "s = (2,2)\n",
    "np.ones(s)"
   ]
  },
  {
   "cell_type": "code",
   "execution_count": 16,
   "metadata": {},
   "outputs": [
    {
     "data": {
      "text/plain": [
       "array([[1., 1.],\n",
       "       [1., 1.],\n",
       "       [1., 1.]])"
      ]
     },
     "execution_count": 16,
     "metadata": {},
     "output_type": "execute_result"
    }
   ],
   "source": [
    "arr=np.array([[1,2],[2,3],[3,4]])\n",
    "np.ones(arr.shape)"
   ]
  },
  {
   "cell_type": "markdown",
   "metadata": {},
   "source": [
    "### **numpy.multiply**\n",
    "\n",
    "`numpy.multiply(x1, x2, /, out=None, *, where=True, casting='same_kind', order='K', dtype=None, subok=True[, signature, extobj]) = <ufunc 'multiply'>`\n",
    "\n",
    "按元素相乘参数。\n",
    "\n",
    "- Parameters:\n",
    "  - x1, x2:array_like  \n",
    "    要相乘的输入数组。  \n",
    "    如果x1.shape！=x2.shape，它们必须可以广播到公共形状（这将成为输出的形状）。\n",
    "  - out:ndarray, None, or tuple of ndarray and None, optional  \n",
    "    存储结果的位置。  \n",
    "    如果提供，它必须具有输入广播到的形状。  \n",
    "    如果未提供或无，则返回新分配的数组。  \n",
    "    元组（只能作为关键字参数）的长度必须等于输出数。\n",
    "  - where:array_like, optional  \n",
    "    此条件通过输入广播。  \n",
    "    在条件为True的位置，输出数组将设置为ufunc结果。在其他地方，out数组将保留其原始值。  \n",
    "    请注意，如果通过默认out=None创建未初始化的输出数组，则其中条件为False的位置将保持未初始化状态。"
   ]
  },
  {
   "cell_type": "code",
   "execution_count": 21,
   "metadata": {},
   "outputs": [
    {
     "data": {
      "text/plain": [
       "8.0"
      ]
     },
     "execution_count": 21,
     "metadata": {},
     "output_type": "execute_result"
    }
   ],
   "source": [
    "# 标量相乘\n",
    "np.multiply(2.0, 4.0)"
   ]
  },
  {
   "cell_type": "code",
   "execution_count": 23,
   "metadata": {},
   "outputs": [
    {
     "name": "stdout",
     "output_type": "stream",
     "text": [
      "[[0. 1. 2.]\n",
      " [3. 4. 5.]\n",
      " [6. 7. 8.]]\n",
      "[0. 1. 2.]\n"
     ]
    },
    {
     "data": {
      "text/plain": [
       "array([[ 0.,  1.,  4.],\n",
       "       [ 0.,  4., 10.],\n",
       "       [ 0.,  7., 16.]])"
      ]
     },
     "execution_count": 23,
     "metadata": {},
     "output_type": "execute_result"
    }
   ],
   "source": [
    "x1 = np.arange(9.0).reshape((3, 3))\n",
    "print(x1)\n",
    "x2 = np.arange(3.0)\n",
    "print(x2)\n",
    "np.multiply(x1, x2)"
   ]
  },
  {
   "cell_type": "code",
   "execution_count": 24,
   "metadata": {},
   "outputs": [
    {
     "data": {
      "text/plain": [
       "array([[ 0.,  1.,  4.],\n",
       "       [ 0.,  4., 10.],\n",
       "       [ 0.,  7., 16.]])"
      ]
     },
     "execution_count": 24,
     "metadata": {},
     "output_type": "execute_result"
    }
   ],
   "source": [
    "# * 等价 np.multiply\n",
    "x1 = np.arange(9.0).reshape((3, 3))\n",
    "x2 = np.arange(3.0)\n",
    "x1 * x2"
   ]
  },
  {
   "cell_type": "code",
   "execution_count": 26,
   "metadata": {},
   "outputs": [
    {
     "name": "stdout",
     "output_type": "stream",
     "text": [
      "[1 2 3]\n",
      "[[1]\n",
      " [2]\n",
      " [3]]\n"
     ]
    },
    {
     "data": {
      "text/plain": [
       "array([[1, 2, 3],\n",
       "       [2, 4, 6],\n",
       "       [3, 6, 9]])"
      ]
     },
     "execution_count": 26,
     "metadata": {},
     "output_type": "execute_result"
    }
   ],
   "source": [
    "x1=np.array([1,2,3])\n",
    "print(x1)\n",
    "x2=np.array([[1],[2],[3]])\n",
    "print(x2)\n",
    "x1*x2"
   ]
  },
  {
   "cell_type": "markdown",
   "metadata": {},
   "source": [
    "### **numpy.multiply**\n",
    "\n",
    "`numpy.sign(x, /, out=None, *, where=True, casting='same_kind', order='K', dtype=None, subok=True[, signature, extobj]) = <ufunc 'sign'>`\n",
    "\n",
    "返回数字符号的逐元素指示。  \n",
    "The sign function returns `-1 if x < 0, 0 if x==0, 1 if x > 0`. nan is returned for nan inputs.  \n",
    "For complex (复数) inputs, the sign function returns `sign(x.real) + 0j if x.real != 0 else sign(x.imag) + 0j`.  \n",
    "complex(nan, 0) is returned for complex nan inputs.\n",
    "\n",
    "\n",
    "\n",
    "- Parameters:\n",
    "  - x:array_like  \n",
    "    输入值。\n",
    "  - out：ndarray, None, or tuple of ndarray and None, optional\n",
    "  - where:array_like, optional "
   ]
  },
  {
   "cell_type": "code",
   "execution_count": 27,
   "metadata": {},
   "outputs": [
    {
     "data": {
      "text/plain": [
       "array([-1.,  1.])"
      ]
     },
     "execution_count": 27,
     "metadata": {},
     "output_type": "execute_result"
    }
   ],
   "source": [
    "np.sign([-5., 4.5])"
   ]
  },
  {
   "cell_type": "code",
   "execution_count": 28,
   "metadata": {},
   "outputs": [
    {
     "data": {
      "text/plain": [
       "0"
      ]
     },
     "execution_count": 28,
     "metadata": {},
     "output_type": "execute_result"
    }
   ],
   "source": [
    "np.sign(0)"
   ]
  },
  {
   "cell_type": "code",
   "execution_count": 29,
   "metadata": {},
   "outputs": [
    {
     "data": {
      "text/plain": [
       "(1+0j)"
      ]
     },
     "execution_count": 29,
     "metadata": {},
     "output_type": "execute_result"
    }
   ],
   "source": [
    "np.sign(5-2j)"
   ]
  },
  {
   "cell_type": "code",
   "execution_count": null,
   "metadata": {},
   "outputs": [],
   "source": []
  }
 ],
 "metadata": {
  "kernelspec": {
   "display_name": "Python 3.9.12 ('base')",
   "language": "python",
   "name": "python3"
  },
  "language_info": {
   "codemirror_mode": {
    "name": "ipython",
    "version": 3
   },
   "file_extension": ".py",
   "mimetype": "text/x-python",
   "name": "python",
   "nbconvert_exporter": "python",
   "pygments_lexer": "ipython3",
   "version": "3.9.12"
  },
  "orig_nbformat": 4,
  "vscode": {
   "interpreter": {
    "hash": "a825f8e8905b8e64233e6384cfa1616d0baa442a3b458fa78e4916d5c671b0d4"
   }
  }
 },
 "nbformat": 4,
 "nbformat_minor": 2
}
