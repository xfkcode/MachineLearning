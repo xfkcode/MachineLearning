{
 "cells": [
  {
   "cell_type": "markdown",
   "metadata": {},
   "source": [
    "## **NumPy学习笔记3**⭐"
   ]
  },
  {
   "cell_type": "code",
   "execution_count": 1,
   "metadata": {},
   "outputs": [],
   "source": [
    "import numpy as  np"
   ]
  },
  {
   "cell_type": "markdown",
   "metadata": {},
   "source": [
    "### ***numpy.matrix***\n",
    "`class numpy.matrix(data, dtype=None, copy=True)`\n",
    "\n",
    "从类似数组的对象或数据字符串返回矩阵。  \n",
    "矩阵是一种特殊的二维阵列，通过运算保持其二维特性。  \n",
    "它有一些特殊的运算符，如*（矩阵乘法）和**（矩阵幂）。\n",
    "\n",
    "- Parameters:\n",
    "  - data: array_like or string  \n",
    "    如果数据是字符串，则它被解释为一个矩阵，用逗号或空格分隔列，用分号分隔行。\n",
    "  - dtype: data-type  \n",
    "    输出矩阵的数据类型。\n",
    "  - copy: bool  \n",
    "    如果数据已经是ndarray，则此标志确定是否复制数据（默认值 True），或是否构造视图。"
   ]
  },
  {
   "cell_type": "code",
   "execution_count": 3,
   "metadata": {},
   "outputs": [
    {
     "data": {
      "text/plain": [
       "matrix([[1, 2],\n",
       "        [3, 4]])"
      ]
     },
     "execution_count": 3,
     "metadata": {},
     "output_type": "execute_result"
    }
   ],
   "source": [
    "# string\n",
    "a = np.matrix('1 2; 3 4')\n",
    "a"
   ]
  },
  {
   "cell_type": "code",
   "execution_count": 4,
   "metadata": {},
   "outputs": [
    {
     "data": {
      "text/plain": [
       "matrix([[1, 2],\n",
       "        [3, 4]])"
      ]
     },
     "execution_count": 4,
     "metadata": {},
     "output_type": "execute_result"
    }
   ],
   "source": [
    "np.matrix([[1, 2], [3, 4]])"
   ]
  },
  {
   "cell_type": "markdown",
   "metadata": {},
   "source": [
    "### ***numpy.mat***  \n",
    "`numpy.mat(data, dtype=None)`\n",
    "\n",
    "将输入解释为矩阵。  \n",
    "Unlike `matrix` does not make a copy if the input is already a matrix or an ndarray.  \n",
    "Equivalent to `matrix(data, copy=False)`.\n",
    "\n",
    "- Parameters:\n",
    "  - data: array_like  \n",
    "    输入数据。\n",
    "  - dtype: data-type  \n",
    "    输出矩阵的数据类型。"
   ]
  },
  {
   "cell_type": "code",
   "execution_count": 7,
   "metadata": {},
   "outputs": [
    {
     "data": {
      "text/plain": [
       "matrix([[5, 2],\n",
       "        [3, 4]])"
      ]
     },
     "execution_count": 7,
     "metadata": {},
     "output_type": "execute_result"
    }
   ],
   "source": [
    "x=np.array([[1,2],[3,4]])\n",
    "m=np.mat(x)\n",
    "x[0,0]=5\n",
    "m"
   ]
  },
  {
   "cell_type": "code",
   "execution_count": 10,
   "metadata": {},
   "outputs": [
    {
     "data": {
      "text/plain": [
       "matrix([[1, 2],\n",
       "        [3, 4]])"
      ]
     },
     "execution_count": 10,
     "metadata": {},
     "output_type": "execute_result"
    }
   ],
   "source": [
    "x=np.array([[1,2],[3,4]])\n",
    "m=np.matrix(x)\n",
    "x[0,0]=5\n",
    "m"
   ]
  },
  {
   "cell_type": "markdown",
   "metadata": {},
   "source": [
    "### ***numpy.ones***\n",
    "`numpy.ones(shape, dtype=None, order='C', *, like=None)`\n",
    "\n",
    "返回一个给定形状和类型的新数组，并填充1。\n",
    "### ***numpy.zeros***\n",
    "`numpy.zeros(shape, dtype=float, order='C', *, like=None)`\n",
    "\n",
    "返回一个给定形状和类型的新数组，并填充0。\n",
    "- Parameters:\n",
    "  - shape: int or sequence of ints  \n",
    "    新数组形状。\n",
    "  - dtype: data-type, optional  \n",
    "    数组所需的数据类型（默认 `numpy.float64`）。\n",
    "  - order: {‘C’, ‘F’}, optional, default: C  \n",
    "    是按行主（C样式）还是列主（Fortran样式）顺序在内存中存储多维数据。\n",
    "  - like: array_like, optional  \n",
    "    引用对象以允许创建不是NumPy数组的数组。  \n",
    "    如果像这样传入的数组支持__array_function__协议，则结果将由其定义。  \n",
    "    在这种情况下，它确保创建与通过此参数传入的数组对象兼容的数组对象。"
   ]
  },
  {
   "cell_type": "code",
   "execution_count": 11,
   "metadata": {},
   "outputs": [
    {
     "data": {
      "text/plain": [
       "array([1., 1., 1., 1., 1.])"
      ]
     },
     "execution_count": 11,
     "metadata": {},
     "output_type": "execute_result"
    }
   ],
   "source": [
    "np.ones(5)"
   ]
  },
  {
   "cell_type": "code",
   "execution_count": 12,
   "metadata": {},
   "outputs": [
    {
     "data": {
      "text/plain": [
       "array([1, 1, 1, 1, 1])"
      ]
     },
     "execution_count": 12,
     "metadata": {},
     "output_type": "execute_result"
    }
   ],
   "source": [
    "np.ones((5,), dtype=int)"
   ]
  },
  {
   "cell_type": "code",
   "execution_count": 13,
   "metadata": {},
   "outputs": [
    {
     "data": {
      "text/plain": [
       "array([[1.],\n",
       "       [1.]])"
      ]
     },
     "execution_count": 13,
     "metadata": {},
     "output_type": "execute_result"
    }
   ],
   "source": [
    "np.ones((2, 1))"
   ]
  },
  {
   "cell_type": "code",
   "execution_count": 14,
   "metadata": {},
   "outputs": [
    {
     "data": {
      "text/plain": [
       "array([[1., 1.],\n",
       "       [1., 1.]])"
      ]
     },
     "execution_count": 14,
     "metadata": {},
     "output_type": "execute_result"
    }
   ],
   "source": [
    "s = (2,2)\n",
    "np.ones(s)"
   ]
  },
  {
   "cell_type": "code",
   "execution_count": 16,
   "metadata": {},
   "outputs": [
    {
     "data": {
      "text/plain": [
       "array([[1., 1.],\n",
       "       [1., 1.],\n",
       "       [1., 1.]])"
      ]
     },
     "execution_count": 16,
     "metadata": {},
     "output_type": "execute_result"
    }
   ],
   "source": [
    "arr=np.array([[1,2],[2,3],[3,4]])\n",
    "np.ones(arr.shape)"
   ]
  }
 ],
 "metadata": {
  "kernelspec": {
   "display_name": "Python 3.9.12 ('base')",
   "language": "python",
   "name": "python3"
  },
  "language_info": {
   "codemirror_mode": {
    "name": "ipython",
    "version": 3
   },
   "file_extension": ".py",
   "mimetype": "text/x-python",
   "name": "python",
   "nbconvert_exporter": "python",
   "pygments_lexer": "ipython3",
   "version": "3.9.12"
  },
  "orig_nbformat": 4,
  "vscode": {
   "interpreter": {
    "hash": "a825f8e8905b8e64233e6384cfa1616d0baa442a3b458fa78e4916d5c671b0d4"
   }
  }
 },
 "nbformat": 4,
 "nbformat_minor": 2
}
