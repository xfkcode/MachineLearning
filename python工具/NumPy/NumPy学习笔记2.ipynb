{
 "cells": [
  {
   "cell_type": "markdown",
   "metadata": {},
   "source": [
    "## **NumPy学习笔记2**⭐"
   ]
  },
  {
   "cell_type": "code",
   "execution_count": 2,
   "metadata": {},
   "outputs": [],
   "source": [
    "import numpy as  np"
   ]
  },
  {
   "cell_type": "markdown",
   "metadata": {},
   "source": [
    "#### tile函数\n",
    "\n",
    "- 用法：`np.tile(A,res)`\n",
    "\n",
    "- 作用：tile这个函数把数组 A 当成一个元素来构造 shape 为 res 的数组\n",
    "\n",
    "- 参数说明：\n",
    "  - A 是个数组\n",
    "  - reps 是个元组 "
   ]
  },
  {
   "cell_type": "code",
   "execution_count": 3,
   "metadata": {},
   "outputs": [
    {
     "data": {
      "text/plain": [
       "array([0, 1, 2, 3, 0, 1, 2, 3])"
      ]
     },
     "execution_count": 3,
     "metadata": {},
     "output_type": "execute_result"
    }
   ],
   "source": [
    "a = np.array([0,1,2,3])\n",
    "np.tile(a, 2)"
   ]
  },
  {
   "cell_type": "code",
   "execution_count": 4,
   "metadata": {},
   "outputs": [
    {
     "data": {
      "text/plain": [
       "array([[0, 1, 2, 3, 0, 1, 2, 3],\n",
       "       [0, 1, 2, 3, 0, 1, 2, 3]])"
      ]
     },
     "execution_count": 4,
     "metadata": {},
     "output_type": "execute_result"
    }
   ],
   "source": [
    "a = np.array([0,1,2,3])\n",
    "np.tile(a, (2,2))"
   ]
  },
  {
   "cell_type": "code",
   "execution_count": 5,
   "metadata": {},
   "outputs": [
    {
     "data": {
      "text/plain": [
       "array([[[0, 1, 2, 3, 0, 1, 2, 3]],\n",
       "\n",
       "       [[0, 1, 2, 3, 0, 1, 2, 3]]])"
      ]
     },
     "execution_count": 5,
     "metadata": {},
     "output_type": "execute_result"
    }
   ],
   "source": [
    "a = np.array([0,1,2,3])\n",
    "np.tile(a, (2,1,2))"
   ]
  },
  {
   "cell_type": "code",
   "execution_count": 10,
   "metadata": {},
   "outputs": [
    {
     "name": "stdout",
     "output_type": "stream",
     "text": [
      "[[101  20]\n",
      " [101  20]\n",
      " [101  20]\n",
      " [101  20]]\n"
     ]
    }
   ],
   "source": [
    "dataSet = np.array([[1,101],[5,89],[108,5],[115,8]])\n",
    "dataSetSize = dataSet.shape[0]\n",
    "diffMat = np.tile([101,20], (dataSetSize, 1))\n",
    "print(diffMat)"
   ]
  },
  {
   "cell_type": "markdown",
   "metadata": {},
   "source": [
    "#### argsort函数\n",
    "\n",
    "- 用法：`np.argsort(a, axis=-1, kind='quicksort', order=None)`\n",
    "\n",
    "- 作用：将 a 中的元素从小到大排列 (升序)，提取其在排列前对应的 index (索引) 输出\n",
    "\n",
    "- 参数说明：\n",
    "  - a 是个数组\n",
    "  - axis 默认为-1\n",
    "  - kind 默认为'quicksort'快排\n",
    "  - order 如果数组包含字段，则是要排序的字段"
   ]
  },
  {
   "cell_type": "code",
   "execution_count": 11,
   "metadata": {},
   "outputs": [
    {
     "name": "stdout",
     "output_type": "stream",
     "text": [
      "一维数组的排序结果：[3 0 2 1 4 5]\n"
     ]
    }
   ],
   "source": [
    "# 一维数组\n",
    "x=np.array([1,4,3,-1,6,9])\n",
    "y=np.argsort(x)\n",
    "print('一维数组的排序结果：{}'.format(y))"
   ]
  },
  {
   "cell_type": "code",
   "execution_count": 14,
   "metadata": {},
   "outputs": [
    {
     "name": "stdout",
     "output_type": "stream",
     "text": [
      "[[1 0 0]\n",
      " [0 1 1]]\n",
      "[[0 2 1]\n",
      " [0 1 2]]\n"
     ]
    }
   ],
   "source": [
    "# 二维数组\n",
    "x = np.array([[1,5,4],[-1,6,9]])\n",
    "# 沿着行向下(每列)的元素进行排序\n",
    "print(np.argsort(x,axis=0))\n",
    "# 沿着列向右(每行)的元素进行排序\n",
    "print(np.argsort(x,axis=1))"
   ]
  },
  {
   "cell_type": "code",
   "execution_count": null,
   "metadata": {},
   "outputs": [],
   "source": []
  }
 ],
 "metadata": {
  "kernelspec": {
   "display_name": "Python 3.9.12 ('base')",
   "language": "python",
   "name": "python3"
  },
  "language_info": {
   "codemirror_mode": {
    "name": "ipython",
    "version": 3
   },
   "file_extension": ".py",
   "mimetype": "text/x-python",
   "name": "python",
   "nbconvert_exporter": "python",
   "pygments_lexer": "ipython3",
   "version": "3.9.12"
  },
  "orig_nbformat": 4,
  "vscode": {
   "interpreter": {
    "hash": "a825f8e8905b8e64233e6384cfa1616d0baa442a3b458fa78e4916d5c671b0d4"
   }
  }
 },
 "nbformat": 4,
 "nbformat_minor": 2
}
