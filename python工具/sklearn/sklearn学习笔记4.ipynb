{
 "cells": [
  {
   "cell_type": "markdown",
   "metadata": {},
   "source": [
    "## **sklearn学习笔记4**⭐\n",
    "***ROC Curve*** (Receiver Operating Characteristic)  \n",
    "***AUC*** (Area Under ROC Curve)"
   ]
  },
  {
   "cell_type": "markdown",
   "metadata": {},
   "source": [
    "#### 🧰[***sklearn.metrics.roc_curve***](https://scikit-learn.org/stable/modules/generated/sklearn.metrics.roc_curve.html#sklearn.metrics.roc_curve)\n",
    "```python\n",
    "sklearn.metrics.roc_curve(y_true, y_score, *, pos_label=None, sample_weight=None, drop_intermediate=True)\n",
    "```\n",
    "计算ROC。  \n",
    "严格遵循二进制分类任务。\n",
    "\n",
    "- Parameters:\n",
    "  - y_true: ndarray of shape (n_samples,)  \n",
    "    真正的二进制标签。  \n",
    "    如果标签不是｛-1，1｝或｛0，1｝，则应显式给出pos_label。\n",
    "  - y_score: ndarray of shape (n_samples,)  \n",
    "    目标分数可以是正类的概率估计、置信值，也可以是决策的非阈值度量（由某些分类器上的“decision_function”返回）。\n",
    "  - pos_label: int or str, default=None  \n",
    "    正类的标签。当pos_label＝None时，如果y_true在｛-1，1｝或｛0，1｝中，则pos_label设置为1，否则将引发错误。\n",
    "  - sample_weight: array-like of shape (n_samples,), default=None  \n",
    "    样本权重。\n",
    "  - drop_intermediate: bool, default=True  \n",
    "    是否降低一些不会出现在绘制的ROC曲线上的次优阈值。这对于创建较轻的ROC曲线非常有用。\n",
    "- Returns:\n",
    "  - fpr: ndarray of shape (>2,)\n",
    "  - tpr: ndarray of shape (>2,)\n",
    "  - thresholds: ndarray of shape = (n_thresholds,)"
   ]
  },
  {
   "cell_type": "code",
   "execution_count": 17,
   "metadata": {},
   "outputs": [
    {
     "data": {
      "text/plain": [
       "(array([0. , 0. , 0.5, 0.5, 1. ]),\n",
       " array([0. , 0.5, 0.5, 1. , 1. ]),\n",
       " array([1.8 , 0.8 , 0.4 , 0.35, 0.1 ]))"
      ]
     },
     "execution_count": 17,
     "metadata": {},
     "output_type": "execute_result"
    }
   ],
   "source": [
    "import numpy as np\n",
    "from sklearn import metrics\n",
    "y = np.array([1, 1, 2, 2])\n",
    "scores = np.array([0.1, 0.4, 0.35, 0.8])\n",
    "fpr, tpr, thresholds = metrics.roc_curve(y, scores, pos_label=2)\n",
    "fpr,tpr,thresholds"
   ]
  },
  {
   "cell_type": "markdown",
   "metadata": {},
   "source": [
    "#### 🧰[***sklearn.metrics.auc***](https://scikit-learn.org/stable/modules/generated/sklearn.metrics.auc.html#sklearn.metrics.auc)\n",
    "```python\n",
    "sklearn.metrics.auc(x, y)\n",
    "```\n",
    "使用梯形规则计算曲线下面积（AUC）。  \n",
    "这是一个一般函数，给定曲线上的点。\n",
    "\n",
    "- Parameters:\n",
    "  - x: ndarray of shape (n,)   \n",
    "    X坐标。  \n",
    "    这些必须是单调递增或单调递减。\n",
    "  - y: ndarray of shape, (n,)  \n",
    "    Y坐标。\n",
    "- Returns:\n",
    "  - auc: float  \n",
    "    曲线下面积。"
   ]
  },
  {
   "cell_type": "code",
   "execution_count": 18,
   "metadata": {},
   "outputs": [
    {
     "data": {
      "text/plain": [
       "0.75"
      ]
     },
     "execution_count": 18,
     "metadata": {},
     "output_type": "execute_result"
    }
   ],
   "source": [
    "import numpy as np\n",
    "from sklearn import metrics\n",
    "y = np.array([1, 1, 2, 2])\n",
    "pred = np.array([0.1, 0.4, 0.35, 0.8])\n",
    "fpr, tpr, thresholds = metrics.roc_curve(y, pred, pos_label=2)\n",
    "metrics.auc(fpr, tpr)"
   ]
  },
  {
   "cell_type": "markdown",
   "metadata": {},
   "source": [
    "#### 🧰[***sklearn.metrics.roc_auc_score***](https://scikit-learn.org/stable/modules/generated/sklearn.metrics.roc_auc_score.html#sklearn.metrics.roc_auc_score)\n",
    "```python\n",
    "sklearn.metrics.roc_auc_score(y_true, y_score, *, average='macro', sample_weight=None, max_fpr=None, multi_class='raise', labels=None)\n",
    "```\n",
    "根据预测计算ROC曲线下的面积（ROC AUC）。  \n",
    "注意：此实现可以用于二进制、多类和多标签分类，但有一些限制（请参见参数）。\n",
    "\n",
    "- Parameters:\n",
    "  - y_true: array-like of shape (n_samples,) or (n_samples, n_classes)  \n",
    "    真标签或二进制标签指示器。  \n",
    "    二进制和多类情况下需要具有形状（n_samples，）的标签，而多标签情况下需要带有形状（n_samples，n_class）的二进制标签指示符。\n",
    "  - y_score: array-like of shape (n_samples,) or (n_samples, n_classes)  \n",
    "    目标分数。\n",
    "    - binary case:  \n",
    "      对应于形状（n_samples，）数组。可以提供概率估计和非阈值判定值。  \n",
    "      概率估计对应于具有较大标签的类的概率`estimator.predict_proba(X, y)[:, 1]`；  \n",
    "      决策值对应于`estimator.decision_function(X, y)`。\n",
    "    - multiclass case:\n",
    "      对应于由predict_proba方法提供的概率估计的形状（n_samples, n_classes）数组。  \n",
    "      概率估计值必须在所有可能的类别中总和为1。此外，类分数的顺序必须对应于标签的顺序（如果提供），或者对应于y_true中标签的数字或词典顺序。\n",
    "    - multilabel case:\n",
    "      对应于形状（n_samples, n_classes）数组。  \n",
    "      概率估计由predict_proba方法提供，非阈值决策值由decision_function方法提供。概率估计对应于分类器的每个输出具有较大标签的类的概率。\n",
    "  - average: {‘micro’, ‘macro’, ‘samples’, ‘weighted’} or None, default=’macro’  \n",
    "    如果为“无”，则返回每个类的分数。否则，这将确定对数据执行的平均类型。  \n",
    "    注：多类ROC AUC目前仅处理“宏观”和“加权”平均值。对于多类目标，仅对multi_class='ovo'实现average=None。\n",
    "    - `micro`: 通过将标签指示符矩阵的每个元素视为标签来全局计算度量。\n",
    "    - `macro`: 计算每个标签的度量，并找到它们的未加权平均值。这没有考虑到标签不平衡。\n",
    "    - `weighted`: 计算每个标签的度量值，并找到它们的平均值，按支持度加权（每个标签的真实实例数）。\n",
    "    - `samples`: 计算每个实例的指标，并找出它们的平均值。\n",
    "  \n",
    "    当y_true为二进制时将被忽略。\n",
    "  - sample_weight: array-like of shape (n_samples,), default=None  \n",
    "    样本权重。\n",
    "  - max_fpr: float > 0 and <= 1, default=None  \n",
    "    如果不是None，则返回范围[0，max_fpr]上的标准化部分AUC。  \n",
    "    对于多类情况，max_fpr应等于None或1.0，因为多类当前不支持AUC ROC部分计算。\n",
    "  - multi_class: {‘raise’, ‘ovr’, ‘ovo’}, default=’raise’  \n",
    "    仅用于多类目标。确定要使用的配置类型。默认值 引发错误，因此必须显式传递“ovr”或“ovo”。  \n",
    "    - `ovr`: Stands for One-vs-rest. \n",
    "    - `ovo`: Stands for One-vs-one. \n",
    "  - labels: array-like of shape (n_classes,), default=None  \n",
    "    仅用于多类目标。索引y_score中的类的标签列表。如果为“无”，则使用y_true中标签的数字或词典顺序。\n",
    "- Returns:\n",
    "  - auc: float  \n",
    "    曲线下面积。\n"
   ]
  },
  {
   "cell_type": "markdown",
   "metadata": {},
   "source": [
    "***Binary case:***"
   ]
  },
  {
   "cell_type": "code",
   "execution_count": 22,
   "metadata": {},
   "outputs": [
    {
     "name": "stdout",
     "output_type": "stream",
     "text": [
      "0.9946488029173934\n",
      "0.9946488029173934\n"
     ]
    }
   ],
   "source": [
    "from sklearn.datasets import load_breast_cancer\n",
    "from sklearn.linear_model import LogisticRegression\n",
    "from sklearn.metrics import roc_auc_score\n",
    "X, y = load_breast_cancer(return_X_y=True)\n",
    "clf = LogisticRegression(solver=\"liblinear\", random_state=0).fit(X, y)\n",
    "print(roc_auc_score(y, clf.predict_proba(X)[:, 1]))\n",
    "\n",
    "print(roc_auc_score(y, clf.decision_function(X)))"
   ]
  },
  {
   "cell_type": "markdown",
   "metadata": {},
   "source": [
    "***Multiclass case:***"
   ]
  },
  {
   "cell_type": "code",
   "execution_count": 20,
   "metadata": {},
   "outputs": [
    {
     "data": {
      "text/plain": [
       "0.9913333333333334"
      ]
     },
     "execution_count": 20,
     "metadata": {},
     "output_type": "execute_result"
    }
   ],
   "source": [
    "from sklearn.datasets import load_iris\n",
    "X, y = load_iris(return_X_y=True)\n",
    "clf = LogisticRegression(solver=\"liblinear\").fit(X, y)\n",
    "roc_auc_score(y, clf.predict_proba(X), multi_class='ovr')"
   ]
  },
  {
   "cell_type": "markdown",
   "metadata": {},
   "source": [
    "***Multilabel case:***"
   ]
  },
  {
   "cell_type": "code",
   "execution_count": 23,
   "metadata": {},
   "outputs": [
    {
     "name": "stdout",
     "output_type": "stream",
     "text": [
      "[0.82664884 0.86034414 0.94181818 0.8502652  0.94809095]\n",
      "[0.81996435 0.8467387  0.93090909 0.87229702 0.94422994]\n"
     ]
    }
   ],
   "source": [
    "import numpy as np\n",
    "from sklearn.datasets import make_multilabel_classification\n",
    "from sklearn.multioutput import MultiOutputClassifier\n",
    "X, y = make_multilabel_classification(random_state=0)\n",
    "clf = MultiOutputClassifier(clf).fit(X, y)\n",
    "# get a list of n_output containing probability arrays of shape\n",
    "# (n_samples, n_classes)\n",
    "y_pred = clf.predict_proba(X)\n",
    "# extract the positive columns for each output\n",
    "y_pred = np.transpose([pred[:, 1] for pred in y_pred])\n",
    "print(roc_auc_score(y, y_pred, average=None))\n",
    "\n",
    "from sklearn.linear_model import RidgeClassifierCV\n",
    "clf = RidgeClassifierCV().fit(X, y)\n",
    "print(roc_auc_score(y, clf.decision_function(X), average=None))\n"
   ]
  },
  {
   "cell_type": "markdown",
   "metadata": {},
   "source": [
    "### ***Example ROC/AUC plot***📐"
   ]
  },
  {
   "cell_type": "code",
   "execution_count": 1,
   "metadata": {},
   "outputs": [],
   "source": [
    "import numpy as np\n",
    "import matplotlib.pyplot as plt\n",
    "from itertools import cycle\n",
    "\n",
    "from sklearn import svm, datasets\n",
    "from sklearn.metrics import roc_curve, auc\n",
    "from sklearn.model_selection import train_test_split\n",
    "from sklearn.preprocessing import label_binarize\n",
    "from sklearn.multiclass import OneVsRestClassifier\n",
    "from sklearn.metrics import roc_auc_score"
   ]
  },
  {
   "cell_type": "code",
   "execution_count": 6,
   "metadata": {},
   "outputs": [],
   "source": [
    "# Import some data to play with\n",
    "iris = datasets.load_iris()\n",
    "X = iris.data\n",
    "y = iris.target"
   ]
  },
  {
   "cell_type": "code",
   "execution_count": 7,
   "metadata": {},
   "outputs": [],
   "source": [
    "# Binarize the output\n",
    "y = label_binarize(y, classes=[0, 1, 2]) # onehot编码\n",
    "n_classes = y.shape[1] # 类别数量"
   ]
  },
  {
   "cell_type": "code",
   "execution_count": 8,
   "metadata": {},
   "outputs": [],
   "source": [
    "# Add noisy features to make the problem harder\n",
    "random_state = np.random.RandomState(0)\n",
    "n_samples, n_features = X.shape\n",
    "X = np.c_[X, random_state.randn(n_samples, 200 * n_features)]"
   ]
  },
  {
   "cell_type": "code",
   "execution_count": 10,
   "metadata": {},
   "outputs": [],
   "source": [
    "# shuffle and split training and test sets\n",
    "X_train, X_test, y_train, y_test = train_test_split(X, y, test_size=0.5, random_state=0)\n",
    "# Learn to predict each class against the other\n",
    "classifier = OneVsRestClassifier(\n",
    "    svm.SVC(kernel=\"linear\", probability=True, random_state=random_state)\n",
    ")\n",
    "y_score = classifier.fit(X_train, y_train).decision_function(X_test)"
   ]
  },
  {
   "cell_type": "code",
   "execution_count": 13,
   "metadata": {},
   "outputs": [],
   "source": [
    "# Compute ROC curve and ROC area for each class\n",
    "fpr = dict()\n",
    "tpr = dict()\n",
    "roc_auc = dict()\n",
    "for i in range(n_classes):\n",
    "    fpr[i], tpr[i], _ = roc_curve(y_test[:, i], y_score[:, i])\n",
    "    roc_auc[i] = auc(fpr[i], tpr[i])\n",
    "    \n",
    "# Compute micro-average ROC curve and ROC area\n",
    "fpr[\"micro\"], tpr[\"micro\"], _ = roc_curve(y_test.ravel(), y_score.ravel())\n",
    "roc_auc[\"micro\"] = auc(fpr[\"micro\"], tpr[\"micro\"])"
   ]
  },
  {
   "cell_type": "markdown",
   "metadata": {},
   "source": [
    "### ***Plot of a ROC curve for a specific class***"
   ]
  },
  {
   "cell_type": "code",
   "execution_count": 14,
   "metadata": {},
   "outputs": [
    {
     "data": {
      "image/png": "[encoded data removed]",
      "text/plain": [
       "<Figure size 432x288 with 1 Axes>"
      ]
     },
     "metadata": {
      "needs_background": "light"
     },
     "output_type": "display_data"
    }
   ],
   "source": [
    "plt.figure()\n",
    "lw = 2\n",
    "plt.plot(\n",
    "    fpr[2],\n",
    "    tpr[2],\n",
    "    color=\"darkorange\",\n",
    "    lw=lw,\n",
    "    label=\"ROC curve (area = %0.2f)\" % roc_auc[2],\n",
    ")\n",
    "plt.plot([0, 1], [0, 1], color=\"navy\", lw=lw, linestyle=\"--\")\n",
    "plt.xlim([0.0, 1.0])\n",
    "plt.ylim([0.0, 1.05])\n",
    "plt.xlabel(\"False Positive Rate\")\n",
    "plt.ylabel(\"True Positive Rate\")\n",
    "plt.title(\"Receiver operating characteristic example\")\n",
    "plt.legend(loc=\"lower right\")\n",
    "plt.show()"
   ]
  },
  {
   "cell_type": "markdown",
   "metadata": {},
   "source": [
    "### ***Plot ROC curves for the multiclass problem***"
   ]
  },
  {
   "cell_type": "code",
   "execution_count": 15,
   "metadata": {},
   "outputs": [
    {
     "data": {
      "image/png": "[encoded data removed]",
      "text/plain": [
       "<Figure size 432x288 with 1 Axes>"
      ]
     },
     "metadata": {
      "needs_background": "light"
     },
     "output_type": "display_data"
    }
   ],
   "source": [
    "# First aggregate all false positive rates\n",
    "all_fpr = np.unique(np.concatenate([fpr[i] for i in range(n_classes)]))\n",
    "\n",
    "# Then interpolate all ROC curves at this points\n",
    "mean_tpr = np.zeros_like(all_fpr)\n",
    "for i in range(n_classes):\n",
    "    mean_tpr += np.interp(all_fpr, fpr[i], tpr[i])\n",
    "\n",
    "# Finally average it and compute AUC\n",
    "mean_tpr /= n_classes\n",
    "\n",
    "fpr[\"macro\"] = all_fpr\n",
    "tpr[\"macro\"] = mean_tpr\n",
    "roc_auc[\"macro\"] = auc(fpr[\"macro\"], tpr[\"macro\"])\n",
    "\n",
    "# Plot all ROC curves\n",
    "plt.figure()\n",
    "plt.plot(\n",
    "    fpr[\"micro\"],\n",
    "    tpr[\"micro\"],\n",
    "    label=\"micro-average ROC curve (area = {0:0.2f})\".format(roc_auc[\"micro\"]),\n",
    "    color=\"deeppink\",\n",
    "    linestyle=\":\",\n",
    "    linewidth=4,\n",
    ")\n",
    "\n",
    "plt.plot(\n",
    "    fpr[\"macro\"],\n",
    "    tpr[\"macro\"],\n",
    "    label=\"macro-average ROC curve (area = {0:0.2f})\".format(roc_auc[\"macro\"]),\n",
    "    color=\"navy\",\n",
    "    linestyle=\":\",\n",
    "    linewidth=4,\n",
    ")\n",
    "\n",
    "colors = cycle([\"aqua\", \"darkorange\", \"cornflowerblue\"])\n",
    "for i, color in zip(range(n_classes), colors):\n",
    "    plt.plot(\n",
    "        fpr[i],\n",
    "        tpr[i],\n",
    "        color=color,\n",
    "        lw=lw,\n",
    "        label=\"ROC curve of class {0} (area = {1:0.2f})\".format(i, roc_auc[i]),\n",
    "    )\n",
    "\n",
    "plt.plot([0, 1], [0, 1], \"k--\", lw=lw)\n",
    "plt.xlim([0.0, 1.0])\n",
    "plt.ylim([0.0, 1.05])\n",
    "plt.xlabel(\"False Positive Rate\")\n",
    "plt.ylabel(\"True Positive Rate\")\n",
    "plt.title(\"Some extension of Receiver operating characteristic to multiclass\")\n",
    "plt.legend(loc=\"lower right\")\n",
    "plt.show()"
   ]
  },
  {
   "cell_type": "markdown",
   "metadata": {},
   "source": [
    "### ***Area under ROC for the multiclass problem***"
   ]
  },
  {
   "cell_type": "code",
   "execution_count": 16,
   "metadata": {},
   "outputs": [
    {
     "name": "stdout",
     "output_type": "stream",
     "text": [
      "One-vs-One ROC AUC scores:\n",
      "0.698586 (macro),\n",
      "0.665839 (weighted by prevalence)\n",
      "One-vs-Rest ROC AUC scores:\n",
      "0.698586 (macro),\n",
      "0.665839 (weighted by prevalence)\n"
     ]
    }
   ],
   "source": [
    "y_prob = classifier.predict_proba(X_test)\n",
    "\n",
    "macro_roc_auc_ovo = roc_auc_score(y_test, y_prob, multi_class=\"ovo\", average=\"macro\")\n",
    "weighted_roc_auc_ovo = roc_auc_score(\n",
    "    y_test, y_prob, multi_class=\"ovo\", average=\"weighted\"\n",
    ")\n",
    "macro_roc_auc_ovr = roc_auc_score(y_test, y_prob, multi_class=\"ovr\", average=\"macro\")\n",
    "weighted_roc_auc_ovr = roc_auc_score(\n",
    "    y_test, y_prob, multi_class=\"ovr\", average=\"weighted\"\n",
    ")\n",
    "print(\n",
    "    \"One-vs-One ROC AUC scores:\\n{:.6f} (macro),\\n{:.6f} \"\n",
    "    \"(weighted by prevalence)\".format(macro_roc_auc_ovo, weighted_roc_auc_ovo)\n",
    ")\n",
    "print(\n",
    "    \"One-vs-Rest ROC AUC scores:\\n{:.6f} (macro),\\n{:.6f} \"\n",
    "    \"(weighted by prevalence)\".format(macro_roc_auc_ovr, weighted_roc_auc_ovr)\n",
    ")"
   ]
  },
  {
   "cell_type": "code",
   "execution_count": null,
   "metadata": {},
   "outputs": [],
   "source": []
  }
 ],
 "metadata": {
  "kernelspec": {
   "display_name": "Python 3.9.12 ('base')",
   "language": "python",
   "name": "python3"
  },
  "language_info": {
   "codemirror_mode": {
    "name": "ipython",
    "version": 3
   },
   "file_extension": ".py",
   "mimetype": "text/x-python",
   "name": "python",
   "nbconvert_exporter": "python",
   "pygments_lexer": "ipython3",
   "version": "3.9.12"
  },
  "orig_nbformat": 4,
  "vscode": {
   "interpreter": {
    "hash": "a825f8e8905b8e64233e6384cfa1616d0baa442a3b458fa78e4916d5c671b0d4"
   }
  }
 },
 "nbformat": 4,
 "nbformat_minor": 2
}
