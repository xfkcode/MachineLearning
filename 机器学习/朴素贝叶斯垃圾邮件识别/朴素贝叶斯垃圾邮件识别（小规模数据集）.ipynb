{
 "cells": [
  {
   "cell_type": "markdown",
   "metadata": {},
   "source": [
    "# 朴素贝叶斯垃圾邮件识别\n",
    "---\n",
    "## 一.案例介绍\n",
    "电子邮件是互联网的一项重要服务，在大家的学习、工作和生活中会广泛使用。但是大家的邮箱常常被各种各样的垃圾邮件填充了。有统计显示，每天互联网上产生的垃圾邮件有几百亿近千亿的量级。  \n",
    "因此，对电子邮件服务提供商来说，垃圾邮件过滤是一项重要功能。而朴素贝叶斯算法在垃圾邮件识别任务上一直表现非常好，至今仍然有很多系统在使用朴素贝叶斯算法作为基本的垃圾邮件识别算法。\n",
    "\n",
    "本次实验数据集来自[Trec06](https://plg.uwaterloo.ca/cgi-bin/cgiwrap/gvcormac/foo06)的中文垃圾邮件数据集，目录解压后包含三个文件夹，其中data目录下是所有的邮件（未分词），已分词好的邮件在data_cut目录下。  \n",
    "邮件分为邮件头部分和正文部分，两部分之间一般有空行隔开。标签数据在label文件夹下，文件中每行是标签和对应的邮件路径。‘spam’表示垃圾邮件，‘ham’表示正常邮件。\n"
   ]
  },
  {
   "cell_type": "code",
   "execution_count": 17,
   "metadata": {},
   "outputs": [],
   "source": [
    "import os\n",
    "import jieba\n",
    "import re\n",
    "import random"
   ]
  },
  {
   "cell_type": "markdown",
   "metadata": {},
   "source": [
    "## 二.邮件正文文本特征以及标签提取\n",
    "\n",
    "- **小规模数据集**：\"./trec06c-utf8/data/000/\"📂路径下 ***300*** 条邮件📧"
   ]
  },
  {
   "cell_type": "code",
   "execution_count": 18,
   "metadata": {},
   "outputs": [
    {
     "name": "stdout",
     "output_type": "stream",
     "text": [
      "['课程', '背景', '每', '一位', '管理', '和', '技术人员', '都', '清楚', '地', '懂得', '单纯', '从', '技术', '角度', '衡量', '为', '合算', '的', '方案', '也许', '却是', '一个', '财务', '陷阱', '表面', '赢利', '而', '暗地里', '亏损', '使', '经营者', '无法', '接受', '如何', '将', '技术手段', '与', '财务', '运作', '相结合', '使', '每位', '管理', '和', '技术人员', '都', '从', '本', '课程', '通过', '沙盘', '模拟', '和', '案例', '分析', '使', '企业', '各级', '管理', '和', '技术人员', '掌握', '财务管理', '知识', '利用', '财务', '信息', '改进', '管理决策', '实现', '管理', '效益', '最大化', '通过', '学习', '本', '课程', '您', '将', '对', '会计', '与', '财务管理', '有', '基本', '了解', '提高', '日常', '管理', '活动', '的', '财务', '可行性', '通过', '分析', '关键', '业绩', '指标', '形成', '战略规划', '与', '全面', '预算', '突出', '企业', '管理', '的', '重心', '形成', '管理', '的', '系统性', '课程', '大纲', '一', '财务', '工作', '内容', '及', '作用', '财务', '专家', '的', '思维', '模式', '财务', '工作', '的', '基本', '内容', '管理者', '如何', '利用', '财务', '进行', '管理', '和', '决策', '二', '如何', '阅读', '和', '分析', '财务报表', '会计报表', '的', '构成', '损益表', '的', '阅读', '与', '分析', '资产', '负债表', '的', '阅读', '与', '分析', '资金', '流量', '和', '现金流量', '表', '的', '阅读', '与', '分析', '会计报表', '之间', '的', '关系', '案例', '分析', '读', '报表', '判断', '企业', '业绩', '水平', '三', '如何', '运用', '财务', '手段', '进行', '成本', '控制', '产品成本', '的', '概念', '和', '构成', '本浚利', '分析', '与', '运用', '标准', '成本', '制度', '在', '成本', '控制', '中', '的', '作用', '如何', '运用', '目标', '成本法', '控制', '产品成本', '保证', '利润', '水平', '如何', '运用', '作业', '成本法', '进行', '管理', '分析', '实施', '精细', '成本', '管理', '如何', '针对', '沉没', '成本', '和', '机会成本', '进行', '正确', '决策', '如何', '改善', '采购', '生产', '等', '环节', '的', '运作', '以', '改良', '企业', '的', '整体', '财务状况', '综合', '案例', '分析', '管理', '和', '技术', '方案', '的', '可行性', '分析', '新', '产品开发', '中', '的', '财务', '可行性', '分析', '产品', '增产', '减产', '时', '的', '财务', '可行性', '分析', '生产', '设备', '改造', '与', '更新', '的', '决策分析', '投资', '项目', '的', '现金流', '分析', '投资', '项目', '评价', '方法', '净', '现值', '法分析', '资金', '时间', '价值', '分析', '综合', '案例', '演练', '五', '公司', '费用', '及其', '控制', '公司', '费用', '的', '构成', '控制', '费用', '的', '方法', '影响', '费用', '诸', '因素', '的', '分析', '如何', '针对', '成本', '中心', '进行', '费用', '控制', '如何', '针对', '利润', '中心', '进行', '业绩考核', '如何', '针对', '投资', '中心', '进行', '业绩', '评价', '公司财务', '分析', '的', '核心', '思路', '关键', '财务指标', '解析', '盈利', '能力', '分析', '资产', '回报率', '股东权益', '回报率', '资产', '流动', '速率', '风险', '指数', '分析', '流动比率', '负债', '权益', '比率', '营运', '偿债', '能力', '财务报表', '综合', '解读', '综合', '运用', '财务', '信息', '透视', '公司', '运作', '水平', '案例', '分析', '某', '上市公司', '的', '财务状况', '分析', '与', '评价', '七', '企业', '运营', '管理', '沙盘', '模拟', '经', '导师', '简介', '会', '认证', '职业', '培训师', '历任', '跨国公司', '生产', '负责人', '工业', '工程', '经理', '管理', '会计', '分析师', '营运', '总监', '等', '高级', '管理', '职务', '多年', '同时', '还', '担任', '价值', '工程', '杂志', '审稿人', '辽宁省', '营口市', '商业银行', '独立', '董事', '等', '职务', '对', '企业', '管理', '有', '较', '深入', '的', '研究', '王老师', '主要', '从事', '技术', '应用', '成本', '控制', '管理', '会计', '决策', '等', '课程', '的', '讲授', '先后', '为', '松下', '可口可乐', '康师傅', '汇源', '果汁', '雪津', '啤酒', '吉百利', '食品', '冠捷', '电子', '明达', '塑胶', '正新', '橡胶', '美国', '集团', '金山', '石化', '中国', '化工', '进出口', '公司', '正大', '集团', '大福', '饲料', '厦华', '集团', '灿坤', '股份', '东金', '电子', '太原', '钢铁集团', '深圳', '开发', '科技', '大冷', '王', '运输', '制冷', '三洋', '华强', '等', '知', '名企', '清晰', '过程', '互动', '案例', '生动', '深受', '学员', '喜爱', '授课', '时间', '地点', '月', '周六日', '上海', '课程', '费用', '元人', '包含', '培训', '费用', '午餐', '证书', '资料', '优惠', '三人', '以上', '参加', '赠送', '一', '名额', '联系', '我们', '联系人', '桂', '先生', '电话传真']\n",
      "300\n"
     ]
    }
   ],
   "source": [
    "data_list=[] # 邮件文本特征列表（二维列表）\n",
    "files_path=\"./trec06c-utf8/data/000/\"\n",
    "file_list=os.listdir(files_path)\n",
    "for file in file_list:\n",
    "    file_path=os.path.join(files_path,file)\n",
    "    with open(file_path,'r',encoding='utf-8') as f:\n",
    "        # 忽略邮件头信息（邮件头与邮件正文之间有空行）\n",
    "        while 1:\n",
    "            head=f.readline()\n",
    "            if head=='\\n':\n",
    "                break\n",
    "        text=f.read()\n",
    "        # 提取文字（only）\n",
    "        pre=re.compile(u'[\\u4e00-\\u9fa5]')\n",
    "        text=re.findall(pre, text)\n",
    "        text=''.join(text)\n",
    "        # jieba分词\n",
    "        wordcut=jieba.cut(text,cut_all=False)\n",
    "        wordlist=list(wordcut)\n",
    "        \n",
    "        data_list.append(wordlist)\n",
    "# 显示第一封邮件的文本特征以及导入邮件数量\n",
    "print(data_list[0])\n",
    "print(len(data_list))"
   ]
  },
  {
   "cell_type": "code",
   "execution_count": 19,
   "metadata": {},
   "outputs": [
    {
     "name": "stdout",
     "output_type": "stream",
     "text": [
      "[1, 0, 1, 1, 1, 1, 0, 1, 1, 0, 1, 1, 1, 1, 1, 1, 1, 1, 1, 1, 1, 1, 1, 1, 0, 1, 1, 1, 1, 1, 1, 0, 1, 1, 1, 1, 1, 1, 1, 1, 1, 1, 0, 1, 0, 1, 1, 1, 1, 1, 1, 1, 1, 1, 1, 1, 1, 1, 1, 1, 1, 1, 1, 1, 1, 1, 1, 0, 1, 0, 1, 1, 1, 1, 1, 1, 1, 1, 1, 0, 1, 1, 1, 1, 1, 1, 1, 1, 1, 1, 0, 1, 0, 1, 1, 1, 1, 1, 1, 1, 1, 1, 1, 1, 1, 1, 1, 1, 1, 1, 0, 1, 1, 1, 1, 1, 1, 1, 1, 1, 1, 0, 0, 1, 1, 1, 1, 1, 1, 1, 1, 1, 1, 1, 1, 1, 1, 1, 1, 1, 1, 0, 1, 1, 1, 1, 0, 1, 0, 0, 1, 1, 1, 1, 1, 0, 1, 1, 1, 1, 1, 1, 1, 1, 1, 1, 1, 1, 1, 1, 1, 1, 1, 1, 0, 1, 1, 1, 1, 1, 1, 1, 1, 1, 1, 1, 1, 1, 1, 1, 1, 1, 1, 1, 1, 1, 1, 1, 0, 1, 0, 1, 1, 1, 1, 0, 1, 1, 1, 0, 0, 0, 1, 1, 1, 1, 1, 1, 1, 1, 1, 1, 1, 0, 1, 1, 1, 1, 1, 1, 1, 1, 1, 1, 1, 1, 1, 1, 1, 1, 1, 1, 1, 0, 0, 1, 1, 1, 1, 1, 1, 1, 0, 1, 0, 0, 0, 1, 1, 0, 1, 0, 1, 1, 1, 1, 1, 1, 1, 1, 1, 1, 1, 1, 1, 1, 1, 1, 1, 1, 1, 1, 1, 1, 1, 1, 1, 1, 1, 1, 1, 1, 1, 1, 0, 1, 1, 1, 1, 1]\n",
      "300\n"
     ]
    }
   ],
   "source": [
    "label_list=[] # 邮件标签列表\n",
    "label_path=\"./trec06c-utf8/label/index\"\n",
    "with open(label_path,'r',encoding='utf-8') as f:\n",
    "    for i in range(len(file_list)):\n",
    "        label=f.readline()\n",
    "        if \"spam\" in label:\n",
    "            label_list.append(1)\n",
    "        else:\n",
    "            label_list.append(0)\n",
    "    f.close()\n",
    "# 显示标签 1：spam，0：ham\n",
    "print(label_list)\n",
    "print(len(label_list))"
   ]
  },
  {
   "cell_type": "markdown",
   "metadata": {},
   "source": [
    "## 三.划分训练集和测试集\n",
    "\n",
    "- 训练集 : 测试集（***8:2***）✂️"
   ]
  },
  {
   "cell_type": "code",
   "execution_count": 20,
   "metadata": {},
   "outputs": [],
   "source": [
    "# 划分训练测试集8:2\n",
    "data_class_list = list(zip(data_list, label_list)) \n",
    "random.shuffle(data_class_list)\n",
    "index = int(len(data_class_list) * 0.2) + 1\n",
    "train_list = data_class_list[index:]\n",
    "test_list = data_class_list[:index]\n",
    "train_data_list, train_class_list = zip(*train_list)\n",
    "test_data_list, test_class_list = zip(*test_list)"
   ]
  },
  {
   "cell_type": "markdown",
   "metadata": {},
   "source": [
    "## 四.特征选择（词表构建）"
   ]
  },
  {
   "cell_type": "code",
   "execution_count": 21,
   "metadata": {},
   "outputs": [],
   "source": [
    "# 将所有特征汇总计数排序\n",
    "all_words_dict = {}\n",
    "for word_list in train_data_list:\n",
    "        for word in word_list:\n",
    "            if word in all_words_dict.keys():\n",
    "                all_words_dict[word] += 1\n",
    "            else:\n",
    "                all_words_dict[word] = 1\n",
    "#根据键的值倒序排序             \n",
    "all_words_tuple_list = sorted(all_words_dict.items(), key = lambda f:f[1], reverse = True)\n",
    "all_words_list, all_words_nums = zip(*all_words_tuple_list)\n",
    "all_words_list = list(all_words_list)"
   ]
  },
  {
   "cell_type": "code",
   "execution_count": 22,
   "metadata": {},
   "outputs": [
    {
     "name": "stdout",
     "output_type": "stream",
     "text": [
      "{'多么', '继而', '非但', '每当', '到', '出来', '已', '的', '如是', '那个', '本身', '不管', '距', '她', '其中', '那些', '此外', '该', '此处', '其它', '本人', '向', '这', '去', '下', '分别', '是', '值此', '所在', '各位', '逐步', '亦', '同时', '我们', '有的', '向着', '怎么', '自己', '后者', '许多', '对比', '来说', '以免', '如', '不过', '别', '此时', '就是', '其次', '根据', '又', '既是', '赖以', '儿', '彼时', '此间', '呵呵', '别人', '以至', '如同下', '既往', '既然', '或者', '既', '嘻嘻', '另', '似的', '固然', '说来', '如何', '嘿嘿', '拿', '吧', '些', '所以', '另一方面', '多少', '这个', '与其', '不至于', '可以', '此地', '当地', '后', '再', '有', '那儿', '尽管如此', '由', '与否', '沿着', '其他', '据', '尔', '对方', '趁', '你', '且', '然而', '这边', '无论', '于', '彼此', '人们', '的话', '哪些', '别的', '哪', '诸位', '曾', '若是', '全体', '有时', '不外乎', '他们', '他', '正巧', '若', '谁人', '各自', '万一', '一切', '嘛', '因此', '正是', '但', '人', '否则', '怎么样', '如若', '不单', '这里', '毋宁', '然后', '致', '自从', '截至', '无', '怎么办', '只消', '甚至', '为什么', '自身', '因而', '同', '反而', '开外', '只', '有些', '打', '另外', '前者', '只是', '小', '得', '几', '直到', '上', '或是', '让', '某个', '为', '如此', '要么', '可是', '啦', '果然', '之所以', '倘若', '随着', '经过', '并且', '譬如', '最', '加以', '大家', '只限', '并非', '只有', '即', '怎', '依照', '啥', '就是说', '所有', '你们', '因之', '来', '不但', '或者说', '每', '对待', '任何', '给', '但是', '要不然', '这样', '连带', '这些', '不如', '如果', '沿', '凭借', '可见', '反之', '咱', '这般', '而且', '要是', '在', '个别', '还是', '如果说', '关于', '本地', '诸如', '跟', '它', '由此', '她们', '等等', '一来', '介于', '替代', '故而', '随', '了', '甚至于', '甚而', '以为', '使', '那', '作为', '就算', '由于', '于是', '什么样', '以及', '为了', '据此', '一旦', '哪个', '简言之', '什么的', '哪怕', '宁可', '唯有', '只因', '因', '不只', '照着', '还', '又及', '一', '不然', '何处', '和', '再有', '而', '只要', '得了', '之', '两者', '出于', '而外', '某', '便于', '起', '即便', '全部', '其', '至', '那般', '趁着', '假如', '还要', '某某', '则', '谁', '把', '至今', '如上', '这么', '何以', '本着', '自', '今', '怎样', '再则', '还有', '很', '哇', '为止', '遵照', '不', '有关', '对于', '与', '不论', '才能', '靠', '他人', '被', '您', '而后', '当然', '不料', '这会', '尽管', '进而', '各', '们', '只限于', '至于', '以致', '较之', '用来', '别说', '接着', '遵循', '乃至', '例如', '虽说', '咱们', '鉴于', '凡是', '为何', '以便', '除非', '随后', '从', '除了', '处在', '朝着', '加之', '才是', '虽然', '因为', '比如', '着', '那时', '格里斯', '以上', '何时', '那么', '却', '以来', '不仅仅', '此次', '只需', '并', '哟', '针对', '或', '个', '不光', '那边', '首先', '及', '此', '不是', '为此', '以', '个人', '光是', '随时', '么', '受到', '就要', '凡', '诸', '连同', '乃', '而已', '也', '不尽然', '况且', '哪儿', '基于', '一些', '往', '它们', '而是', '如下', '并不', '虽', '只怕', '来自', '何', '嗡', '若非', '正如', '比', '所', '凭', '要不', '除外', '何况', '当', '某些', '正值', '别处', '从而', '即使', '多会', '在于', '的确', '那样', '除此', '总之', '不仅', '什么', '及至', '按照', '依据', '不尽', '看', '那里', '好', '为着', '仍旧', '用', '可', '我', '仍', '从此', '这儿', '其余'}\n"
     ]
    }
   ],
   "source": [
    "# 导入word.text（包含的词对分类没有太大的影响，需要在构建词表时去除）\n",
    "words_set = set()\n",
    "with open(\"./word.txt\", 'r', encoding = 'utf-8') as f:\n",
    "    for line in f.readlines():\n",
    "        word = line.strip()  \n",
    "        if len(word) > 0:\n",
    "            words_set.add(word)\n",
    "print(words_set)"
   ]
  },
  {
   "cell_type": "code",
   "execution_count": 23,
   "metadata": {},
   "outputs": [],
   "source": [
    "'''\n",
    "函数说明：构建词表\n",
    "Parameters:\n",
    "    all_words_list - 所有词汇表（根据出现次数从大到小排列）\n",
    "    feature_num - 特征数量\n",
    "    words_set - 去除词汇表\n",
    "Returns:\n",
    "    feature_words - 词表（用于构建模型）\n",
    "'''\n",
    "def words_dict(all_words_list, feature_num, words_set = set()):\n",
    "    feature_words = []\n",
    "    n = 1\n",
    "    for t in range(len(all_words_list)):\n",
    "        if n > feature_num:\n",
    "            break                               \n",
    "        if all_words_list[t] not in words_set and 1 < len(all_words_list[t]) < 5:\n",
    "            feature_words.append(all_words_list[t])\n",
    "        n += 1   \n",
    "    return feature_words"
   ]
  },
  {
   "cell_type": "code",
   "execution_count": 24,
   "metadata": {},
   "outputs": [],
   "source": [
    "'''\n",
    "函数说明：文本特征向量化\n",
    "Parameters:\n",
    "    train_data_list - 训练集\n",
    "    test_data_list - 测试集\n",
    "    feature_words - 词表\n",
    "Returns:\n",
    "    train_feature_list - 训练集文本特征向量\n",
    "    test_feature_list - 测试集文本特征向量\n",
    "'''\n",
    "def TextFeatures(train_data_list, test_data_list, feature_words):\n",
    "    def text_features(text, feature_words):                                          \n",
    "        text_words = set(text)\n",
    "        features = [1 if word in text_words else 0 for word in feature_words]\n",
    "        return features\n",
    "    train_feature_list = [text_features(text, feature_words) for text in train_data_list]\n",
    "    test_feature_list = [text_features(text, feature_words) for text in test_data_list]\n",
    "    return train_feature_list, test_feature_list "
   ]
  },
  {
   "cell_type": "markdown",
   "metadata": {},
   "source": [
    "## 五.模型构建\n",
    "\n",
    "🧰***sklearn*** 实现，***MultinomialNB*** ：先验为多项式分布的朴素贝叶斯\n",
    "\n",
    "- alpha：浮点型可选参数，默认为1.0，其实就是添加拉普拉斯平滑，即为上述公式中的λ ，如果这个参数设置为0，就是不添加平滑；\n",
    "- fit_prior：布尔型可选参数，默认为True。布尔参数fit_prior表示是否要考虑先验概率，如果是false, 则所有的样本类别输出都有相同的类别先验概率。  \n",
    "  否则可以自己用第三个参数class_prior输入先验概率，或者不输入第三个参数class_prior让MultinomialNB自己从训练集样本来计算先验概率，此时的先验概率为  \n",
    "  $P(V=v_j)=m_j/m$  \n",
    "  其中 $m$ 为训练集样本总数量，$m_j$ 为输出为第k类别的训练集样本数；\n",
    "- class_prior：可选参数，默认为None；\n"
   ]
  },
  {
   "cell_type": "code",
   "execution_count": 25,
   "metadata": {},
   "outputs": [],
   "source": [
    "from sklearn.naive_bayes import MultinomialNB\n",
    "'''\n",
    "函数说明：贝叶斯模型\n",
    "Parameters:\n",
    "    train_data_list - 训练集特征\n",
    "    test_data_list - 测试集特征\n",
    "    train_class_list - 训练标签\n",
    "Returns:\n",
    "    predict_class_list - 预测标签\n",
    "'''\n",
    "def NBclassifier(train_feature_list,test_feature_list,train_class_list):\n",
    "    classifier = MultinomialNB().fit(train_feature_list, train_class_list)\n",
    "    predict_class_list=classifier.predict(test_feature_list)\n",
    "    return predict_class_list"
   ]
  },
  {
   "cell_type": "markdown",
   "metadata": {},
   "source": [
    "## 六.对比特征数目（词表大小）对模型效果的影响\n",
    "\n",
    "测试特征数目从500到1500对模型效果的影响：\n",
    "\n",
    "- 📐分别画出了feature_num对以下指标的影响趋势  \n",
    "  准确率 ***Accuracy***\n",
    "  精准率 ***Precision***\n",
    "  召回率 ***Recall***"
   ]
  },
  {
   "cell_type": "code",
   "execution_count": 26,
   "metadata": {},
   "outputs": [
    {
     "data": {
      "image/png": "[encoded data removed]",
      "text/plain": [
       "<Figure size 432x288 with 1 Axes>"
      ]
     },
     "metadata": {
      "needs_background": "light"
     },
     "output_type": "display_data"
    },
    {
     "data": {
      "image/png": "[encoded data removed]",
      "text/plain": [
       "<Figure size 432x288 with 1 Axes>"
      ]
     },
     "metadata": {
      "needs_background": "light"
     },
     "output_type": "display_data"
    },
    {
     "data": {
      "image/png": "[encoded data removed]",
      "text/plain": [
       "<Figure size 432x288 with 1 Axes>"
      ]
     },
     "metadata": {
      "needs_background": "light"
     },
     "output_type": "display_data"
    }
   ],
   "source": [
    "from sklearn.metrics import accuracy_score\n",
    "from sklearn.metrics import precision_score\n",
    "from sklearn.metrics import recall_score\n",
    "import matplotlib.pyplot as plt\n",
    "\n",
    "acc_list = []\n",
    "prec_list = []\n",
    "rec_list = []\n",
    "\n",
    "feature_num_list = range(500, 1500, 20)\n",
    "for feature_num in feature_num_list:\n",
    "    feature_words = words_dict(all_words_list, feature_num, words_set)\n",
    "    train_feature_list, test_feature_list = TextFeatures(train_data_list, test_data_list, feature_words)\n",
    "    predict_class_list = NBclassifier(train_feature_list, test_feature_list, train_class_list)\n",
    "    \n",
    "    acc_list.append(accuracy_score(test_class_list,predict_class_list))\n",
    "    prec_list.append(precision_score(test_class_list,predict_class_list))\n",
    "    rec_list.append(recall_score(test_class_list,predict_class_list))\n",
    "    \n",
    "plt.figure()\n",
    "plt.plot(feature_num_list, acc_list)\n",
    "plt.title('Relationship of feature_num and test_accuracy',fontsize=14)\n",
    "plt.xlabel('feature_num',fontsize=14)\n",
    "plt.ylabel('test_accuracy',fontsize=14)\n",
    "plt.show()\n",
    "\n",
    "plt.figure()\n",
    "plt.plot(feature_num_list, prec_list)\n",
    "plt.title('Relationship of feature_num and test_precision',fontsize=14)\n",
    "plt.xlabel('feature_num',fontsize=14)\n",
    "plt.ylabel('test_precision',fontsize=14)\n",
    "plt.show()\n",
    "\n",
    "plt.figure()\n",
    "plt.plot(feature_num_list, rec_list)\n",
    "plt.title('Relationship of feature_num and test_recall',fontsize=14)\n",
    "plt.xlabel('feature_num',fontsize=14)\n",
    "plt.ylabel('test_recall',fontsize=14)\n",
    "plt.show()"
   ]
  },
  {
   "cell_type": "markdown",
   "metadata": {},
   "source": [
    "## 七.测试集分类结果分析\n",
    "\n",
    "- 选取1250个特征构建词表训练模型💯  \n",
    "准确率 ***Accuracy***、精准率 ***Precision***、召回率 ***Recall***均超过 ***90%***"
   ]
  },
  {
   "cell_type": "code",
   "execution_count": 29,
   "metadata": {},
   "outputs": [
    {
     "name": "stdout",
     "output_type": "stream",
     "text": [
      "词表(数量1250):\n",
      " ['管理', '公司', '企业', '发票', '合作', '物流', '信息', '代理', '生产', '服务', '优惠', '有限公司', '网站', '广告', '我司', '提供', '联系人', '每月', '左右', '设计', '发展', '中国', '产品', '实业', '代开', '您好', '财务', '分析', '流程', '软件', '深圳市', '免费', '电脑', '咨询', '朋友', '一个', '增值税', '点数', '需要', '运输', '负责人', '进项', '经理', '贵司', '业务', '工作', '发布', '电话', '一次', '完成', '供应商', '直接', '良好', '部分', '承诺', '方面', '课程', '地税', '点击', '邮箱', '专业', '商祺', '邮件', '机会', '上网', '社会关系', '郑重', '欢迎', '顺祝', '进行', '采购', '抵扣', '有着', '不了', '销售额', '实力雄厚', '所用', '小时', '国税', '进一步', '分公司', '技术', '图片', '网络', '宣传', '详情请', '大小', '费用', '付款', '使用', '数量', '绝对', '希望', '中心', '洽商', '税务局', '永久', '客户', '来电', '问题', '较多现', '活动', '支持', '连锁', '长期有效', '深圳', '联系', '真票', '结构', '家电', '系统', '额度', '方法', '放大', '注册', '北京', '时间', '疑虑', '担心', '方案', '组织', '培训', '没有', '一部分', '资料', '能够', '商讨', '商品销售', '海关', '票据', '案例', '招聘', '普通发票', '内容', '查证', '全国', '广州', '酒店', '普通', '各种', '薪资', '方式', '手机', '传真', '项目', '国内', '真伪', '现有', '价格', '在线', '用户', '控制', '手册', '一直', '会员', '核对', '包含', '开发', '商务', '成本', '现在', '网页', '网上', '国际', '下载', '各类', '上海', '多年', '投资', '创业', '香港', '集团', '电子', '验证', '过程', '喜欢', '完全', '网址', '如贵司', '行业', '商业', '通过', '最新', '推广', '模式', '东莞', '查询', '成为', '人事', '要求', '市场', '选择', '名称', '清华大学', '份文件', '生活', '知道', '制作', '技术支持', '挂图', '可能', '联系电话', '普通商品', '大量', '缴款', '职位', '电话传真', '觉得', '一样', '功能', '税点', '自动', '包括', '各地', '成立', '热线联系', '介绍', '销售', '科技', '地址', '应用', '专家', '销售税', '搜索', '英语', '对外', '翻译', '名录', '现场', '联盟', '获得', '收入', '相关', '平台', '人员', '能力', '供应链', '经营', '每个', '现代', '查看', '详细', '享受', '学习', '技巧', '体系', '综合', '聚乙烯', '用友', '研发', '小姐', '人才', '登陆', '设有', '尊敬', '关系', '价值', '税率', '群发', '解决', '天元', '开店', '载体', '开始', '了解', '得到', '热线', '坚持', '资金', '洽谈', '建筑安装', '东路', '评估', '华雄', '适合', '进出口', '统一', '单位', '往返', '报告', '学员', '时候', '不同', '环境', '员工', '标准', '研究', '请来', '代办', '自助', '简单', '电子商务', '经济', '赚钱', '运作', '一起', '你好', '会议', '主要', '建立', '参加', '需求', '全球', '赠送', '衡量', '详细信息', '成功', '及其', '学院', '腺病毒', '场所', '事情', '学校', '计划', '加入', '不要', '一种', '浏览', '低点', '最佳', '发送', '支付', '效果', '地区', '文件', '快速', '申请', '临时', '大学', '已经', '比较', '经验', '具有', '独立', '等市', '著名', '设备', '品牌', '实现', '年月日', '是否', '分享', '深南', '高级', '姓名', '每年', '帮助', '短信', '电子邮件', '付元', '个元元', '管材', '管道', '银行', '钢铁', '黄页', '一下', '带来', '每天', '影响', '求职', '回复', '诚信', '打扰', '访问', '展示', '请电', '大厦', '库存', '数目', '垂询', '认证', '忙碌', '愿意', '单程', '操作', '互联网', '四级', '配置', '对策', '张瑞希', '一句', '无需', '不会', '购买', '精彩', '星辉', '建筑工程', '系列', '条件', '论坛', '外代', '删除', '推荐', '元年', '利用', '提高', '程序', '文化', '税务', '非常', '安全', '领导', '数据', '正式', '参会', '规划', '每周', '认识', '帐号', '正在', '最大', '很多', '做到', '新闻', '拥有', '自由', '联系方式', '以下', '目标', '车间', '战略', '品质', '因本', '健康', '先生', '厂家', '五个', '工资', '网络营销', '限制', '展位', '实用', '神奇', '工程', '标准版', '客户服务', '总结', '理论', '教授', '注塑', '薪酬', '淑女', '生命', '第一次', '类型', '男生', '重要', '女性', '您们', '谢谢', '结果', '共同', '这种', '感觉', '质量', '可为', '期限', '关键词', '实际', '如贵', '咨询电话', '地点', '交通运输', '租凭', '商场', '美国', '真诚', '风险', '顾问', '光盘', '无线', '专题', '多余', '栏目', '不想', '开发票', '大道', '沈阳', '谈判', '核心', '工具', '外资企业', '要冲', '打开', '一点', '智能', '税收', '服务行业', '这句', '教育', '营销', '分类', '可行性', '一级代理', '二级', '三级', '及时', '处理', '增加', '多种', '产品开发', '学生', '优化', '多来米', '张贴', '父母', '看到', '更好', '商谈', '走廊', '推出', '真实', '建筑', '元人', '确定', '立足于', '中本', '有任', '温键欢', '规格', '正当防卫', '只能', '收费', '空间', '更新', '收到', '华龙', '多家', '刘剑辉', '中路', '宾馆', '运用', '提升', '策略', '因素', '老师', '度为', '一家', '部门', '总裁', '意义', '搜索引擎', '外省市', '汇款', '招聘会', '资讯', '作业', '全套', '实践', '阳朔', '尴尬', '韩国', '之前', '有意', '必须', '一般', '测试', '一份', '未来', '订单', '动态', '情况', '休闲', '电视', '交通', '接受', '我国', '投入', '融资', '订购', '报名', '委托', '机场', '即可', '资格', '实施', '评价', '绩效', '特别', '振南', '大城市', '正常', '肯定', '看看', '幸福', '文章', '特价', '检测', '商品', '一个月', '工作人员', '索引', '供求信息', '加盟', '简称', '一款', '全面', '邮址', '业绩', '电磁兼容', '厘米', '不能', '永远', '家庭', '不得不', '原因', '登录', '感情', '属于', '爱情', '一年', '真正', '不到', '管理系统', '亚商', '周刊', '有效', '提前', '完善', '国内外', '超过', '建设', '增值', '链接', '所开', '目前', '方便', '内部', '收获', '公寓', '本站', '降低', '定位', '掌握', '注意', '总监', '老公', '邮件地址', '寻找', '税额', '全年', '适用', '大部分', '工人', '老鼠', '电影', '说明', '商贸', '安装', '指定', '添加', '提示', '投稿', '登记', '阅读', '特殊', '发到', '折椅', '招聘启事', '餐饮', '人民币', '简介', '徐先生', '委员会', '从事', '关键', '两个', '模块', '准确', '固定资产', '收发', '基本', '试用', '高效', '十月', '王先生', '文案', '流量', '水平', '指导', '卓越', '岗位', '外教', '时尚', '无限', '承受', '阴道炎', '超越', '交流', '也许', '办公室', '容易', '检索', '住宿', '采用', '保险', '稳定', '世界', '材料', '对象', '目的', '创业投资', '地域', '华为', '总收入', '移动', '召开', '确认', '操作系统', '部落', '越来越', '一定', '报价', '现付', '周末', '对面', '方向', '广东', '背景', '新型', '理念', '要素', '日常', '担任', '首页', '数码', '大型', '信箱', '放心', '账单', '从不', '仔细', '梦想', '大全', '一场', '色友', '模板', '代码', '知识', '春天', '下级', '开户行', '总站', '开锁', '商业网站', '中文', '当场', '通用', '标题', '基础', '特点', '核算', '满足', '凭证', '统计', '自主', '管理中心', '公司财务', '完税', '策划书', '演讲', '形成', '持续', '框架', '考试', '经管', '接收', '文书', '管理模式', '痛苦', '放弃', '记得', '存在', '安排', '解决方案', '高兴', '女生', '文字', '时代', '进口', '原则', '满意', '诚意', '麻烦', '省市', '风格', '上面', '体验', '之一', '日本', '社会', '培训中心', '信息系统', '达到', '主题', '等票', '通知', '进入', '找到', '招商', '六日', '标单', '大酒店', '天津', '步骤', '丰富', '教材', '证书', '超级', '咨询服务', '工厂', '开出', '手续', '短期', '挣到', '加薪', '学历', '老板', '其实', '预定', '详情', '无须', '留言', '手段', '杂志', '心得', '高层', '邮编', '博士', '这是', '协会', '辽宁省', '迅速', '域名', '事业', '输入', '婚礼', '优势', '办理', '股份', '出纳', '现金', '国家', '填写', '显示', '宏易', '度现', '向贵', '供贵', '特性', '作用', '概念', '运营', '讲师', '概述', '后来', '继续', '第一', '优秀', '干扰', '捕捉', '通讯', '规范', '病毒', '正阳', '人力资源', '海尔', '港资', '物业公司', '甲级', '写字楼', '创意', '主义', '之痛', '约会', '女人', '用药', '结合', '色彩', '每次', '变成', '女孩', '实在', '效益', '电邮', '告诉', '好利通', '东西', '发现', '真的', '行为', '角落', '特色', '单纯', '相信', '期待', '快乐', '看见', '应该', '产生', '广泛', '意见', '孩子', '资源', '数据库', '后台', '李先生', '里面', '传统', '梁先生', '办公', '第期', '第二天', '早餐', '空调', '建议', '合作伙伴', '请勿', '不便', '宿舍', '外商', '照片', '百度', '媒体', '近期', '热点', '不再', '信用', '到位', '工业', '毕业', '编程', '附件', '共享', '组成', '可验证', '豪华', '海景', '中华', '会务', '敬请', '环市', '效率', '研修班', '大纲', '通常', '制定', '上级', '领域', '联想', '货物', '会计', '广州市', '联普', '首家', '谅解', '刘先生', '余额', '等于', '可口可乐', '爸爸', '作者', '确实', '长期', '生计', '小老鼠', '飞快', '台词', '一位', '总是']\n",
      "准确率： 0.9508196721311475\n",
      "精确率： 0.98\n",
      "召回率： 0.9607843137254902\n"
     ]
    }
   ],
   "source": [
    "feature_words = words_dict(all_words_list, 1250, words_set)\n",
    "print(\"词表(数量1250):\\n\",feature_words)\n",
    "train_feature_list, test_feature_list = TextFeatures(train_data_list, test_data_list, feature_words)\n",
    "predict_class_list=NBclassifier(train_feature_list,test_feature_list,train_class_list)\n",
    "\n",
    "print(\"准确率：\",accuracy_score(test_class_list,predict_class_list))\n",
    "print(\"精确率：\",precision_score(test_class_list,predict_class_list))\n",
    "print(\"召回率：\",recall_score(test_class_list,predict_class_list))"
   ]
  },
  {
   "cell_type": "code",
   "execution_count": null,
   "metadata": {},
   "outputs": [],
   "source": []
  }
 ],
 "metadata": {
  "kernelspec": {
   "display_name": "Python 3.9.12 ('base')",
   "language": "python",
   "name": "python3"
  },
  "language_info": {
   "codemirror_mode": {
    "name": "ipython",
    "version": 3
   },
   "file_extension": ".py",
   "mimetype": "text/x-python",
   "name": "python",
   "nbconvert_exporter": "python",
   "pygments_lexer": "ipython3",
   "version": "3.9.12"
  },
  "orig_nbformat": 4,
  "vscode": {
   "interpreter": {
    "hash": "a825f8e8905b8e64233e6384cfa1616d0baa442a3b458fa78e4916d5c671b0d4"
   }
  }
 },
 "nbformat": 4,
 "nbformat_minor": 2
}
