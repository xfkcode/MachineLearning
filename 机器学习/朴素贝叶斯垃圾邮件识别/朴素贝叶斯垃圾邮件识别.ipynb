{
 "cells": [
  {
   "cell_type": "markdown",
   "metadata": {},
   "source": [
    "# 朴素贝叶斯垃圾邮件识别\n",
    "---\n",
    "## 一.案例介绍\n",
    "电子邮件是互联网的一项重要服务，在大家的学习、工作和生活中会广泛使用。但是大家的邮箱常常被各种各样的垃圾邮件填充了。有统计显示，每天互联网上产生的垃圾邮件有几百亿近千亿的量级。  \n",
    "因此，对电子邮件服务提供商来说，垃圾邮件过滤是一项重要功能。而朴素贝叶斯算法在垃圾邮件识别任务上一直表现非常好，至今仍然有很多系统在使用朴素贝叶斯算法作为基本的垃圾邮件识别算法。\n",
    "\n",
    "本次实验数据集来自[Trec06](https://plg.uwaterloo.ca/cgi-bin/cgiwrap/gvcormac/foo06)的中文垃圾邮件数据集，目录解压后包含三个文件夹，其中data目录下是所有的邮件（未分词），已分词好的邮件在data_cut目录下。  \n",
    "邮件分为邮件头部分和正文部分，两部分之间一般有空行隔开。标签数据在label文件夹下，文件中每行是标签和对应的邮件路径。‘spam’表示垃圾邮件，‘ham’表示正常邮件。\n"
   ]
  },
  {
   "cell_type": "code",
   "execution_count": 1,
   "metadata": {},
   "outputs": [],
   "source": [
    "import os\n",
    "import jieba\n",
    "import re\n",
    "import random"
   ]
  },
  {
   "cell_type": "markdown",
   "metadata": {},
   "source": [
    "## 二.邮件正文文本特征以及标签提取\n",
    "\n",
    "- **全部数据集**：\"./trec06c-utf8/data/\"📂路径下 ***64620*** 条邮件📧"
   ]
  },
  {
   "cell_type": "code",
   "execution_count": 3,
   "metadata": {},
   "outputs": [
    {
     "name": "stdout",
     "output_type": "stream",
     "text": [
      "['贵', '公司', '负责人', '经理', '财务', '您好', '我', '是', '深圳市', '康特', '实业', '有限公司', '本', '公司', '在', '全国', '各地', '设有', '分公司', '广州', '东莞', '等市', '有', '分公司', '因', '全国', '各', '分公司', '进项', '较多现', '完成', '不了', '每月', '销售额', '度', '每月', '有', '一部分', '增值税', '电脑', '发票', '或', '海关', '缴款', '书以', '左右', '及', '普通', '国税', '地税', '向', '外代', '开', '或', '合作', '发票', '种类', '如下', '商品', '统一', '销售', '电脑', '版', '运输', '服务业', '广告', '建筑工程', '租赁', '专用', '等', '发票', '以上', '各类', '发票', '可以', '根据', '贵', '公司', '数量', '大小', '来', '衡量', '优惠', '的', '点数', '更', '希望', '有', '机会', '与', '贵司', '合作', '贵', '公司', '在', '发票', '的', '真伪', '方面', '有', '任何', '疑虑', '或', '担心', '可以', '上网', '查证', '真伪', '或', '直接', '去', '税务局', '验证', '本', '公司', '郑重', '承诺', '所用', '绝对', '是', '真票', '此', '信息', '长期有效', '联系方式', '如下', '联系人', '杨益明', '联系', '手机', '顺祝', '商祺']\n",
      "64620\n"
     ]
    }
   ],
   "source": [
    "data_list=[] # 邮件文本特征列表（二维列表）\n",
    "data_path=\"./trec06c-utf8/data/\"\n",
    "d_list=os.listdir(data_path)\n",
    "for files in d_list:\n",
    "    files_path=os.path.join(data_path,files)\n",
    "    file_list=os.listdir(files_path)\n",
    "    for file in file_list:\n",
    "        file_path=os.path.join(files_path,file)\n",
    "        with open(file_path,'r',encoding='utf-8') as f:\n",
    "            # 忽略邮件头信息（邮件头与邮件正文之间有空行）\n",
    "            while 1:\n",
    "                head=f.readline()\n",
    "                if head=='\\n':\n",
    "                    break\n",
    "            text=f.read()\n",
    "            # 提取文字（only）\n",
    "            pre=re.compile(u'[\\u4e00-\\u9fa5]')\n",
    "            text=re.findall(pre, text)\n",
    "            text=''.join(text)\n",
    "            \n",
    "            wordcut=jieba.cut(text,cut_all=False)\n",
    "            wordlist=list(wordcut)\n",
    "            \n",
    "            data_list.append(wordlist)\n",
    "            f.close()\n",
    "# 显示最后一封封邮件的文本特征以及导入邮件数量\n",
    "print(data_list[-1])\n",
    "print(len(data_list))"
   ]
  },
  {
   "cell_type": "code",
   "execution_count": 4,
   "metadata": {},
   "outputs": [
    {
     "name": "stdout",
     "output_type": "stream",
     "text": [
      "[1, 0, 1, 1, 1, 1, 0, 1, 1, 0, 1, 1, 1, 1, 1, 1, 1, 1, 1, 1, 1, 1, 1, 1, 0, 1, 1, 1, 1, 1, 1, 0, 1, 1, 1, 1, 1, 1, 1, 1, 1, 1, 0, 1, 0, 1, 1, 1, 1, 1, 1, 1, 1, 1, 1, 1, 1, 1, 1, 1, 1, 1, 1, 1, 1, 1, 1, 0, 1, 0, 1, 1, 1, 1, 1, 1, 1, 1, 1, 0, 1, 1, 1, 1, 1, 1, 1, 1, 1, 1, 0, 1, 0, 1, 1, 1, 1, 1, 1, 1, 1, 1, 1, 1, 1, 1, 1, 1, 1, 1, 0, 1, 1, 1, 1, 1, 1, 1, 1, 1, 1, 0, 0, 1, 1, 1, 1, 1, 1, 1, 1, 1, 1, 1, 1, 1, 1, 1, 1, 1, 1, 0, 1, 1, 1, 1, 0, 1, 0, 0, 1, 1, 1, 1, 1, 0, 1, 1, 1, 1, 1, 1, 1, 1, 1, 1, 1, 1, 1, 1, 1, 1, 1, 1, 0, 1, 1, 1, 1, 1, 1, 1, 1, 1, 1, 1, 1, 1, 1, 1, 1, 1, 1, 1, 1, 1, 1, 1, 0, 1, 0, 1, 1, 1, 1, 0, 1, 1, 1, 0, 0, 0, 1, 1, 1, 1, 1, 1, 1, 1, 1, 1, 1, 0, 1, 1, 1, 1, 1, 1, 1, 1, 1, 1, 1, 1, 1, 1, 1, 1, 1, 1, 1, 0, 0, 1, 1, 1, 1, 1, 1, 1, 0, 1, 0, 0, 0, 1, 1, 0, 1, 0, 1, 1, 1, 1, 1, 1, 1, 1, 1, 1, 1, 1, 1, 1, 1, 1, 1, 1, 1, 1, 1, 1, 1, 1, 1, 1, 1, 1, 1, 1, 1, 1, 0, 1, 1, 1, 1, 1]\n",
      "64620\n"
     ]
    }
   ],
   "source": [
    "label_list=[] # 邮件标签列表\n",
    "label_path=\"./trec06c-utf8/label/index\"\n",
    "with open(label_path,'r',encoding='utf-8') as f:\n",
    "    for i in range(len(data_list)):\n",
    "        label=f.readline()\n",
    "        if \"spam\" in label:\n",
    "            label_list.append(1)\n",
    "        else:\n",
    "            label_list.append(0)\n",
    "    f.close()\n",
    "# 显示标签 1：spam，0：ham\n",
    "print(label_list[:300:1])\n",
    "print(len(label_list))"
   ]
  },
  {
   "cell_type": "markdown",
   "metadata": {},
   "source": [
    "## 三.划分训练集和测试集\n",
    "\n",
    "- 训练集 : 测试集（***8:2***）✂️"
   ]
  },
  {
   "cell_type": "code",
   "execution_count": 5,
   "metadata": {},
   "outputs": [],
   "source": [
    "from sklearn.model_selection import train_test_split\n",
    "train_data_list, test_data_list, train_class_list, test_class_list = \\\n",
    "train_test_split(data_list,label_list, test_size=0.2,random_state=250)"
   ]
  },
  {
   "cell_type": "markdown",
   "metadata": {},
   "source": [
    "## 四.特征选择（词表构建）"
   ]
  },
  {
   "cell_type": "code",
   "execution_count": 6,
   "metadata": {},
   "outputs": [],
   "source": [
    "# 将所有特征汇总计数排序\n",
    "all_words_dict = {}\n",
    "for word_list in train_data_list:\n",
    "        for word in word_list:\n",
    "            if word in all_words_dict.keys():\n",
    "                all_words_dict[word] += 1\n",
    "            else:\n",
    "                all_words_dict[word] = 1\n",
    "#根据键的值倒序排序             \n",
    "all_words_tuple_list = sorted(all_words_dict.items(), key = lambda f:f[1], reverse = True)\n",
    "all_words_list, all_words_nums = zip(*all_words_tuple_list)\n",
    "all_words_list = list(all_words_list)"
   ]
  },
  {
   "cell_type": "code",
   "execution_count": 7,
   "metadata": {},
   "outputs": [
    {
     "name": "stdout",
     "output_type": "stream",
     "text": [
      "{'乃至', '此间', '说来', '以上', '不尽然', '向着', '如此', '要不然', '来说', '诸', '与否', '倘若', '多么', '朝着', '经过', '别', '某些', '啦', '再有', '除了', '以免', '如何', '那样', '固然', '今', '例如', '跟', '如', '一些', '正值', '怎么样', '所', '不过', '可是', '因为', '曾', '鉴于', '要是', '依据', '得', '看', '不然', '既然', '何况', '又及', '凭借', '光是', '后', '不但', '从', '来自', '自从', '除外', '赖以', '吧', '此次', '凡是', '或', '不仅仅', '正巧', '或是', '尔', '谁人', '一来', '若是', '非但', '而', '们', '并不', '嘻嘻', '受到', '简言之', '大家', '遵循', '要么', '嘿嘿', '便于', '即使', '首先', '有些', '还要', '按照', '得了', '至今', '你们', '的话', '本地', '本身', '给', '只消', '不光', '连带', '然后', '为了', '才能', '随着', '作为', '每', '连同', '据此', '两者', '为着', '儿', '怎么办', '以至', '比如', '而且', '其余', '至', '随后', '虽然', '那里', '之所以', '只限', '加以', '当', '对于', '似的', '全体', '别人', '怎么', '不只', '着', '一切', '不', '除此', '而已', '这样', '但', '的', '以', '后者', '并', '正是', '以及', '此时', '别处', '只有', '某个', '个别', '加之', '哟', '只因', '他', '不至于', '并非', '毋宁', '可见', '尽管', '总之', '关于', '既往', '不仅', '在', '本人', '只是', '虽说', '可', '拿', '因之', '如果说', '而外', '他人', '某', '而后', '是', '则', '若', '有的', '出来', '用', '因此', '且', '不论', '甚至', '任何', '就要', '因而', '某某', '另外', '宁可', '到', '直到', '向', '以来', '哪儿', '他们', '只', '替代', '有', '照着', '上', '于是', '处在', '只怕', '不单', '继而', '就算', '分别', '诸如', '但是', '咱', '较之', '比', '除非', '既是', '彼时', '反之', '这个', '为何', '使', '你', '如果', '那时', '凭', '嘛', '此外', '我们', '不如', '被', '这', '不是', '那边', '让', '去', '何处', '对比', '全部', '同', '之', '趁', '啥', '不外乎', '正如', '用来', '致', '就是', '一', '又', '小', '只限于', '甚而', '这边', '这会', '另一方面', '唯有', '不尽', '亦', '这么', '要不', '有时', '由', '为此', '无论', '于', '即', '那些', '人们', '并且', '和', '因', '她们', '若非', '假如', '的确', '许多', '往', '凡', '各', '这里', '依照', '既', '呵呵', '否则', '嗡', '遵照', '这般', '逐步', '各自', '才是', '也', '介于', '那么', '就是说', '什么样', '仍', '进而', '此', '无', '据', '再', '一旦', '那个', '什么', '什么的', '自', '所有', '多会', '何时', '以致', '可以', '它们', '为', '沿着', '怎样', '只需', '再则', '或者', '下', '我', '针对', '其次', '接着', '距', '哪些', '其它', '每当', '哪', '来', '其中', '多少', '很', '这些', '甚至于', '个', '谁', '咱们', '如下', '或者说', '还是', '其他', '截至', '靠', '另', '随时', '您', '那儿', '把', '等等', '格里斯', '其', '却', '此处', '同时', '从此', '几', '打', '有关', '出于', '为什么', '如若', '以便', '所以', '至于', '人', '开外', '还有', '何以', '由此', '乃', '当地', '及至', '自己', '故而', '及', '彼此', '况且', '而是', '随', '此地', '沿', '万一', '它', '怎', '反而', '果然', '不管', '了', '些', '对待', '对方', '根据', '仍旧', '由于', '值此', '哪怕', '那', '哇', '趁着', '与', '所在', '尽管如此', '好', '从而', '么', '以为', '如同下', '即便', '哪个', '最', '譬如', '本着', '自身', '这儿', '虽', '前者', '各位', '还', '如上', '然而', '如是', '该', '与其', '当然', '个人', '在于', '基于', '已', '别的', '起', '那般', '诸位', '只要', '何', '不料', '她', '别说', '为止'}\n"
     ]
    }
   ],
   "source": [
    "# 导入word.text（包含的词对分类没有太大的影响，需要在构建词表时去除）\n",
    "words_set = set()\n",
    "with open(\"./word.txt\", 'r', encoding = 'utf-8') as f:\n",
    "    for line in f.readlines():\n",
    "        word = line.strip()  \n",
    "        if len(word) > 0:\n",
    "            words_set.add(word)\n",
    "print(words_set)"
   ]
  },
  {
   "cell_type": "code",
   "execution_count": 8,
   "metadata": {},
   "outputs": [],
   "source": [
    "'''\n",
    "函数说明：构建词表\n",
    "Parameters:\n",
    "    all_words_list - 所有词汇表（根据出现次数从大到小排列）\n",
    "    feature_num - 特征数量\n",
    "    words_set - 去除词汇表\n",
    "Returns:\n",
    "    feature_words - 词表（用于构建模型）\n",
    "'''\n",
    "def words_dict(all_words_list, feature_num, words_set = set()):\n",
    "    feature_words = []\n",
    "    n = 1\n",
    "    for t in range(len(all_words_list)):\n",
    "        if n > feature_num:\n",
    "            break                               \n",
    "        if all_words_list[t] not in words_set and 1 < len(all_words_list[t]) < 5:\n",
    "            feature_words.append(all_words_list[t])\n",
    "        n += 1   \n",
    "    return feature_words"
   ]
  },
  {
   "cell_type": "code",
   "execution_count": 9,
   "metadata": {},
   "outputs": [],
   "source": [
    "'''\n",
    "函数说明：文本特征向量化\n",
    "Parameters:\n",
    "    train_data_list - 训练集\n",
    "    test_data_list - 测试集\n",
    "    feature_words - 词表\n",
    "Returns:\n",
    "    train_feature_list - 训练集文本特征向量\n",
    "    test_feature_list - 测试集文本特征向量\n",
    "'''\n",
    "def TextFeatures(train_data_list, test_data_list, feature_words):\n",
    "    def text_features(text, feature_words):                                          \n",
    "        text_words = set(text)\n",
    "        features = [1 if word in text_words else 0 for word in feature_words]\n",
    "        return features\n",
    "    train_feature_list = [text_features(text, feature_words) for text in train_data_list]\n",
    "    test_feature_list = [text_features(text, feature_words) for text in test_data_list]\n",
    "    return train_feature_list, test_feature_list"
   ]
  },
  {
   "cell_type": "markdown",
   "metadata": {},
   "source": [
    "## 五.模型构建"
   ]
  },
  {
   "cell_type": "markdown",
   "metadata": {},
   "source": [
    "\n",
    "### 🧰***sklearn*** 实现，***MultinomialNB*** ：先验为多项式分布的朴素贝叶斯\n",
    "\n",
    "- alpha：浮点型可选参数，默认为1.0，其实就是添加拉普拉斯平滑，即为上述公式中的λ ，如果这个参数设置为0，就是不添加平滑；\n",
    "- fit_prior：布尔型可选参数，默认为True。布尔参数fit_prior表示是否要考虑先验概率，如果是false, 则所有的样本类别输出都有相同的类别先验概率。  \n",
    "  否则可以自己用第三个参数class_prior输入先验概率，或者不输入第三个参数class_prior让MultinomialNB自己从训练集样本来计算先验概率，此时的先验概率为  \n",
    "  $P(V=v_j)=m_j/m$  \n",
    "  其中 $m$ 为训练集样本总数量，$m_j$ 为输出为第 $j$ 类别的训练集样本数；\n",
    "- class_prior：可选参数，默认为None；\n"
   ]
  },
  {
   "cell_type": "code",
   "execution_count": 10,
   "metadata": {},
   "outputs": [],
   "source": [
    "from sklearn.naive_bayes import MultinomialNB\n",
    "'''\n",
    "函数说明：贝叶斯模型构建\n",
    "Parameters:\n",
    "    train_data_list - 训练集特征\n",
    "    test_data_list - 测试集特征\n",
    "    train_class_list - 训练标签\n",
    "Returns:\n",
    "    predict_class_list - 预测标签\n",
    "'''\n",
    "def NBclassifier(train_feature_list,test_feature_list,train_class_list):\n",
    "    classifier = MultinomialNB().fit(train_feature_list, train_class_list)\n",
    "    predict_class_list=classifier.predict(test_feature_list)\n",
    "    return predict_class_list"
   ]
  },
  {
   "cell_type": "markdown",
   "metadata": {},
   "source": [
    "### ♟️扩展：**自主** 实现, **二分类朴素贝叶斯模型**\n",
    "- 假设目标函数 $f:X\\rightarrow V$, 其中每个样本 $x=(a_1,a_2,...,a_n)$  \n",
    "  那么最有可能的 $f(X)$ 的值是：  \n",
    "$v_{MAP}=\\underset{v_j\\in V}{\\mathrm{argmax}} P(x|v_j)P(v_j)$\n",
    "- 朴素贝叶斯假设：  \n",
    "$P(x|v_j)=P(a_1,a_2,...,a_n|v_j)=\\prod_i P(a_i|v_j)$\n",
    "  - 🧩**拉普拉斯平滑**🧩(***Laplace Smoothing***) 又被称为加1平滑，为了解决0概率问题:  \n",
    "$P(a_i|v_j)=\\frac{m_{il}+\\lambda}{m_j+n\\lambda}$  \n",
    "其中, $P(a_i|v_j)$ 是第 $j$ 个类别的第 $i$ 维特征的第 $l$ 个取值的条件概率。  \n",
    "$m_j$ 是训练集中输出为第 $j$ 类的样本个数。$\\lambda$ 为一个大于0的常数，常常取值为1，即拉普拉斯平滑，也可以取其他值。\n",
    "- 朴素贝叶斯分类器：  \n",
    "📌 $v_{NB}=\\underset{v_j\\in V}{\\mathrm{argmax}}  \\{\\log{P(v_j)}+\\sum_i \\log{P(a_i|v_j)}\\}$ 📌  \n",
    "取对数可以防止下溢出。"
   ]
  },
  {
   "cell_type": "code",
   "execution_count": 11,
   "metadata": {},
   "outputs": [],
   "source": [
    "import numpy as np\n",
    "# 二分类朴素贝叶斯模型\n",
    "class NB:\n",
    "    def __init__(self) -> None:\n",
    "        self.p0Vect=[]\n",
    "        self.p1Vect=[]\n",
    "        self.pAbusive=0.5\n",
    "        \n",
    "    '''\n",
    "    函数说明：训练\n",
    "    Parameters:\n",
    "        x - 训练集features\n",
    "        y - 训练集labels\n",
    "    Returns:\n",
    "        self.p0Vect - P(w0|0),P(w1|0),P(w2|0)···\n",
    "        self.p1Vect - P(w0|1),P(w1|1),P(w2|1)···\n",
    "        self.pAbusive - 先验概率\n",
    "    '''\n",
    "    def fit(self,x,y):\n",
    "        numsample=len(x)\n",
    "        numfeature=len(x[0])\n",
    "        self.pAbusive = sum(y)/float(numsample)\n",
    "        p0Num = np.ones(numfeature); p1Num = np.ones(numfeature)\n",
    "        # 分母初始化为2,拉普拉斯平滑\n",
    "        p0Denom = 2.0; p1Denom = 2.0\n",
    "        for i in range(numsample):\n",
    "            if y[i] == 1:\n",
    "                p1Num += x[i]\n",
    "                p1Denom += sum(x[i])\n",
    "            else:\n",
    "                p0Num += x[i]\n",
    "                p0Denom += sum(x[i])\n",
    "        # 取对数，防止下溢出\n",
    "        self.p1Vect = np.log(p1Num/p1Denom)\n",
    "        self.p0Vect = np.log(p0Num/p0Denom)\n",
    "        return self.p0Vect,self.p1Vect,self.pAbusive\n",
    "    \n",
    "    '''\n",
    "    函数说明：预测\n",
    "    Parameters:\n",
    "        x_test - 测试集features\n",
    "    Returns:\n",
    "        yp - 回归预测结果\n",
    "    ''' \n",
    "    def predict(self,x_test):\n",
    "        py=[]\n",
    "        for x in x_test:\n",
    "            p1 = sum(x * self.p1Vect) + np.log(self.pAbusive)\n",
    "            p0 = sum(x * self.p0Vect) + np.log(1.0 - self.pAbusive)\n",
    "            if p1 > p0:\n",
    "                py.append(1)\n",
    "            else:\n",
    "                py.append(0)\n",
    "        return py\n",
    "        "
   ]
  },
  {
   "cell_type": "code",
   "execution_count": 12,
   "metadata": {},
   "outputs": [],
   "source": [
    "'''\n",
    "函数说明：二分类朴素贝叶斯模型构建\n",
    "Parameters:\n",
    "    train_data_list - 训练集特征\n",
    "    test_data_list - 测试集特征\n",
    "    train_class_list - 训练标签\n",
    "Returns:\n",
    "    Predict_class_list - 预测标签\n",
    "'''\n",
    "def NBTest(train_feature_list,test_feature_list,train_class_list):\n",
    "    Classifier = NB()\n",
    "    Classifier.fit(train_feature_list, train_class_list)\n",
    "    Predict_Class_List=Classifier.predict(test_feature_list)\n",
    "    return Predict_Class_List"
   ]
  },
  {
   "cell_type": "markdown",
   "metadata": {},
   "source": [
    "## 六.对比特征数目（词表大小）对模型效果的影响\n",
    "\n",
    "测试特征数目从500到1500对模型效果的影响：\n",
    "\n",
    "- 📐分别画出了feature_num对以下指标的影响趋势  \n",
    "  准确率 ***Accuracy***\n",
    "  精准率 ***Precision***\n",
    "  召回率 ***Recall***"
   ]
  },
  {
   "cell_type": "code",
   "execution_count": 13,
   "metadata": {},
   "outputs": [
    {
     "data": {
      "image/png": "[encoded data removed]",
      "text/plain": [
       "<Figure size 432x288 with 1 Axes>"
      ]
     },
     "metadata": {
      "needs_background": "light"
     },
     "output_type": "display_data"
    },
    {
     "data": {
      "image/png": "[encoded data removed]",
      "text/plain": [
       "<Figure size 432x288 with 1 Axes>"
      ]
     },
     "metadata": {
      "needs_background": "light"
     },
     "output_type": "display_data"
    },
    {
     "data": {
      "image/png": "[encoded data removed]",
      "text/plain": [
       "<Figure size 432x288 with 1 Axes>"
      ]
     },
     "metadata": {
      "needs_background": "light"
     },
     "output_type": "display_data"
    }
   ],
   "source": [
    "from sklearn.metrics import accuracy_score\n",
    "from sklearn.metrics import precision_score\n",
    "from sklearn.metrics import recall_score\n",
    "import matplotlib.pyplot as plt\n",
    "\n",
    "acc_list = []\n",
    "prec_list = []\n",
    "rec_list = []\n",
    "\n",
    "feature_num_list = range(500, 1500, 20)\n",
    "for feature_num in feature_num_list:\n",
    "    feature_words = words_dict(all_words_list, feature_num, words_set)\n",
    "    train_feature_list, test_feature_list = TextFeatures(train_data_list, test_data_list, feature_words)\n",
    "    predict_class_list = NBclassifier(train_feature_list, test_feature_list, train_class_list)\n",
    "    \n",
    "    acc_list.append(accuracy_score(test_class_list,predict_class_list))\n",
    "    prec_list.append(precision_score(test_class_list,predict_class_list))\n",
    "    rec_list.append(recall_score(test_class_list,predict_class_list))\n",
    "    \n",
    "plt.figure()\n",
    "plt.plot(feature_num_list, acc_list)\n",
    "plt.title('Relationship of feature_num and test_accuracy',fontsize=14)\n",
    "plt.xlabel('feature_num',fontsize=14)\n",
    "plt.ylabel('test_accuracy',fontsize=14)\n",
    "plt.show()\n",
    "\n",
    "plt.figure()\n",
    "plt.plot(feature_num_list, prec_list)\n",
    "plt.title('Relationship of feature_num and test_precision',fontsize=14)\n",
    "plt.xlabel('feature_num',fontsize=14)\n",
    "plt.ylabel('test_precision',fontsize=14)\n",
    "plt.show()\n",
    "\n",
    "plt.figure()\n",
    "plt.plot(feature_num_list, rec_list)\n",
    "plt.title('Relationship of feature_num and test_recall',fontsize=14)\n",
    "plt.xlabel('feature_num',fontsize=14)\n",
    "plt.ylabel('test_recall',fontsize=14)\n",
    "plt.show()"
   ]
  },
  {
   "cell_type": "markdown",
   "metadata": {},
   "source": [
    "## 七.测试集分类结果分析\n",
    "\n",
    "- 选取2500个特征构建词表训练模型💯  \n",
    "准确率 ***Accuracy***、精准率 ***Precision***、召回率 ***Recall***均超过 ***90%***"
   ]
  },
  {
   "cell_type": "code",
   "execution_count": 14,
   "metadata": {},
   "outputs": [
    {
     "name": "stdout",
     "output_type": "stream",
     "text": [
      "词表(数量2500)显示前300个特征:\n",
      " ['公司', '管理', '企业', '一个', '发票', '有限公司', '没有', '工作', '服务', '中国', '合作', '网站', '培训', '信息', '咨询', '优惠', '时间', '分析', '问题', '联系人', '产品', '朋友', '现在', '提供', '客户', '需要', '知道', '电话', '时候', '广告', '发展', '您好', '深圳市', '我司', '电脑', '每月', '觉得', '希望', '业务', '技术', '生产', '销售', '注册', '实业', '课程', '经理', '免费', '代开', '专业', '方法', '财务', '系统', '点数', '邮件', '方面', '设计', '左右', '手机', '北京', '网络', '上网', '国际', '联系', '项目', '进行', '深圳', '机会', '广州', '增值税', '直接', '方式', '贵司', '采购', '上海', '控制', '市场', '案例', '运输', '集团', '负责人', '一次', '软件', '很多', '能力', '小时', '已经', '承诺', '喜欢', '全国', '通过', '欢迎', '代理', '使用', '收入', '进项', '一起', '一直', '信息化', '绝对', '生活', '美国', '可能', '不能', '要求', '开始', '良好', '费用', '营销', '人员', '商祺', '成功', '分公司', '完成', '邮箱', '数量', '国内', '组织', '了解', '供应商', '内容', '比较', '会员', '顺祝', '成本', '地税', '选择', '介绍', '能够', '报名', '来电', '大小', '价格', '目标', '付款', '不要', '海关', '成为', '中心', '不会', '参加', '战略', '包括', '投资', '资料', '学习', '有效', '员工', '地址', '不了', '感觉', '事情', '计划', '香港', '报告', '建立', '世界', '所用', '部分', '郑重', '年月日', '行业', '研究', '活动', '拥有', '关系', '技巧', '一定', '验证', '传真', '主要', '团队', '国税', '沟通', '税务局', '有着', '人才', '商品销售', '详情请', '现场', '网上', '应该', '设备', '担心', '单位', '一部分', '查询', '最新', '进一步', '各种', '一样', '抵扣', '非常', '真的', '流程', '男人', '支持', '以后', '电子', '真票', '学员', '情况', '经验', '标准', '一下', '联系电话', '这种', '长期有效', '两个', '其实', '真伪', '一种', '过程', '网址', '电话传真', '社会关系', '普通', '销售额', '方案', '普通发票', '绩效', '仿真', '实力雄厚', '获得', '看到', '东西', '额度', '今天', '体系', '加入', '缴款', '真正', '东莞', '处理', '经营', '帮助', '元人', '点击', '开发', '特别', '提高', '老师', '相关', '用户', '一点', '科技', '每天', '下载', '疑虑', '贸易', '商讨', '专家', '酒店', '发现', '无铅', '决定', '尊敬', '重要', '告诉', '多年', '得到', '应用', '赚钱', '国家', '不同', '对外', '同学', '认识', '永久', '功能', '内部', '建设', '具有', '地点', '先生', '教育', '职业', '部门', '清华', '文化', '全套', '也许', '价值', '模式', '操作', '女人', '较多现', '认证', '一般', '技能', '学校', '在线', '是否', '完全', '影响', '以下', '推荐', '实现', '洽商', '标题', '现有']\n",
      "sklearn模型准确率: 0.9484679665738162\n",
      "sklearn模型精确率: 0.972106824925816\n",
      "sklearn模型召回率: 0.9500057997912075\n"
     ]
    }
   ],
   "source": [
    "feature_words = words_dict(all_words_list, 2500, words_set)\n",
    "print(\"词表(数量2500)显示前300个特征:\\n\",feature_words[:300:1])\n",
    "train_feature_list, test_feature_list = TextFeatures(train_data_list, test_data_list, feature_words)\n",
    "# sklearn模型\n",
    "predict_class_list=NBclassifier(train_feature_list,test_feature_list,train_class_list)\n",
    "print(\"sklearn模型准确率:\",accuracy_score(test_class_list,predict_class_list))\n",
    "print(\"sklearn模型精确率:\",precision_score(test_class_list,predict_class_list))\n",
    "print(\"sklearn模型召回率:\",recall_score(test_class_list,predict_class_list))"
   ]
  },
  {
   "cell_type": "code",
   "execution_count": 15,
   "metadata": {},
   "outputs": [
    {
     "name": "stdout",
     "output_type": "stream",
     "text": [
      "自主实现模型准确率: 0.9484679665738162\n",
      "自主实现模型精确率: 0.972106824925816\n",
      "自主实现模型召回率: 0.9500057997912075\n"
     ]
    }
   ],
   "source": [
    "# 自主实现模型\n",
    "Predict_Class_List=NBTest(train_feature_list,test_feature_list,train_class_list)\n",
    "print(\"自主实现模型准确率:\",accuracy_score(test_class_list,Predict_Class_List))\n",
    "print(\"自主实现模型精确率:\",precision_score(test_class_list,Predict_Class_List))\n",
    "print(\"自主实现模型召回率:\",recall_score(test_class_list,Predict_Class_List))"
   ]
  },
  {
   "cell_type": "code",
   "execution_count": null,
   "metadata": {},
   "outputs": [],
   "source": []
  }
 ],
 "metadata": {
  "kernelspec": {
   "display_name": "Python 3.9.12 ('base')",
   "language": "python",
   "name": "python3"
  },
  "language_info": {
   "codemirror_mode": {
    "name": "ipython",
    "version": 3
   },
   "file_extension": ".py",
   "mimetype": "text/x-python",
   "name": "python",
   "nbconvert_exporter": "python",
   "pygments_lexer": "ipython3",
   "version": "3.9.12"
  },
  "orig_nbformat": 4,
  "vscode": {
   "interpreter": {
    "hash": "a825f8e8905b8e64233e6384cfa1616d0baa442a3b458fa78e4916d5c671b0d4"
   }
  }
 },
 "nbformat": 4,
 "nbformat_minor": 2
}
