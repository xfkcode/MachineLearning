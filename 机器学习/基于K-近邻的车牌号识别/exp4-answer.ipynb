{
 "cells": [
  {
   "cell_type": "markdown",
   "metadata": {},
   "source": [
    "# Exp4: 基于K-近邻的车牌号识别"
   ]
  },
  {
   "cell_type": "markdown",
   "metadata": {},
   "source": [
    "## 一、案例简介\n",
    "\n",
    "图像的智能处理一直是人工智能领域广受关注的一类技术，代表性的如人脸识别与 CT 肿瘤识别，在人工智能落地的进程中发挥着重要作用。其中车牌号识别作为一个早期应用场景，已经融入日常生活中，为我们提供了诸多便利，在各地的停车场和出入口都能看到它的身影。车牌号识别往往分为字符划分和字符识别两个子任务，本案例我们将关注字符识别的任务，尝试用 K-NN 的方法对分割好的字符图像进行自动识别和转化。\n",
    "\n",
    "## 二、作业说明\n",
    "\n",
    "### 基本要求\n",
    "* 完成数据的读入和表示，将图片表示成向量并和 label 对应上；\n",
    "* 构建 K-NN 模型（可调库）对测试集中的图片进行预测并计算准确率；\n",
    "* 分析当 K 取不同值时测试准确率的变化。\n",
    "\n",
    "### 扩展要求\n",
    "* 分析不同距离度量方式对模型效果的影响；\n",
    "* 对比平权和加权 K-NN 的效果；\n",
    "* 分析训练集大小对测试结果的影响。"
   ]
  },
  {
   "cell_type": "markdown",
   "metadata": {},
   "source": [
    "## 三、数据概览\n",
    "本次我们使用已经分割好的车牌图片作为数据集，包括数字 0-9、字母 A-Z（不包含 O 和 I）以及省份简称共 65 个类，编号从 0 到 64。数据已经分成了训练集和测试集，里面的文件夹用 label 编号命名，一个文件夹下的所有图片都属于该文件夹对应的类，每个图片都是 20 * 20 的二值化灰度图。\n",
    "\n",
    "下面演示一下如何借助 PIL 库将图片转化为向量："
   ]
  },
  {
   "cell_type": "code",
   "execution_count": 54,
   "metadata": {},
   "outputs": [
    {
     "data": {
      "image/png": "[encoded data removed]",
      "text/plain": [
       "<PIL.JpegImagePlugin.JpegImageFile image mode=L size=20x20 at 0x7FD2224EF590>"
      ]
     },
     "execution_count": 54,
     "metadata": {},
     "output_type": "execute_result"
    }
   ],
   "source": [
    "from PIL import Image\n",
    "img = Image.open('data/train/0/4-3.jpg')  # 打开图片\n",
    "img  # 显示图片"
   ]
  },
  {
   "cell_type": "code",
   "execution_count": 55,
   "metadata": {},
   "outputs": [
    {
     "data": {
      "text/plain": [
       "(20, 20)"
      ]
     },
     "execution_count": 55,
     "metadata": {},
     "output_type": "execute_result"
    }
   ],
   "source": [
    "import numpy as np\n",
    "pixels = np.array(img)  # 转化为 numpy 矩阵\n",
    "pixels.shape"
   ]
  },
  {
   "cell_type": "markdown",
   "metadata": {},
   "source": [
    "## 四、模型构建"
   ]
  },
  {
   "cell_type": "code",
   "execution_count": 88,
   "metadata": {},
   "outputs": [],
   "source": [
    "import os\n",
    "\n",
    "def read_data(path, max_num=-1):\n",
    "    data, label = list(), list()\n",
    "    for root, dirs, files in os.walk(path):  # 遍历所有文件\n",
    "        if len(dirs) == 0:  # 到达包含图片的文件夹\n",
    "            y = root.split(os.path.sep)[-1]  # 文件夹名字（label）\n",
    "            file_lst = files[:max_num] if max_num > 0 else files\n",
    "            for f in file_lst:\n",
    "                img = Image.open(os.path.join(root, f))\n",
    "                data.append(np.array(img).reshape(-1))  # reshape 成一行作为输入向量\n",
    "                label.append(y)\n",
    "    return np.array(data), np.array(label)"
   ]
  },
  {
   "cell_type": "code",
   "execution_count": 91,
   "metadata": {},
   "outputs": [
    {
     "data": {
      "text/plain": [
       "((15954, 400), (15954,), (4665, 400), (4665,))"
      ]
     },
     "execution_count": 91,
     "metadata": {},
     "output_type": "execute_result"
    }
   ],
   "source": [
    "PREFIX = './data/'\n",
    "x_train, y_train = read_data(os.path.join(PREFIX, 'train'))\n",
    "x_test, y_test = read_data(os.path.join(PREFIX, 'test'))\n",
    "x_train.shape, y_train.shape, x_test.shape, y_test.shape  # 观察训练与测试数据规模"
   ]
  },
  {
   "cell_type": "code",
   "execution_count": 92,
   "metadata": {},
   "outputs": [
    {
     "name": "stdout",
     "output_type": "stream",
     "text": [
      "accuracy: 0.6969\n"
     ]
    }
   ],
   "source": [
    "from sklearn.neighbors import KNeighborsClassifier\n",
    "from sklearn.metrics import accuracy_score\n",
    "\n",
    "clf = KNeighborsClassifier()\n",
    "clf.fit(x_train, y_train)  # 记录训练数据\n",
    "p_test = clf.predict(x_test)  # 预测测试图片\n",
    "accuracy = accuracy_score(p_test, y_test)  # 计算准确率\n",
    "print('accuracy: {:<.4f}'.format(accuracy))"
   ]
  },
  {
   "cell_type": "markdown",
   "metadata": {},
   "source": [
    "### K 的影响"
   ]
  },
  {
   "cell_type": "code",
   "execution_count": 79,
   "metadata": {},
   "outputs": [
    {
     "name": "stdout",
     "output_type": "stream",
     "text": [
      "K: 1, accuracy: 0.7168\n",
      "K: 2, accuracy: 0.7220\n",
      "K: 3, accuracy: 0.7031\n",
      "K: 4, accuracy: 0.7074\n",
      "K: 5, accuracy: 0.6969\n",
      "K: 6, accuracy: 0.6965\n",
      "K: 7, accuracy: 0.6956\n",
      "K: 8, accuracy: 0.6924\n",
      "K: 9, accuracy: 0.6913\n"
     ]
    },
    {
     "data": {
      "image/png": "[encoded data removed]",
      "text/plain": [
       "<Figure size 432x288 with 1 Axes>"
      ]
     },
     "metadata": {},
     "output_type": "display_data"
    }
   ],
   "source": [
    "import matplotlib.pyplot as plt\n",
    "import seaborn as sns\n",
    "sns.set()\n",
    "\n",
    "k_range = range(1, 10)\n",
    "acc_lst = list()\n",
    "for k in k_range:  # 遍历邻居的个数 k\n",
    "    clf = KNeighborsClassifier(k)\n",
    "    clf.fit(x_train, y_train)  # 记录训练数据\n",
    "    p_test = clf.predict(x_test)  # 预测测试图片\n",
    "    accuracy = accuracy_score(p_test, y_test)  # 计算准确率\n",
    "    acc_lst.append(accuracy)\n",
    "    print('K: {}, accuracy: {:<.4f}'.format(k, accuracy))\n",
    "    \n",
    "plt.plot(k_range, acc_lst)  # 画图\n",
    "plt.xlabel('K')\n",
    "plt.ylabel('Accuracy')\n",
    "plt.show()"
   ]
  },
  {
   "cell_type": "markdown",
   "metadata": {},
   "source": [
    "### 是否加权以及距离度量的影响"
   ]
  },
  {
   "cell_type": "code",
   "execution_count": 80,
   "metadata": {},
   "outputs": [
    {
     "name": "stdout",
     "output_type": "stream",
     "text": [
      "weight: uniform, metric: euclidean, accuracy: 0.7220\n",
      "weight: uniform, metric: manhattan, accuracy: 0.7076\n",
      "weight: uniform, metric: chebyshev, accuracy: 0.4553\n",
      "weight: uniform, metric: minkowski, accuracy: 0.7220\n",
      "weight: distance, metric: euclidean, accuracy: 0.7168\n",
      "weight: distance, metric: manhattan, accuracy: 0.7145\n",
      "weight: distance, metric: chebyshev, accuracy: 0.4643\n",
      "weight: distance, metric: minkowski, accuracy: 0.7168\n"
     ]
    }
   ],
   "source": [
    "for weight in ['uniform', 'distance']:\n",
    "    for metric in ['euclidean', 'manhattan', 'chebyshev', 'minkowski']:\n",
    "        clf = KNeighborsClassifier(n_neighbors=2, weights=weight, metric=metric)\n",
    "        clf.fit(x_train, y_train)\n",
    "        p_test = clf.predict(x_test)\n",
    "        accuracy = accuracy_score(p_test, y_test)\n",
    "        acc_lst.append(accuracy)\n",
    "        print('weight: {}, metric: {}, accuracy: {:<.4f}'.format(weight, metric, accuracy))"
   ]
  },
  {
   "cell_type": "markdown",
   "metadata": {},
   "source": [
    "### 训练集大小的影响"
   ]
  },
  {
   "cell_type": "code",
   "execution_count": 95,
   "metadata": {},
   "outputs": [
    {
     "name": "stdout",
     "output_type": "stream",
     "text": [
      "train: 10, accuracy: 0.5633\n",
      "train: 50, accuracy: 0.6782\n",
      "train: 100, accuracy: 0.7115\n",
      "train: 500, accuracy: 0.7196\n",
      "train: 1000, accuracy: 0.7228\n",
      "train: 2000, accuracy: 0.7220\n"
     ]
    },
    {
     "data": {
      "image/png": "[encoded data removed]",
      "text/plain": [
       "<Figure size 432x288 with 1 Axes>"
      ]
     },
     "metadata": {},
     "output_type": "display_data"
    }
   ],
   "source": [
    "train_range = [10, 50, 100, 500, 1000, 2000]\n",
    "acc_lst = list()\n",
    "for train_num in train_range:\n",
    "    x_train, y_train = read_data(os.path.join(PREFIX, 'train'), max_num=train_num)\n",
    "    clf = KNeighborsClassifier(2)\n",
    "    clf.fit(x_train, y_train)\n",
    "    p_test = clf.predict(x_test)\n",
    "    accuracy = accuracy_score(p_test, y_test)\n",
    "    acc_lst.append(accuracy)\n",
    "    print('train: {}, accuracy: {:<.4f}'.format(train_num, accuracy))\n",
    "\n",
    "plt.plot(train_range, acc_lst)\n",
    "plt.xlabel('# train')\n",
    "plt.ylabel('Accuracy')\n",
    "plt.show()"
   ]
  },
  {
   "cell_type": "markdown",
   "metadata": {},
   "source": [
    "## 五、讨论\n",
    "\n",
    "* 图片表示\n",
    "    * 二值化\n",
    "    * 拉伸使字符居中且充满整个区域\n",
    "    * [方向梯度直方图（HOG）](https://baike.baidu.com/item/HOG/9738560?fr=aladdin)\n",
    "* 模型\n",
    "    * 卷积神经网络（CNN）"
   ]
  },
  {
   "cell_type": "code",
   "execution_count": null,
   "metadata": {},
   "outputs": [],
   "source": []
  }
 ],
 "metadata": {
  "kernelspec": {
   "display_name": "Python 3",
   "language": "python",
   "name": "python3"
  },
  "language_info": {
   "codemirror_mode": {
    "name": "ipython",
    "version": 3
   },
   "file_extension": ".py",
   "mimetype": "text/x-python",
   "name": "python",
   "nbconvert_exporter": "python",
   "pygments_lexer": "ipython3",
   "version": "3.7.6"
  }
 },
 "nbformat": 4,
 "nbformat_minor": 4
}
