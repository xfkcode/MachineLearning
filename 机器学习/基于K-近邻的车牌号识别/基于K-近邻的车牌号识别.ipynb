{
 "cells": [
  {
   "cell_type": "markdown",
   "metadata": {},
   "source": [
    "# 基于K-近邻的车牌号识别\n",
    "---\n",
    "## 一.案例介绍\n",
    "图像的智能处理一直是人工智能领域广受关注的一类技术，代表性的如人脸识别与 CT 肿瘤识别，在人工智能落地的进程中发挥着重要作用。  \n",
    "其中车牌号识别作为一个早期应用场景，已经融入日常生活中，为我们提供了诸多便利，在各地的停车场和出入口都能看到它的身影。  \n",
    "车牌号识别往往分为字符划分和字符识别两个子任务，本案例我们将关注字符识别的任务，尝试用 K-NN 的方法对分割好的字符图像进行自动识别和转化。"
   ]
  },
  {
   "cell_type": "code",
   "execution_count": 1,
   "metadata": {},
   "outputs": [],
   "source": [
    "import os\n",
    "from PIL import Image\n",
    "import numpy as np"
   ]
  },
  {
   "cell_type": "markdown",
   "metadata": {},
   "source": [
    "## 二.数据概览\n",
    "\n",
    "- 🚦🏍️使用已经分割好的车牌图片作为数据集：  \n",
    "  包括数字 ***0-9***、字母 ***A-Z*** **（不包含 ***O*** 和 ***I***）** 以及省份简称共 ***65*** 个类，编号从 ***0*** 到 ***64***。  \n",
    "- 💾🌡️数据已经分成了训练集和测试集，里面的文件夹用 ***label*** 编号命名。  \n",
    "  一个文件夹下的所有图片都属于该文件夹对应的类，每个图片都是 ***20 * 20*** 的二值化灰度图。  \n",
    "  \n",
    "✔️⚙️借助 ***PIL*** 库将图片转化为向量："
   ]
  },
  {
   "cell_type": "code",
   "execution_count": 2,
   "metadata": {},
   "outputs": [
    {
     "data": {
      "image/png": "[encoded data removed]",
      "text/plain": [
       "<PIL.JpegImagePlugin.JpegImageFile image mode=L size=20x20 at 0x16CB4B47CD0>"
      ]
     },
     "execution_count": 2,
     "metadata": {},
     "output_type": "execute_result"
    }
   ],
   "source": [
    "img = Image.open('data/train/0/4-3.jpg')  # 打开图片\n",
    "img  # 显示图片"
   ]
  },
  {
   "cell_type": "code",
   "execution_count": 3,
   "metadata": {},
   "outputs": [
    {
     "data": {
      "text/plain": [
       "(20, 20)"
      ]
     },
     "execution_count": 3,
     "metadata": {},
     "output_type": "execute_result"
    }
   ],
   "source": [
    "pixels = np.array(img)  # 转化为 numpy 矩阵\n",
    "pixels.shape"
   ]
  },
  {
   "cell_type": "markdown",
   "metadata": {},
   "source": [
    "## 三.图像像素以及标签提取\n",
    "\n",
    "- **训练集数据**：\"./data/train/\" 📂路径下 ***15954*** 张图片📸\n",
    "- **测试集数据**：\"./data/test/\"  📂路径下 ***4665***  张图片🖼️"
   ]
  },
  {
   "cell_type": "code",
   "execution_count": 4,
   "metadata": {},
   "outputs": [],
   "source": [
    "'''\n",
    "函数说明：\n",
    "Parameters:\n",
    "    files_path - 数据存储路径(\"./data/train/\"训练集)(\"./data/test/\"测试集)\n",
    "Returns:\n",
    "    data_array - 图像数组，每一个图像转化为(1,400)的向量\n",
    "    labels_array - 标签数组(0,64)共65类\n",
    "'''\n",
    "def dataSet(files_path):\n",
    "    data_list=[] # 数据列表\n",
    "    labels=[] # 标签列表\n",
    "    # 根据路径读取图片\n",
    "    label_list=os.listdir(files_path)\n",
    "    for label in label_list:\n",
    "        file_path=os.path.join(files_path,label)\n",
    "        image_list=os.listdir(file_path)\n",
    "        for image in image_list:\n",
    "            image_path=os.path.join(file_path,image)\n",
    "            # 打开图片\n",
    "            img = Image.open(image_path)\n",
    "            # 转化为 numpy 矩阵 (20,20)\n",
    "            pixels = np.array(img)\n",
    "            # 转化为 vector 向量 (400)\n",
    "            column=pixels.shape[0]*pixels.shape[1]\n",
    "            data_list.append(pixels.reshape(column))\n",
    "            labels.append(int(label))\n",
    "    # 转化为 array 数组 (numsample,400)\n",
    "    data_array=np.array(data_list)\n",
    "    labels_array=np.array(labels)\n",
    "    return data_array,labels_array"
   ]
  },
  {
   "cell_type": "code",
   "execution_count": 5,
   "metadata": {},
   "outputs": [],
   "source": [
    "# 分别读入图片数据，训练集和测试集分别在两个路径\n",
    "data_train,labels_train=dataSet(\"./data/train/\")\n",
    "data_test,labels_test=dataSet(\"./data/test/\")"
   ]
  },
  {
   "cell_type": "code",
   "execution_count": 6,
   "metadata": {},
   "outputs": [
    {
     "name": "stdout",
     "output_type": "stream",
     "text": [
      "[  1   0   1   0   0   2  26 139 254 255 254 254 141  27   1   2   0   0\n",
      "   0   0   0   2   2   0   1  95 254 255 255 250 253 255 250 253  27   0\n",
      "   0   0   0   0   0   3   0   0 119 255 251 190 126 128 131 162 255 254\n",
      " 140   0   0   0   0   0   0   0   2   4 229 252 203  39   0   1   0  23\n",
      " 166 251 255   3   0   0   0   0   3   0   1   0 229 255 177   1   0   8\n",
      "   0   1 130 253 255   0   0   0   0   0   0   2   4   0 232 252 182   0\n",
      "   3   0   2   1 126 255 252 233   0   0   0   0   3   3   0   4 227 254\n",
      " 182   3   0   1   0   2 122 255 255 230   0   0   0   0   0   0   5   0\n",
      " 229 255 176   0   0   2   0   0  64 219 254 227   0   0   0   0   0   0\n",
      "   1   0 230 254 180   0   5   0   1   0   0 180 254 229   0   0   0   0\n",
      "   0   0   1   1 228 253 179   2   0   7   1   0 119 247 253 232   0   0\n",
      "   0   0   1   1   0   1 230 254 176   0   2   1   0   5 127 254 253 231\n",
      "   0   0   0   0   1   1   0   0 231 253 177   1   0   2   0   0  91 233\n",
      " 255 229   0   0   0   0   0   0   1   0 230 252 181   5   0   0   2   3\n",
      "   0 180 255 226   0   0   0   0   1   0   1   1 231 255 181   0   0   4\n",
      "   1   2   0 179 255 229   0   0   0   0   1   0   0   3 224 255 181   0\n",
      "   3   0   0   0   3 178 253 231   0   0   0   0   0   2   0   1 208 250\n",
      " 186  16   0   3   0   1 127 255 255 205   0   0   0   0   1   0   0   2\n",
      "   1 255 251 169  24   0  11  79 167 255 255   0   0   0   0   0   0   0\n",
      "   5   0   0 143 255 253 164 132 141 252 254 253 143   0   0   0   0   0\n",
      "   2   0   0   0   1   7 128 254 255 252 255 253 255 130   4   3   0   0\n",
      "   0   0   1   0   6   0   0   1   9  31 187 252 232  26  30   7   4   0\n",
      "   0   0   0   0]\n",
      "0\n",
      "(15954, 400)\n",
      "(15954,)\n"
     ]
    }
   ],
   "source": [
    "# 显示训练集第一条像素数组和标签\n",
    "print(data_train[0])\n",
    "print(labels_train[0])\n",
    "# 显示训练集数组维度类型\n",
    "print(data_train.shape)\n",
    "print(labels_train.shape)"
   ]
  },
  {
   "cell_type": "code",
   "execution_count": 7,
   "metadata": {},
   "outputs": [
    {
     "name": "stdout",
     "output_type": "stream",
     "text": [
      "[  0   0   0   0   0   0   6  30  64  80  78  75  69  45  20   2   0   3\n",
      "   0   0   0   1   0   3   7  73 190 242 248 255 255 255 255 242 216 116\n",
      "  43   6   0   0   0   0   0  14 131 244 255 247 243 192 154 154 199 239\n",
      " 254 253 220  94   4   4   0   1  23 149 249 254 234 110   0   0   4   0\n",
      "   0  19 137 242 255 239  77   0   0   1  81 236 253 241 130   8   0   1\n",
      "   0   2   0   0  48 202 255 253 198   2   3   0  88 236 254 241 119   0\n",
      "   0   0   3   0   2   0  27 169 253 254 198   5   0   0  91 248 255 245\n",
      " 127   0   2   0   0   3   0   0  11 139 251 255 210  21   1   1 110 255\n",
      " 255 231  95   2   0   0   1   0   1   2  22 168 253 255 226  41   1   1\n",
      "  98 247 255 236 105   1   1   0   1   1   0   0  35 176 254 254 205  12\n",
      "   0   2 116 251 255 243 121   0   0   0   0   0   2   0  15 150 251 254\n",
      " 206  15   0   1 110 254 253 245 130   1   0   2   0   0   0   2  45 201\n",
      " 254 255 215  29   3   0 109 255 254 227  94   1   1   0   0   1   2   0\n",
      "  43 187 253 255 198   3   0   6 133 255 254 243 120   0   0   0   3   0\n",
      "   0   0  21 157 253 253 206  10   0   0 120 253 255 229  95   0   3   0\n",
      "   0   0   3   2   6 145 251 255 186  12   1   0 112 250 255 218  68   4\n",
      "   0   1   1   2   0   0  52 195 253 252 201   3   1   0  98 247 253 247\n",
      " 171  26   0   3   0   0   2  15 123 237 255 248 120   3   0   1  10 149\n",
      " 251 255 246 197 133  93  50  66 111 193 246 255 252 207  26   0   4   0\n",
      "   2  10 101 230 255 252 255 250 252 255 251 255 255 244 173  50   0   1\n",
      "   0   0   3   3   4  39 112 190 228 230 245 234 224 196 135  63   7   0\n",
      "   3   0   4   0   0   0   0   2   0   1   7   6  36  28  13   0   0   2\n",
      "   1   1   1   0]\n",
      "0\n",
      "(4665, 400)\n",
      "(4665,)\n"
     ]
    }
   ],
   "source": [
    "# 显示测试集第一条像素数组和标签\n",
    "print(data_test[0])\n",
    "print(labels_test[0])\n",
    "# 显示测试集数组维度类型\n",
    "print(data_test.shape)\n",
    "print(labels_test.shape)"
   ]
  },
  {
   "cell_type": "markdown",
   "metadata": {},
   "source": [
    "## 四.模型构建"
   ]
  },
  {
   "cell_type": "markdown",
   "metadata": {},
   "source": [
    "### 🧰***sklearn*** 实现，***sklearn.neighbors.KNeighborsClassifier*** \n",
    "`(class) KNeighborsClassifier(n_neighbors: int = 5, weights: str = \"uniform\", algorithm: str = \"auto\", leaf_size: int = 30, p: int = 2, metric: str = \"minkowski\")`\n",
    "- ***n_neighbors***：默认为5，就是k-NN的k的值，选取最近的k个点。\n",
    "- ***weights***：默认是uniform，参数可以是uniform、distance，也可以是用户自己定义的函数。  \n",
    "  uniform是均等的权重，就说所有的邻近点的权重都是相等的。  \n",
    "  distance是不均等的权重，距离近的点比距离远的点的影响大。  \n",
    "  用户自定义的函数，接收距离的数组，返回一组维数相同的权重。\n",
    "- ***algorithm***：快速k近邻搜索算法，默认参数为auto，可以理解为算法自己决定合适的搜索算法。  \n",
    "  除此之外，用户也可以自己指定搜索算法ball_tree、kd_tree、brute方法进行搜索，brute是蛮力搜索，也就是线性扫描，当训练集很大时，计算非常耗时。  \n",
    "  kd_tree，构造kd树存储数据以便对其进行快速检索的树形数据结构，kd树也就是数据结构中的二叉树。以中值切分构造的树，每个结点是一个超矩形，在维数小于20时效率高。  \n",
    "  ball tree是为了克服kd树高纬失效而发明的，其构造过程是以质心C和半径r分割样本空间，每个节点是一个超球体。\n",
    "- ***leaf_size***：默认是30，这个是构造的kd树和ball树的大小。  \n",
    "  这个值的设置会影响树构建的速度和搜索速度，同样也影响着存储树所需的内存大小。需要根据问题的性质选择最优的大小。\n",
    "- ***metric***：用于距离度量，默认度量是minkowski，也就是p=2的欧氏距离(欧几里德度量)。\n",
    "- ***p***：距离度量公式，这个参数默认为2，也就是默认使用欧式距离公式进行距离度量。  \n",
    "  也可以设置为1，使用曼哈顿距离公式进行距离度量。"
   ]
  },
  {
   "cell_type": "code",
   "execution_count": 8,
   "metadata": {},
   "outputs": [],
   "source": [
    "from sklearn.neighbors import KNeighborsClassifier\n",
    "'''\n",
    "函数说明: KNN欧氏距离sklearn模型构建\n",
    "Parameters:\n",
    "    data_train - 训练集像素数组\n",
    "    labels_train - 训练集标签\n",
    "    data_test - 测试集像素数组\n",
    "    k - K-values\n",
    "Returns:\n",
    "    classResult - 预测标签\n",
    "'''\n",
    "def KNNtest(data_train,labels_train,data_test,k):\n",
    "    KNN=KNeighborsClassifier(n_neighbors = k, algorithm = 'auto')\n",
    "    KNN.fit(data_train,labels_train)\n",
    "    classResult=KNN.predict(data_test)\n",
    "    return classResult"
   ]
  },
  {
   "cell_type": "markdown",
   "metadata": {},
   "source": [
    "### ♟️扩展：**自主** 实现, **K-近邻欧氏距离模型**\n",
    "- 🧠***k***-**近邻**算法 ***(k-nearest neighbor, k-NN)***\n",
    "  1. 计算已知类别数据集中的点与当前点之间的距离；\n",
    "  2. 按照距离递增次序排序；\n",
    "  3. 选取与当前点距离最小的 ***k*** 个点；\n",
    "  4. 确定前 ***k*** 个点所在类别的出现频率；\n",
    "  5. 返回前 ***k*** 个点所出现频率最高的类别作为当前点的预测分类。\n",
    "- 📐距离度量 **(欧几里得距离)**\n",
    "  - 📌 $d_{ij}=\\sqrt{\\sum_{k=1}^{p} {(x_{ik}-x_{jk})^2}}$ 📌\n",
    "- 💾数据归一化 ***(normalization)***\n",
    "  - $NORMdata=(data-min)/(max-min)$\n",
    "  - 📢数据未进行归一化处理训练的模型效果差❗❗❗"
   ]
  },
  {
   "cell_type": "code",
   "execution_count": 9,
   "metadata": {},
   "outputs": [],
   "source": [
    "import operator\n",
    "# K-近邻欧氏距离模型\n",
    "class K_NN:\n",
    "    def __init__(self,Kvalue=5,distance='eucl') -> None:\n",
    "        self.Kvalue=Kvalue # kNN算法参数,选择距离最小的k个点，默认5\n",
    "        self.distance=distance # 距离度量方法，默认欧氏距离\n",
    "\n",
    "    '''\n",
    "    函数说明：分类器\n",
    "    Parameters:\n",
    "        x - 训练集features\n",
    "        y - 训练集labels\n",
    "        x_test - 测试集features\n",
    "    Returns:\n",
    "        classResult - 分类结果\n",
    "    '''\n",
    "    def classify(self,x,y,x_test):\n",
    "        '''\n",
    "        函数说明：欧氏距离\n",
    "        Parameters:\n",
    "            x - 训练集features\n",
    "            x_test_each - 测试集features单条样本\n",
    "        Returns:\n",
    "            distances - 距离数组\n",
    "        '''\n",
    "        def Euclidean_distance(x,x_test_each):\n",
    "            x_sample_num = x.shape[0] # 样本数量\n",
    "            # 构造矩阵：np.tile()\n",
    "            # 在列向量方向上重复 x_test_each 共 1 次(横向)\n",
    "            # 行向量方向上重复 x_test_each 共 x_sample_num 次(纵向)\n",
    "            diffMat = np.tile(x_test_each,(x_sample_num,1)) - x # 相减\n",
    "            sqDiffMat = diffMat**2 # 平方\n",
    "            # sum()所有元素相加,sum(0)列相加,sum(1)行相加\n",
    "            sqDistances = sqDiffMat.sum(axis=1) # 求和\n",
    "            distances = sqDistances**0.5 # 开方\n",
    "            return distances\n",
    "        \n",
    "        '''\n",
    "        函数说明: 预测,前K最小距离类别频数最大的作为分类结果\n",
    "        Parameters:\n",
    "            distances - 距离数组\n",
    "        Returns:\n",
    "            sortedClassCount[0][0] - 分类结果\n",
    "        '''\n",
    "        def predict(distances):\n",
    "            # 返回distances中元素从小到大排序后的索引值\n",
    "            sortedDistIndices = distances.argsort()\n",
    "            # 定一个记录类别次数的字典\n",
    "            classCount = {}\n",
    "            for i in range(self.Kvalue):\n",
    "                # 取出前k个元素的类别\n",
    "                voteIlabel = y[sortedDistIndices[i]]\n",
    "                # dict.get(key,default=None),字典的get()方法,返回指定键的值,如果值不在字典中返回默认值。\n",
    "                # 计算类别次数\n",
    "                classCount[voteIlabel] = classCount.get(voteIlabel,0) + 1\n",
    "            # key=operator.itemgetter(1)根据字典的值进行排序\n",
    "            # key=operator.itemgetter(0)根据字典的键进行排序\n",
    "            # reverse降序排序字典\n",
    "            sortedClassCount = sorted(classCount.items(),key=operator.itemgetter(1),reverse=True)\n",
    "            return sortedClassCount[0][0]\n",
    "            \n",
    "        if self.distance=='eucl':\n",
    "            classResult=[]\n",
    "            for x_test_each in x_test:\n",
    "                distances=Euclidean_distance(x,x_test_each)\n",
    "                yp=predict(distances)\n",
    "                classResult.append(yp)\n",
    "        elif 1:\n",
    "            pass # 可扩展其他距离度量\n",
    "        return classResult\n",
    "   "
   ]
  },
  {
   "cell_type": "code",
   "execution_count": 10,
   "metadata": {},
   "outputs": [],
   "source": [
    "'''\n",
    "函数说明：数据归一化\n",
    "Parameters:\n",
    "    dataSet - 原始数据\n",
    "Returns:\n",
    "    normDataSet - 归一化数据\n",
    "'''\n",
    "def normdata(dataSet):\n",
    "    # 获得数据的最小值\n",
    "    minVals = dataSet.min(0)\n",
    "    maxVals = dataSet.max(0)\n",
    "    # 最大值和最小值的范围\n",
    "    ranges = maxVals - minVals\n",
    "    # shape(dataSet)返回dataSet的矩阵行列数\n",
    "    normDataSet = np.zeros(np.shape(dataSet))\n",
    "    # 返回dataSet的行数\n",
    "    m = dataSet.shape[0]\n",
    "    # 原始值减去最小值\n",
    "    normDataSet = dataSet - np.tile(minVals, (m, 1))\n",
    "    # 除以最大和最小值的差,得到归一化数据\n",
    "    normDataSet = normDataSet / np.tile(ranges, (m, 1))\n",
    "    return normDataSet\n",
    "        \n",
    "'''\n",
    "函数说明: K-近邻欧氏距离模型构建\n",
    "Parameters:\n",
    "    data_train - 训练集像素数组\n",
    "    labels_train - 训练集标签\n",
    "    data_test - 测试集像素数组\n",
    "    k - K-values\n",
    "Returns:\n",
    "    classResult - 预测标签\n",
    "'''\n",
    "def K_NNtest(data_train,labels_train,data_test,k):\n",
    "    K_NNclassifier=K_NN(Kvalue = k, distance = 'eucl')\n",
    "    classResult=K_NNclassifier.classify(data_train,labels_train,data_test)\n",
    "    return classResult"
   ]
  },
  {
   "cell_type": "markdown",
   "metadata": {},
   "source": [
    "### 🎭扩展：***Manhattan Distance*** ***K-NN***\n",
    "- 📐距离度量 **(曼哈顿距离)**\n",
    "  - 📌 $d(i,j)=\\sum_{k=1}^{p} {|(x_{k}(i)-x_{k}(j))|}$ 📌"
   ]
  },
  {
   "cell_type": "code",
   "execution_count": 11,
   "metadata": {},
   "outputs": [],
   "source": [
    "from sklearn.neighbors import KNeighborsClassifier\n",
    "'''\n",
    "函数说明: KNN曼哈顿距离sklearn模型构建\n",
    "Parameters:\n",
    "    data_train - 训练集像素数组\n",
    "    labels_train - 训练集标签\n",
    "    data_test - 测试集像素数组\n",
    "    k - K-values\n",
    "Returns:\n",
    "    classResult - 预测标签\n",
    "'''\n",
    "def KNNtest_MD(data_train,labels_train,data_test,k):\n",
    "    KNN_MD=KNeighborsClassifier(n_neighbors = k, algorithm = 'auto', p = 1 )\n",
    "    KNN_MD.fit(data_train,labels_train)\n",
    "    classResult=KNN_MD.predict(data_test)\n",
    "    return classResult"
   ]
  },
  {
   "cell_type": "markdown",
   "metadata": {},
   "source": [
    "### 🎭扩展：**加权** ***K-NN*** \n",
    "- 👣属性加权:  \n",
    "  ***distance*** 是不均等的权重，距离近的点比距离远的点的影响大。  \n",
    "  - 📌 $d_{WE}(i,j)=[\\sum_{k=1}^{p} {W_k(x_{ik}-x_{jk})^2}]^\\frac{1}{2}$ 📌  "
   ]
  },
  {
   "cell_type": "code",
   "execution_count": 12,
   "metadata": {},
   "outputs": [],
   "source": [
    "from sklearn.neighbors import KNeighborsClassifier\n",
    "'''\n",
    "函数说明: KNN加权sklearn模型构建\n",
    "Parameters:\n",
    "    data_train - 训练集像素数组\n",
    "    labels_train - 训练集标签\n",
    "    data_test - 测试集像素数组\n",
    "    k - K-values\n",
    "Returns:\n",
    "    classResult - 预测标签\n",
    "'''\n",
    "def KNNtest_WE(data_train,labels_train,data_test,k):\n",
    "    KNN_WE=KNeighborsClassifier(n_neighbors = k, weights = \"distance\", algorithm = 'auto')\n",
    "    KNN_WE.fit(data_train,labels_train)\n",
    "    classResult=KNN_WE.predict(data_test)\n",
    "    return classResult"
   ]
  },
  {
   "cell_type": "markdown",
   "metadata": {},
   "source": [
    "## 五.对比当 K 取不同值对模型效果的影响\n",
    "\n",
    "测试 ***K-values*** 从 ***1*** 到 ***10*** 对模型效果的影响：\n",
    "\n",
    "- 🎨画出了 ***K-values*** 对模型的影响变化  \n",
    "  准确率 ***Accuracy***  "
   ]
  },
  {
   "cell_type": "code",
   "execution_count": 13,
   "metadata": {},
   "outputs": [
    {
     "data": {
      "image/png": "[encoded data removed]",
      "text/plain": [
       "<Figure size 432x288 with 1 Axes>"
      ]
     },
     "metadata": {
      "needs_background": "light"
     },
     "output_type": "display_data"
    }
   ],
   "source": [
    "import matplotlib.pyplot as plt\n",
    "from sklearn.metrics import accuracy_score\n",
    "# sklearn\n",
    "acc_list=[]\n",
    "for k in range(1,11):\n",
    "    classResult=KNNtest(data_train,labels_train,data_test,k)\n",
    "    acc_list.append(accuracy_score(classResult,labels_test))\n",
    "\n",
    "plt.figure()\n",
    "plt.plot(range(1,11), acc_list)\n",
    "plt.title('fig1:Relationship of K-values and test_accuracy',fontsize=14)\n",
    "plt.xlabel('K-values',fontsize=14)\n",
    "plt.ylabel('test_accuracy',fontsize=14)\n",
    "plt.grid(True)\n",
    "plt.show()"
   ]
  },
  {
   "cell_type": "markdown",
   "metadata": {},
   "source": [
    "🧰***sklearn*** 实现分析👆👆👆   \n",
    "***K*** 取 ***1*** 时准确率较高，随着 ***K*** 的增大准确率降低"
   ]
  },
  {
   "cell_type": "code",
   "execution_count": 14,
   "metadata": {},
   "outputs": [
    {
     "data": {
      "image/png": "[encoded data removed]",
      "text/plain": [
       "<Figure size 432x288 with 1 Axes>"
      ]
     },
     "metadata": {
      "needs_background": "light"
     },
     "output_type": "display_data"
    }
   ],
   "source": [
    "# 数据归一化\n",
    "normd=normdata(data_train)\n",
    "normd_test=normdata(data_test)\n",
    "# K-近邻欧氏距离模型(自主实现)\n",
    "acc_list=[]\n",
    "for k in range(1,11):\n",
    "    classResult=K_NNtest(normd,labels_train,normd_test,k)\n",
    "    acc_list.append(accuracy_score(classResult,labels_test))\n",
    "\n",
    "plt.figure()\n",
    "plt.plot(range(1,11), acc_list)\n",
    "plt.title('fig2:Relationship of K-values and test_accuracy',fontsize=14)\n",
    "plt.xlabel('K-values',fontsize=14)\n",
    "plt.ylabel('test_accuracy',fontsize=14)\n",
    "plt.grid(True)\n",
    "plt.show()"
   ]
  },
  {
   "cell_type": "markdown",
   "metadata": {},
   "source": [
    "♟️扩展 **自主** 实现分析👆👆👆  \n",
    "***K*** 取 ***1*** 时准确率较高，随着 ***K*** 的增大准确率降低"
   ]
  },
  {
   "cell_type": "markdown",
   "metadata": {},
   "source": [
    "## 六.测试集分类结果分析"
   ]
  },
  {
   "cell_type": "markdown",
   "metadata": {},
   "source": [
    "- 根据 ***fig1*** : ***K*** 取 ***1*** 训练 ***sklearn*** 模型💯  \n",
    "准确率 ***Accuracy***  \n",
    "- 🎭扩展分析：\n",
    "  - 对比 **不同距离度量方式** 对模型效果的影响\n",
    "    - 欧氏距离 : 曼哈顿距离\n",
    "  - 对比 **属性权重** 对模型效果的影响\n",
    "    - 平权 : 加权"
   ]
  },
  {
   "cell_type": "code",
   "execution_count": 15,
   "metadata": {},
   "outputs": [
    {
     "name": "stdout",
     "output_type": "stream",
     "text": [
      "sklearn模型,[欧氏距离  ,平权,k=1],准确率--->  0.7168274383708467\n",
      "sklearn模型,[曼哈顿距离,平权,k=1],准确率--->  0.7144694533762058\n",
      "sklearn模型,[欧氏距离  ,加权,k=1],准确率--->  0.7168274383708467\n",
      "--------------------------------------------------------------\n",
      "sklearn模型,[欧氏距离  ,平权,k=2],准确率--->  0.6743837084673098\n",
      "sklearn模型,[曼哈顿距离,平权,k=2],准确率--->  0.6726688102893891\n",
      "sklearn模型,[欧氏距离  ,加权,k=2],准确率--->  0.7168274383708467\n",
      "--------------------------------------------------------------\n",
      "sklearn模型,[欧氏距离  ,平权,k=3],准确率--->  0.69989281886388\n",
      "sklearn模型,[曼哈顿距离,平权,k=3],准确率--->  0.6906752411575563\n",
      "sklearn模型,[欧氏距离  ,加权,k=3],准确率--->  0.7103965702036441\n",
      "--------------------------------------------------------------\n",
      "sklearn模型,[欧氏距离  ,平权,k=4],准确率--->  0.685101822079314\n",
      "sklearn模型,[曼哈顿距离,平权,k=4],准确率--->  0.6782422293676313\n",
      "sklearn模型,[欧氏距离  ,加权,k=4],准确率--->  0.7078242229367632\n",
      "--------------------------------------------------------------\n",
      "sklearn模型,[欧氏距离  ,平权,k=5],准确率--->  0.6928188638799572\n",
      "sklearn模型,[曼哈顿距离,平权,k=5],准确率--->  0.6827438370846731\n",
      "sklearn模型,[欧氏距离  ,加权,k=5],准确率--->  0.7016077170418007\n",
      "--------------------------------------------------------------\n",
      "sklearn模型,[欧氏距离  ,平权,k=6],准确率--->  0.6885316184351554\n",
      "sklearn模型,[曼哈顿距离,平权,k=6],准确率--->  0.6780278670953912\n",
      "sklearn模型,[欧氏距离  ,加权,k=6],准确率--->  0.6992497320471597\n",
      "--------------------------------------------------------------\n",
      "sklearn模型,[欧氏距离  ,平权,k=7],准确率--->  0.692390139335477\n",
      "sklearn模型,[曼哈顿距离,平权,k=7],准确率--->  0.6801714898177921\n",
      "sklearn模型,[欧氏距离  ,加权,k=7],准确率--->  0.6992497320471597\n",
      "--------------------------------------------------------------\n",
      "sklearn模型,[欧氏距离  ,平权,k=8],准确率--->  0.6855305466237942\n",
      "sklearn模型,[曼哈顿距离,平权,k=8],准确率--->  0.6733118971061093\n",
      "sklearn模型,[欧氏距离  ,加权,k=8],准确率--->  0.6958199356913183\n",
      "--------------------------------------------------------------\n",
      "sklearn模型,[欧氏距离  ,平权,k=9],准确率--->  0.6872454448017149\n",
      "sklearn模型,[曼哈顿距离,平权,k=9],准确率--->  0.6754555198285102\n",
      "sklearn模型,[欧氏距离  ,加权,k=9],准确率--->  0.6949624866023579\n",
      "--------------------------------------------------------------\n",
      "sklearn模型,[欧氏距离  ,平权,k=10],准确率--->  0.6831725616291533\n",
      "sklearn模型,[曼哈顿距离,平权,k=10],准确率--->  0.6718113612004287\n",
      "sklearn模型,[欧氏距离  ,加权,k=10],准确率--->  0.6943193997856377\n",
      "--------------------------------------------------------------\n"
     ]
    }
   ],
   "source": [
    "# sklearn模型准确率\n",
    "for k in range(1,11):\n",
    "    classResult=KNNtest(data_train,labels_train,data_test,k)\n",
    "    acc=accuracy_score(classResult,labels_test)\n",
    "    print(\"sklearn模型,[欧氏距离  ,平权,k=%d],准确率---> \" %k,acc)\n",
    "\n",
    "    classResult=KNNtest_MD(data_train,labels_train,data_test,k)\n",
    "    acc=accuracy_score(classResult,labels_test)\n",
    "    print(\"sklearn模型,[曼哈顿距离,平权,k=%d],准确率---> \" %k,acc)\n",
    "\n",
    "    classResult=KNNtest_WE(data_train,labels_train,data_test,k)\n",
    "    acc=accuracy_score(classResult,labels_test)\n",
    "    print(\"sklearn模型,[欧氏距离  ,加权,k=%d],准确率---> \" %k,acc)\n",
    "    \n",
    "    print(\"--------------------------------------------------------------\")"
   ]
  },
  {
   "cell_type": "markdown",
   "metadata": {},
   "source": [
    "- 根据 ***fig2*** : ***K*** 取 ***1*** 训练 **自主实现** 模型💯  \n",
    "准确率 ***Accuracy***  \n",
    "📢由于归一化处理数据的结果，准确率相较sklearn有微小提高❗❗❗"
   ]
  },
  {
   "cell_type": "code",
   "execution_count": 16,
   "metadata": {},
   "outputs": [
    {
     "name": "stdout",
     "output_type": "stream",
     "text": [
      "自主实现模型,[欧氏距离  ,平权,k=1],准确率--->  0.7172561629153269\n"
     ]
    }
   ],
   "source": [
    "# 自主实现模型准确率\n",
    "classResult=K_NNtest(normd,labels_train,normd_test,k=1)\n",
    "acc=accuracy_score(classResult,labels_test)\n",
    "print(\"自主实现模型,[欧氏距离  ,平权,k=1],准确率---> \",acc)"
   ]
  },
  {
   "cell_type": "code",
   "execution_count": null,
   "metadata": {},
   "outputs": [],
   "source": []
  }
 ],
 "metadata": {
  "kernelspec": {
   "display_name": "Python 3.9.12 ('base')",
   "language": "python",
   "name": "python3"
  },
  "language_info": {
   "codemirror_mode": {
    "name": "ipython",
    "version": 3
   },
   "file_extension": ".py",
   "mimetype": "text/x-python",
   "name": "python",
   "nbconvert_exporter": "python",
   "pygments_lexer": "ipython3",
   "version": "3.9.12"
  },
  "orig_nbformat": 4,
  "vscode": {
   "interpreter": {
    "hash": "a825f8e8905b8e64233e6384cfa1616d0baa442a3b458fa78e4916d5c671b0d4"
   }
  }
 },
 "nbformat": 4,
 "nbformat_minor": 2
}
