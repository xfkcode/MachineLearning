{
 "cells": [
  {
   "cell_type": "markdown",
   "metadata": {},
   "source": [
    "# 基于集成学习的 Amazon 用户评论质量预测\n",
    "---\n",
    "## 一.案例介绍\n",
    "随着电商平台的兴起，以及疫情的持续影响，线上购物在我们的日常生活中扮演着越来越重要的角色。  \n",
    "在进行线上商品挑选时，评论往往是我们十分关注的一个方面。然而目前电商网站的评论质量参差不齐，甚至有水军刷好评或者恶意差评的情况出现，严重影响了顾客的购物体验。  \n",
    "因此，对于评论质量的预测成为电商平台越来越关注的话题，如果能自动对评论质量进行评估，就能根据预测结果避免展现低质量的评论。  \n",
    "本次数据来源于 Amazon 电商平台，包含超过 50,000 条用户在购买商品后留下的评论，本案例中我们将基于集成学习的方法对 Amazon 现实场景中的评论质量进行预测。"
   ]
  },
  {
   "cell_type": "code",
   "execution_count": 70,
   "metadata": {},
   "outputs": [],
   "source": [
    "import pandas as pd\n",
    "import numpy as np"
   ]
  },
  {
   "cell_type": "markdown",
   "metadata": {},
   "source": [
    "## 二.数据概览\n",
    "***Amazon*** **用户评论质量**\n",
    "* ***reviewerID*** 用户ID 👽\n",
    "* ***asin*** 商品ID 👔\n",
    "* ***reviewText*** 评论 💬\n",
    "* ***overall*** 商品评分 💯\n",
    "* ***votes_up*** 评论点赞数 💚\n",
    "* ***votes_all*** 评论总评价数 🗳️\n",
    "* ***label*** 评论质量 ✔️❌\n",
    "\n",
    "[📢] 注：\n",
    "1. 商品评分 ***1-5*** 分\n",
    "2. 测试集中没有评论点赞数 *votes_up* 和评论总评价数 *votes_all* \n",
    "3. 评论质量 *label* 根据其他用户对评论的 *votes*，`votes_up/votes_all ≥ 0.9` 的作为高质量评论  \n",
    "   ***1*** 表示高质量，***0*** 表示低质量\n",
    "4. 此外测试集包含一个额外的列 *Id*，标识了每一个测试的样例。\n",
    "\n",
    "##### 🔰导入数据\n",
    "- **训练集**：\"./data/\" 📂路径下 *train.csv* 📝文件  \n",
    "  包含总共 ***57039*** 条数据样本💾  \n",
    "  每条样本包含 ***7*** 个特征🐞：  \n",
    "  - *reviewerID，asin，reviewText，overall，votes_up，votes_all，label*\n",
    "- **测试集**：\"./data/\" 📂路径下 *test.csv* 📝文件  \n",
    "  包含总共 ***11208*** 条数据样本💾  \n",
    "  每条样本包含 ***5*** 个特征🐞：  \n",
    "  - *Id，reviewerID，asin，reviewText，overall*  \n",
    "  \n",
    "  **测试集标签**：\"./data/\" 📂路径下 *groundTruth.csv* 📝文件  \n",
    "  - *Id，Expected*\n",
    "\n",
    "[📢]：测试集标签分离文件存储，*Id* 与测试集特征样本一一对应，*Expected* 即 *label*。\n",
    "\n",
    "✔️⚙️借助 ***pandas*** 读入标准 *csv* 格式文件的函数 `read_csv()` 将数据转换为 `DataFrame` 的形式。"
   ]
  },
  {
   "cell_type": "code",
   "execution_count": 71,
   "metadata": {},
   "outputs": [],
   "source": [
    "train_df = pd.read_csv('./data/train.csv', sep='\\t')\n",
    "test_df = pd.read_csv('./data/test.csv',sep='\\t')\n",
    "testlabels_df = pd.read_csv('./data/groundTruth.csv')"
   ]
  },
  {
   "cell_type": "markdown",
   "metadata": {},
   "source": [
    "##### 🚂**训练集** 数据概览👓"
   ]
  },
  {
   "cell_type": "code",
   "execution_count": 72,
   "metadata": {},
   "outputs": [
    {
     "data": {
      "text/html": [
       "<div>\n",
       "<style scoped>\n",
       "    .dataframe tbody tr th:only-of-type {\n",
       "        vertical-align: middle;\n",
       "    }\n",
       "\n",
       "    .dataframe tbody tr th {\n",
       "        vertical-align: top;\n",
       "    }\n",
       "\n",
       "    .dataframe thead th {\n",
       "        text-align: right;\n",
       "    }\n",
       "</style>\n",
       "<table border=\"1\" class=\"dataframe\">\n",
       "  <thead>\n",
       "    <tr style=\"text-align: right;\">\n",
       "      <th></th>\n",
       "      <th>reviewerID</th>\n",
       "      <th>asin</th>\n",
       "      <th>reviewText</th>\n",
       "      <th>overall</th>\n",
       "      <th>votes_up</th>\n",
       "      <th>votes_all</th>\n",
       "      <th>label</th>\n",
       "    </tr>\n",
       "  </thead>\n",
       "  <tbody>\n",
       "    <tr>\n",
       "      <th>0</th>\n",
       "      <td>7885</td>\n",
       "      <td>3901</td>\n",
       "      <td>First off, allow me to correct a common mistak...</td>\n",
       "      <td>5.0</td>\n",
       "      <td>6</td>\n",
       "      <td>7</td>\n",
       "      <td>0</td>\n",
       "    </tr>\n",
       "    <tr>\n",
       "      <th>1</th>\n",
       "      <td>52087</td>\n",
       "      <td>47978</td>\n",
       "      <td>I am really troubled by this Story and Enterta...</td>\n",
       "      <td>3.0</td>\n",
       "      <td>99</td>\n",
       "      <td>134</td>\n",
       "      <td>0</td>\n",
       "    </tr>\n",
       "    <tr>\n",
       "      <th>2</th>\n",
       "      <td>5701</td>\n",
       "      <td>3667</td>\n",
       "      <td>A near-perfect film version of a downright glo...</td>\n",
       "      <td>4.0</td>\n",
       "      <td>14</td>\n",
       "      <td>14</td>\n",
       "      <td>1</td>\n",
       "    </tr>\n",
       "  </tbody>\n",
       "</table>\n",
       "</div>"
      ],
      "text/plain": [
       "   reviewerID   asin                                         reviewText  \\\n",
       "0        7885   3901  First off, allow me to correct a common mistak...   \n",
       "1       52087  47978  I am really troubled by this Story and Enterta...   \n",
       "2        5701   3667  A near-perfect film version of a downright glo...   \n",
       "\n",
       "   overall  votes_up  votes_all  label  \n",
       "0      5.0         6          7      0  \n",
       "1      3.0        99        134      0  \n",
       "2      4.0        14         14      1  "
      ]
     },
     "execution_count": 72,
     "metadata": {},
     "output_type": "execute_result"
    }
   ],
   "source": [
    "# 显示训练集前三条数据\n",
    "train_df.head(3) "
   ]
  },
  {
   "cell_type": "code",
   "execution_count": 73,
   "metadata": {},
   "outputs": [
    {
     "name": "stdout",
     "output_type": "stream",
     "text": [
      "<class 'pandas.core.frame.DataFrame'>\n",
      "RangeIndex: 57039 entries, 0 to 57038\n",
      "Data columns (total 7 columns):\n",
      " #   Column      Non-Null Count  Dtype  \n",
      "---  ------      --------------  -----  \n",
      " 0   reviewerID  57039 non-null  int64  \n",
      " 1   asin        57039 non-null  int64  \n",
      " 2   reviewText  57039 non-null  object \n",
      " 3   overall     57039 non-null  float64\n",
      " 4   votes_up    57039 non-null  int64  \n",
      " 5   votes_all   57039 non-null  int64  \n",
      " 6   label       57039 non-null  int64  \n",
      "dtypes: float64(1), int64(5), object(1)\n",
      "memory usage: 3.0+ MB\n"
     ]
    }
   ],
   "source": [
    "# 显示训练集数据基本信息\n",
    "# 可检查是否有数据丢失\n",
    "train_df.info() "
   ]
  },
  {
   "cell_type": "code",
   "execution_count": 74,
   "metadata": {},
   "outputs": [
    {
     "data": {
      "text/html": [
       "<div>\n",
       "<style scoped>\n",
       "    .dataframe tbody tr th:only-of-type {\n",
       "        vertical-align: middle;\n",
       "    }\n",
       "\n",
       "    .dataframe tbody tr th {\n",
       "        vertical-align: top;\n",
       "    }\n",
       "\n",
       "    .dataframe thead th {\n",
       "        text-align: right;\n",
       "    }\n",
       "</style>\n",
       "<table border=\"1\" class=\"dataframe\">\n",
       "  <thead>\n",
       "    <tr style=\"text-align: right;\">\n",
       "      <th></th>\n",
       "      <th>reviewerID</th>\n",
       "      <th>asin</th>\n",
       "      <th>overall</th>\n",
       "      <th>votes_up</th>\n",
       "      <th>votes_all</th>\n",
       "      <th>label</th>\n",
       "    </tr>\n",
       "  </thead>\n",
       "  <tbody>\n",
       "    <tr>\n",
       "      <th>count</th>\n",
       "      <td>57039.000000</td>\n",
       "      <td>57039.000000</td>\n",
       "      <td>57039.000000</td>\n",
       "      <td>57039.000000</td>\n",
       "      <td>57039.000000</td>\n",
       "      <td>57039.000000</td>\n",
       "    </tr>\n",
       "    <tr>\n",
       "      <th>mean</th>\n",
       "      <td>33359.761865</td>\n",
       "      <td>19973.170866</td>\n",
       "      <td>3.535178</td>\n",
       "      <td>12.387594</td>\n",
       "      <td>18.475850</td>\n",
       "      <td>0.226196</td>\n",
       "    </tr>\n",
       "    <tr>\n",
       "      <th>std</th>\n",
       "      <td>30016.804127</td>\n",
       "      <td>14104.410152</td>\n",
       "      <td>1.529742</td>\n",
       "      <td>45.130499</td>\n",
       "      <td>50.149683</td>\n",
       "      <td>0.418371</td>\n",
       "    </tr>\n",
       "    <tr>\n",
       "      <th>min</th>\n",
       "      <td>50.000000</td>\n",
       "      <td>0.000000</td>\n",
       "      <td>1.000000</td>\n",
       "      <td>0.000000</td>\n",
       "      <td>5.000000</td>\n",
       "      <td>0.000000</td>\n",
       "    </tr>\n",
       "    <tr>\n",
       "      <th>25%</th>\n",
       "      <td>9235.000000</td>\n",
       "      <td>8218.000000</td>\n",
       "      <td>2.000000</td>\n",
       "      <td>4.000000</td>\n",
       "      <td>6.000000</td>\n",
       "      <td>0.000000</td>\n",
       "    </tr>\n",
       "    <tr>\n",
       "      <th>50%</th>\n",
       "      <td>22589.000000</td>\n",
       "      <td>17635.000000</td>\n",
       "      <td>4.000000</td>\n",
       "      <td>6.000000</td>\n",
       "      <td>10.000000</td>\n",
       "      <td>0.000000</td>\n",
       "    </tr>\n",
       "    <tr>\n",
       "      <th>75%</th>\n",
       "      <td>53170.000000</td>\n",
       "      <td>30875.000000</td>\n",
       "      <td>5.000000</td>\n",
       "      <td>11.000000</td>\n",
       "      <td>18.000000</td>\n",
       "      <td>0.000000</td>\n",
       "    </tr>\n",
       "    <tr>\n",
       "      <th>max</th>\n",
       "      <td>123767.000000</td>\n",
       "      <td>50051.000000</td>\n",
       "      <td>5.000000</td>\n",
       "      <td>6084.000000</td>\n",
       "      <td>6510.000000</td>\n",
       "      <td>1.000000</td>\n",
       "    </tr>\n",
       "  </tbody>\n",
       "</table>\n",
       "</div>"
      ],
      "text/plain": [
       "          reviewerID          asin       overall      votes_up     votes_all  \\\n",
       "count   57039.000000  57039.000000  57039.000000  57039.000000  57039.000000   \n",
       "mean    33359.761865  19973.170866      3.535178     12.387594     18.475850   \n",
       "std     30016.804127  14104.410152      1.529742     45.130499     50.149683   \n",
       "min        50.000000      0.000000      1.000000      0.000000      5.000000   \n",
       "25%      9235.000000   8218.000000      2.000000      4.000000      6.000000   \n",
       "50%     22589.000000  17635.000000      4.000000      6.000000     10.000000   \n",
       "75%     53170.000000  30875.000000      5.000000     11.000000     18.000000   \n",
       "max    123767.000000  50051.000000      5.000000   6084.000000   6510.000000   \n",
       "\n",
       "              label  \n",
       "count  57039.000000  \n",
       "mean       0.226196  \n",
       "std        0.418371  \n",
       "min        0.000000  \n",
       "25%        0.000000  \n",
       "50%        0.000000  \n",
       "75%        0.000000  \n",
       "max        1.000000  "
      ]
     },
     "execution_count": 74,
     "metadata": {},
     "output_type": "execute_result"
    }
   ],
   "source": [
    "# 显示训练集数据统计摘要\n",
    "train_df.describe()"
   ]
  },
  {
   "cell_type": "markdown",
   "metadata": {},
   "source": [
    "##### 🧪**测试集** 数据概览👓"
   ]
  },
  {
   "cell_type": "code",
   "execution_count": 75,
   "metadata": {},
   "outputs": [
    {
     "data": {
      "text/html": [
       "<div>\n",
       "<style scoped>\n",
       "    .dataframe tbody tr th:only-of-type {\n",
       "        vertical-align: middle;\n",
       "    }\n",
       "\n",
       "    .dataframe tbody tr th {\n",
       "        vertical-align: top;\n",
       "    }\n",
       "\n",
       "    .dataframe thead th {\n",
       "        text-align: right;\n",
       "    }\n",
       "</style>\n",
       "<table border=\"1\" class=\"dataframe\">\n",
       "  <thead>\n",
       "    <tr style=\"text-align: right;\">\n",
       "      <th></th>\n",
       "      <th>Id</th>\n",
       "      <th>reviewerID</th>\n",
       "      <th>asin</th>\n",
       "      <th>reviewText</th>\n",
       "      <th>overall</th>\n",
       "    </tr>\n",
       "  </thead>\n",
       "  <tbody>\n",
       "    <tr>\n",
       "      <th>0</th>\n",
       "      <td>0</td>\n",
       "      <td>82947</td>\n",
       "      <td>37386</td>\n",
       "      <td>I REALLY wanted this series but I am in SHOCK ...</td>\n",
       "      <td>1.0</td>\n",
       "    </tr>\n",
       "    <tr>\n",
       "      <th>1</th>\n",
       "      <td>1</td>\n",
       "      <td>10154</td>\n",
       "      <td>23543</td>\n",
       "      <td>I have to say that this is a work of art for m...</td>\n",
       "      <td>4.0</td>\n",
       "    </tr>\n",
       "    <tr>\n",
       "      <th>2</th>\n",
       "      <td>2</td>\n",
       "      <td>5789</td>\n",
       "      <td>5724</td>\n",
       "      <td>Alien 3 is certainly the most controversal fil...</td>\n",
       "      <td>3.0</td>\n",
       "    </tr>\n",
       "  </tbody>\n",
       "</table>\n",
       "</div>"
      ],
      "text/plain": [
       "   Id  reviewerID   asin                                         reviewText  \\\n",
       "0   0       82947  37386  I REALLY wanted this series but I am in SHOCK ...   \n",
       "1   1       10154  23543  I have to say that this is a work of art for m...   \n",
       "2   2        5789   5724  Alien 3 is certainly the most controversal fil...   \n",
       "\n",
       "   overall  \n",
       "0      1.0  \n",
       "1      4.0  \n",
       "2      3.0  "
      ]
     },
     "execution_count": 75,
     "metadata": {},
     "output_type": "execute_result"
    }
   ],
   "source": [
    "# 显示测试集前三条数据\n",
    "test_df.head(3)"
   ]
  },
  {
   "cell_type": "code",
   "execution_count": 76,
   "metadata": {},
   "outputs": [
    {
     "name": "stdout",
     "output_type": "stream",
     "text": [
      "<class 'pandas.core.frame.DataFrame'>\n",
      "RangeIndex: 11208 entries, 0 to 11207\n",
      "Data columns (total 5 columns):\n",
      " #   Column      Non-Null Count  Dtype  \n",
      "---  ------      --------------  -----  \n",
      " 0   Id          11208 non-null  int64  \n",
      " 1   reviewerID  11208 non-null  int64  \n",
      " 2   asin        11208 non-null  int64  \n",
      " 3   reviewText  11208 non-null  object \n",
      " 4   overall     11208 non-null  float64\n",
      "dtypes: float64(1), int64(3), object(1)\n",
      "memory usage: 437.9+ KB\n"
     ]
    }
   ],
   "source": [
    "# 显示测试集数据基本信息\n",
    "# 可检查是否有数据丢失\n",
    "test_df.info()"
   ]
  },
  {
   "cell_type": "code",
   "execution_count": 77,
   "metadata": {},
   "outputs": [
    {
     "data": {
      "text/html": [
       "<div>\n",
       "<style scoped>\n",
       "    .dataframe tbody tr th:only-of-type {\n",
       "        vertical-align: middle;\n",
       "    }\n",
       "\n",
       "    .dataframe tbody tr th {\n",
       "        vertical-align: top;\n",
       "    }\n",
       "\n",
       "    .dataframe thead th {\n",
       "        text-align: right;\n",
       "    }\n",
       "</style>\n",
       "<table border=\"1\" class=\"dataframe\">\n",
       "  <thead>\n",
       "    <tr style=\"text-align: right;\">\n",
       "      <th></th>\n",
       "      <th>Id</th>\n",
       "      <th>reviewerID</th>\n",
       "      <th>asin</th>\n",
       "      <th>overall</th>\n",
       "    </tr>\n",
       "  </thead>\n",
       "  <tbody>\n",
       "    <tr>\n",
       "      <th>count</th>\n",
       "      <td>11208.000000</td>\n",
       "      <td>11208.000000</td>\n",
       "      <td>11208.000000</td>\n",
       "      <td>11208.000000</td>\n",
       "    </tr>\n",
       "    <tr>\n",
       "      <th>mean</th>\n",
       "      <td>5603.500000</td>\n",
       "      <td>31902.047198</td>\n",
       "      <td>18843.985724</td>\n",
       "      <td>3.499732</td>\n",
       "    </tr>\n",
       "    <tr>\n",
       "      <th>std</th>\n",
       "      <td>3235.615243</td>\n",
       "      <td>28901.767103</td>\n",
       "      <td>13937.632416</td>\n",
       "      <td>1.553254</td>\n",
       "    </tr>\n",
       "    <tr>\n",
       "      <th>min</th>\n",
       "      <td>0.000000</td>\n",
       "      <td>50.000000</td>\n",
       "      <td>5.000000</td>\n",
       "      <td>1.000000</td>\n",
       "    </tr>\n",
       "    <tr>\n",
       "      <th>25%</th>\n",
       "      <td>2801.750000</td>\n",
       "      <td>9081.500000</td>\n",
       "      <td>7131.000000</td>\n",
       "      <td>2.000000</td>\n",
       "    </tr>\n",
       "    <tr>\n",
       "      <th>50%</th>\n",
       "      <td>5603.500000</td>\n",
       "      <td>21528.000000</td>\n",
       "      <td>15400.000000</td>\n",
       "      <td>4.000000</td>\n",
       "    </tr>\n",
       "    <tr>\n",
       "      <th>75%</th>\n",
       "      <td>8405.250000</td>\n",
       "      <td>49195.000000</td>\n",
       "      <td>29175.250000</td>\n",
       "      <td>5.000000</td>\n",
       "    </tr>\n",
       "    <tr>\n",
       "      <th>max</th>\n",
       "      <td>11207.000000</td>\n",
       "      <td>122577.000000</td>\n",
       "      <td>50051.000000</td>\n",
       "      <td>5.000000</td>\n",
       "    </tr>\n",
       "  </tbody>\n",
       "</table>\n",
       "</div>"
      ],
      "text/plain": [
       "                 Id     reviewerID          asin       overall\n",
       "count  11208.000000   11208.000000  11208.000000  11208.000000\n",
       "mean    5603.500000   31902.047198  18843.985724      3.499732\n",
       "std     3235.615243   28901.767103  13937.632416      1.553254\n",
       "min        0.000000      50.000000      5.000000      1.000000\n",
       "25%     2801.750000    9081.500000   7131.000000      2.000000\n",
       "50%     5603.500000   21528.000000  15400.000000      4.000000\n",
       "75%     8405.250000   49195.000000  29175.250000      5.000000\n",
       "max    11207.000000  122577.000000  50051.000000      5.000000"
      ]
     },
     "execution_count": 77,
     "metadata": {},
     "output_type": "execute_result"
    }
   ],
   "source": [
    "# 显示测试集数据统计摘要\n",
    "test_df.describe()"
   ]
  },
  {
   "cell_type": "code",
   "execution_count": 78,
   "metadata": {},
   "outputs": [
    {
     "data": {
      "text/html": [
       "<div>\n",
       "<style scoped>\n",
       "    .dataframe tbody tr th:only-of-type {\n",
       "        vertical-align: middle;\n",
       "    }\n",
       "\n",
       "    .dataframe tbody tr th {\n",
       "        vertical-align: top;\n",
       "    }\n",
       "\n",
       "    .dataframe thead th {\n",
       "        text-align: right;\n",
       "    }\n",
       "</style>\n",
       "<table border=\"1\" class=\"dataframe\">\n",
       "  <thead>\n",
       "    <tr style=\"text-align: right;\">\n",
       "      <th></th>\n",
       "      <th>0</th>\n",
       "      <th>1</th>\n",
       "      <th>2</th>\n",
       "      <th>3</th>\n",
       "      <th>4</th>\n",
       "      <th>5</th>\n",
       "      <th>6</th>\n",
       "      <th>7</th>\n",
       "      <th>8</th>\n",
       "      <th>9</th>\n",
       "    </tr>\n",
       "  </thead>\n",
       "  <tbody>\n",
       "    <tr>\n",
       "      <th>Id</th>\n",
       "      <td>0</td>\n",
       "      <td>1</td>\n",
       "      <td>2</td>\n",
       "      <td>3</td>\n",
       "      <td>4</td>\n",
       "      <td>5</td>\n",
       "      <td>6</td>\n",
       "      <td>7</td>\n",
       "      <td>8</td>\n",
       "      <td>9</td>\n",
       "    </tr>\n",
       "    <tr>\n",
       "      <th>Expected</th>\n",
       "      <td>0</td>\n",
       "      <td>0</td>\n",
       "      <td>0</td>\n",
       "      <td>0</td>\n",
       "      <td>0</td>\n",
       "      <td>0</td>\n",
       "      <td>0</td>\n",
       "      <td>1</td>\n",
       "      <td>1</td>\n",
       "      <td>0</td>\n",
       "    </tr>\n",
       "  </tbody>\n",
       "</table>\n",
       "</div>"
      ],
      "text/plain": [
       "          0  1  2  3  4  5  6  7  8  9\n",
       "Id        0  1  2  3  4  5  6  7  8  9\n",
       "Expected  0  0  0  0  0  0  0  1  1  0"
      ]
     },
     "execution_count": 78,
     "metadata": {},
     "output_type": "execute_result"
    }
   ],
   "source": [
    "# 显示测试集前10条样本标签\n",
    "testlabels_df.head(10).T"
   ]
  },
  {
   "cell_type": "markdown",
   "metadata": {},
   "source": [
    "## 三.特征工程 + 实验方案\n",
    "#### 🧰***sklearn*** 文本向量化工具  \n",
    "- [***sklearn.feature_extraction.text.CountVectorizer***](https://github.com/xfkcode/MachineLearning/blob/main/python%E5%B7%A5%E5%85%B7/sklearn/sklearn%E5%AD%A6%E4%B9%A0%E7%AC%94%E8%AE%B01.ipynb)  \n",
    "  将文本文档集合转换为计数矩阵。\n",
    "- [***sklearn.feature_extraction.text.TfidfVectorizer***](https://github.com/xfkcode/MachineLearning/blob/main/python%E5%B7%A5%E5%85%B7/sklearn/sklearn%E5%AD%A6%E4%B9%A0%E7%AC%94%E8%AE%B02.ipynb)  \n",
    "  将文档集合转换为TF-IDF功能矩阵。"
   ]
  },
  {
   "cell_type": "code",
   "execution_count": 79,
   "metadata": {},
   "outputs": [],
   "source": [
    "from sklearn.feature_extraction.text import CountVectorizer\n",
    "from sklearn.feature_extraction.text import TfidfVectorizer"
   ]
  },
  {
   "cell_type": "markdown",
   "metadata": {},
   "source": [
    "#### ***Test-1***\n",
    "数据🧫\n",
    "- 使用训练集前 ***2000*** 条数据作为 *Test-1* 全部数据进行数据划分测试  \n",
    "\n",
    "⚠️电脑跑不动大规模数据❗❗❗\n",
    "\n",
    "[📢]：训练集和测试集共同构建词表实现文本向量化\n",
    "\n",
    "1. ***reviewText*** 评论文本向量化  \n",
    "   - **全部数据** 构建词表，实现文本向量化\n",
    "2. 数据划分✂️   \n",
    "   训练集 : 测试集 ***(8:2)***"
   ]
  },
  {
   "cell_type": "code",
   "execution_count": 80,
   "metadata": {},
   "outputs": [
    {
     "data": {
      "text/plain": [
       "array(['00', '000', '10', '100', '11', '12', '13', '14', '15', '16', '17',\n",
       "       '18', '19', '1930', '1960', '1960s', '1962', '1969', '1970',\n",
       "       '1972', '1974'], dtype=object)"
      ]
     },
     "execution_count": 80,
     "metadata": {},
     "output_type": "execute_result"
    }
   ],
   "source": [
    "vectorizer1 = TfidfVectorizer(max_df=0.9, min_df=10)\n",
    "vectorizer1.fit(train_df.reviewText[0:2000])\n",
    "vectorizer1.get_feature_names_out()[:21:1]"
   ]
  },
  {
   "cell_type": "code",
   "execution_count": 81,
   "metadata": {},
   "outputs": [
    {
     "name": "stdout",
     "output_type": "stream",
     "text": [
      "[0. 0. 0. ... 0. 0. 0.]\n",
      "(1000, 2153)\n"
     ]
    }
   ],
   "source": [
    "X1 = vectorizer1.fit_transform(train_df.reviewText[0:2000])\n",
    "print(X1.toarray()[0])\n",
    "print(X1.shape)"
   ]
  },
  {
   "cell_type": "code",
   "execution_count": 82,
   "metadata": {},
   "outputs": [
    {
     "data": {
      "text/plain": [
       "((1000, 2153), (1000,))"
      ]
     },
     "execution_count": 82,
     "metadata": {},
     "output_type": "execute_result"
    }
   ],
   "source": [
    "data1 = X1.toarray()\n",
    "labels1 = np.array(train_df.label[0:2000])\n",
    "data1.shape,labels1.shape"
   ]
  },
  {
   "cell_type": "code",
   "execution_count": 83,
   "metadata": {},
   "outputs": [
    {
     "data": {
      "text/plain": [
       "((800, 2153), (200, 2153), (800,), (200,))"
      ]
     },
     "execution_count": 83,
     "metadata": {},
     "output_type": "execute_result"
    }
   ],
   "source": [
    "from sklearn.model_selection import train_test_split\n",
    "x_train, x_test, y_train, y_test = train_test_split(data1, labels1, test_size=0.2, random_state=5315)\n",
    "x_train.shape, x_test.shape, y_train.shape, y_test.shape"
   ]
  },
  {
   "cell_type": "markdown",
   "metadata": {},
   "source": [
    "#### ***Test-2***\n",
    "数据🧫 \n",
    "- 使用训练集前 ***2000*** 条数据作为 *Test-2* 训练集数据  \n",
    "- 使用测试集前 ***200*** 条数据作为 *Test-2* 测试集数据  \n",
    " \n",
    "⚠️电脑跑不动大规模数据❗❗❗\n",
    "\n",
    "[📢]：仅使用训练集构建词表实现文本向量化\n",
    "\n",
    "1. ***reviewText*** 评论文本向量化  \n",
    "   - **训练集数据** 构建词表，实现文本向量化\n",
    "2. 构建训练集、测试集数据"
   ]
  },
  {
   "cell_type": "code",
   "execution_count": 84,
   "metadata": {},
   "outputs": [
    {
     "name": "stdout",
     "output_type": "stream",
     "text": [
      "[0. 0. 0. ... 0. 0. 0.]\n",
      "(200, 2153)\n"
     ]
    }
   ],
   "source": [
    "X2 = vectorizer1.transform(test_df.reviewText[0:200])\n",
    "print(X2.toarray()[0])\n",
    "print(X2.shape)"
   ]
  },
  {
   "cell_type": "code",
   "execution_count": 85,
   "metadata": {},
   "outputs": [
    {
     "data": {
      "text/plain": [
       "((1000, 2153), (200, 2153), (2000,), (200,))"
      ]
     },
     "execution_count": 85,
     "metadata": {},
     "output_type": "execute_result"
    }
   ],
   "source": [
    "# 训练集\n",
    "data2_train = X1.toarray()\n",
    "labels2_train = np.array(train_df.label[0:2000])\n",
    "# 测试集\n",
    "data2_test = X2.toarray()\n",
    "labels2_test = np.array(testlabels_df.Expected[0:200])\n",
    "data2_train.shape, data2_test.shape, labels2_train.shape, labels2_test.shape"
   ]
  },
  {
   "cell_type": "markdown",
   "metadata": {},
   "source": [
    "## 四.模型构建\n",
    "* Bagging + SVM\n",
    "* Bagging + 决策树\n",
    "* AdaBoost + SVM\n",
    "* AdaBoost + 决策树\n",
    "* AdaBoost.M1 + SVM\n",
    "* AdaBoost.M1 + 决策树\n"
   ]
  },
  {
   "cell_type": "markdown",
   "metadata": {},
   "source": [
    "### 🧰***sklearn*** 实现\n",
    "- 基分类器SVM： `SVC(C=200,kernel='rbf')`\n",
    "- 基分类器DT：  &emsp;`DecisionTreeClassifier(max_depth=3)`"
   ]
  },
  {
   "cell_type": "markdown",
   "metadata": {},
   "source": [
    "#### ***sklearn.ensemble.BaggingClassifier***🛍️\n",
    "```python\n",
    "class sklearn.ensemble.BaggingClassifier(base_estimator=None, n_estimators=10, *, max_samples=1.0, max_features=1.0, \n",
    "bootstrap=True, bootstrap_features=False, oob_score=False, warm_start=False, n_jobs=None, random_state=None, verbose=0)\n",
    "```"
   ]
  },
  {
   "cell_type": "markdown",
   "metadata": {},
   "source": [
    "#### ***sklearn.ensemble.AdaBoostClassifier***🥾\n",
    "```python\n",
    "class sklearn.ensemble.AdaBoostClassifier(base_estimator=None, *, n_estimators=50, \n",
    "learning_rate=1.0, algorithm='SAMME.R', random_state=None)\n",
    "```"
   ]
  },
  {
   "cell_type": "markdown",
   "metadata": {},
   "source": [
    "#### ***sklearn.tree.DecisionTreeClassifier***🌳\n",
    "```python\n",
    "class sklearn.tree.DecisionTreeClassifier(*, criterion='gini', splitter='best', max_depth=None, min_samples_split=2, \n",
    "min_samples_leaf=1, min_weight_fraction_leaf=0.0, max_features=None, random_state=None, max_leaf_nodes=None, \n",
    "min_impurity_decrease=0.0, class_weight=None, ccp_alpha=0.0)\n",
    "```"
   ]
  },
  {
   "cell_type": "markdown",
   "metadata": {},
   "source": [
    "#### ***sklearn.svm.SVC***🚀\n",
    "```python\n",
    "class sklearn.svm.SVC(*, C=1.0, kernel='rbf', degree=3, gamma='scale', coef0=0.0, shrinking=True, probability=False, \n",
    "tol=0.001, cache_size=200, class_weight=None, verbose=False, max_iter=-1, decision_function_shape='ovr', break_ties=False, random_state=None)\n",
    "```"
   ]
  },
  {
   "cell_type": "code",
   "execution_count": 86,
   "metadata": {},
   "outputs": [],
   "source": [
    "from sklearn.ensemble import BaggingClassifier\n",
    "from sklearn.ensemble import AdaBoostClassifier\n",
    "from sklearn.tree import DecisionTreeClassifier\n",
    "from sklearn.svm import SVC\n",
    "from sklearn.metrics import accuracy_score"
   ]
  },
  {
   "cell_type": "code",
   "execution_count": 87,
   "metadata": {},
   "outputs": [],
   "source": [
    "# 存储sklearn-models预测结果\n",
    "predictions=[] # model.predict()\n",
    "y_score=[] # model.decision_function()\n",
    "proba=[] # model.predict_proba()"
   ]
  },
  {
   "cell_type": "markdown",
   "metadata": {},
   "source": [
    "#### ***Bagging + SVM***"
   ]
  },
  {
   "cell_type": "code",
   "execution_count": 88,
   "metadata": {},
   "outputs": [],
   "source": [
    "Bagging_svm = BaggingClassifier(SVC(C=200,kernel='rbf'), n_estimators = 50)\n",
    "Bagging_svm.fit(x_train,y_train)\n",
    "predictions_Bs = Bagging_svm.predict(x_test)\n",
    "predictions.append(predictions_Bs)\n",
    "y_score_Bs = Bagging_svm.decision_function(x_test)\n",
    "y_score.append(y_score_Bs)\n",
    "proba_Bs = Bagging_svm.predict_proba(x_test)\n",
    "proba.append(proba_Bs)"
   ]
  },
  {
   "cell_type": "markdown",
   "metadata": {},
   "source": [
    "#### ***Bagging + DecisionTree***"
   ]
  },
  {
   "cell_type": "code",
   "execution_count": 89,
   "metadata": {},
   "outputs": [],
   "source": [
    "Bagging_Dt = BaggingClassifier(DecisionTreeClassifier(max_depth=3), n_estimators = 50)\n",
    "Bagging_Dt.fit(x_train,y_train)\n",
    "predictions_BDT = Bagging_Dt.predict(x_test)\n",
    "predictions.append(predictions_BDT)\n",
    "# y_score_BDT = Bagging_Dt.decision_function(x_test) 报错？？？\n",
    "# y_score.append(y_score_BDT)\n",
    "proba_BDT = Bagging_Dt.predict_proba(x_test)\n",
    "proba.append(proba_BDT)"
   ]
  },
  {
   "cell_type": "markdown",
   "metadata": {},
   "source": [
    "#### ***AdaBoost + SVM***"
   ]
  },
  {
   "cell_type": "code",
   "execution_count": 90,
   "metadata": {},
   "outputs": [],
   "source": [
    "adBt_svm = AdaBoostClassifier(SVC(C=200,kernel='rbf'), algorithm='SAMME', n_estimators = 10)\n",
    "adBt_svm.fit(x_train,y_train)\n",
    "predictions_adBtsvm = adBt_svm.predict(x_test)\n",
    "predictions.append(predictions_adBtsvm)\n",
    "y_score_adBtsvm = adBt_svm.decision_function(x_test)\n",
    "y_score.append(y_score_adBtsvm)\n",
    "proba_adBtsvm = adBt_svm.predict_proba(x_test)\n",
    "proba.append(proba_adBtsvm)"
   ]
  },
  {
   "cell_type": "markdown",
   "metadata": {},
   "source": [
    "#### ***AdaBoost + DecisionTree***"
   ]
  },
  {
   "cell_type": "code",
   "execution_count": 91,
   "metadata": {},
   "outputs": [],
   "source": [
    "adBt_DT = AdaBoostClassifier(DecisionTreeClassifier(max_depth=3), algorithm='SAMME', n_estimators = 10)\n",
    "adBt_DT.fit(x_train,y_train)\n",
    "predictions_adBtDT = adBt_DT.predict(x_test)\n",
    "predictions.append(predictions_adBtDT)\n",
    "y_score_adBtDT = adBt_DT.decision_function(x_test)\n",
    "y_score.append(y_score_adBtDT)\n",
    "proba_adBtDt = adBt_DT.predict_proba(x_test)\n",
    "proba.append(proba_adBtDt)"
   ]
  },
  {
   "cell_type": "markdown",
   "metadata": {},
   "source": [
    "### ♟️**自主** 实现"
   ]
  },
  {
   "cell_type": "code",
   "execution_count": 92,
   "metadata": {},
   "outputs": [],
   "source": [
    "# 存储self-models预测结果\n",
    "predictions_self=[] # model.predict()"
   ]
  },
  {
   "cell_type": "markdown",
   "metadata": {},
   "source": [
    "#### ***Bagging Algorithm***🧠\n",
    "- **Bagging** = **B**ootstrap **agg**rega**ting**\n",
    "- Bootstrap asmpling (拔靴法/自举法采样)\n",
    "  - 给定集合 $D$ ,含有 $m$ 训练样本\n",
    "  - 通过从 $D$ 中均匀随机的有放回采样 $m$ 个样本构建 $D_i$\n",
    "\n",
    "♻️**For** $t=1,2,\\ldots,T$ **Do**\n",
    "1. 从 $S$ 中拔靴采样产生 $D_t$\n",
    "2. 在 $D_t$ 上训练一个分类器 $H_t$\n",
    "\n",
    "🕹️分类一个新的样本 $x\\in X$ 时，通过对 $H_t$ 多数投票 [🗳️]（等权重）\n",
    "\n",
    "\n",
    "✔️⚙️借助 ***numpy*** >>> `np.random.choice()` 生成可重复随机序列，对样本进行拔靴采样\n"
   ]
  },
  {
   "cell_type": "code",
   "execution_count": 93,
   "metadata": {},
   "outputs": [],
   "source": [
    "class Bagging():\n",
    "    def __init__(self,baseClassifier='DT', numIt=50) -> None:\n",
    "        self.baseClassifier = baseClassifier # 基分类器\n",
    "        self.numIt = numIt # 循环次数（基分类器个数）\n",
    "        self.estimators = [] # 存储基分类器\n",
    "    \n",
    "    '''\n",
    "    函数说明：模型训练函数\n",
    "    Parameters:\n",
    "        data - 训练集特征\n",
    "        labels - 训练集标签\n",
    "    Returns:\n",
    "        返回 numIt 个训练后的基分类器\n",
    "    '''\n",
    "    def fit(self,data,labels):\n",
    "        m = np.shape(data)[0]\n",
    "        for time in range(self.numIt):\n",
    "            index = np.random.choice(m,size=(m),replace=True) # 有放回随机抽样，生成样本的随机索引序列\n",
    "            datarandom = [] # 存储有放回随机抽样产生的新训练样本\n",
    "            for i in index:\n",
    "                datarandom.append(data[i])\n",
    "            datarandom = np.array(datarandom)\n",
    "            # 基分类器选择\n",
    "            if self.baseClassifier == 'DT':\n",
    "                clf = DecisionTreeClassifier()\n",
    "            elif self.baseClassifier == 'SVM':\n",
    "                clf = SVC()\n",
    "            else:\n",
    "                pass # 可扩展更多的基分类器\n",
    "            clf.fit(data,labels)\n",
    "            self.estimators.append(clf)\n",
    "        return self\n",
    "    \n",
    "    '''\n",
    "    函数说明：预测函数\n",
    "    Parameters:\n",
    "        data_test - 测试集特征\n",
    "    Returns:\n",
    "        返回预测结果\n",
    "    '''   \n",
    "    def predict(self,data_test):\n",
    "        m =  np.shape(data_test)[0]\n",
    "        predictions = np.zeros(m)\n",
    "        # 融合所有基分类器预测结果，等权重投票产生最终的预测结果\n",
    "        for time in range(self.numIt):\n",
    "            clf = self.estimators[time]\n",
    "            y_predict = clf.predict(data_test)\n",
    "            predictions += np.array(y_predict)\n",
    "        return [1 if i>=self.numIt/2 else 0  for i in predictions]"
   ]
  },
  {
   "cell_type": "markdown",
   "metadata": {},
   "source": [
    "#### ***Bagging + DecisionTree***"
   ]
  },
  {
   "cell_type": "code",
   "execution_count": 94,
   "metadata": {},
   "outputs": [],
   "source": [
    "clfbagging=Bagging().fit(x_train,y_train)\n",
    "y_BDT = clfbagging.predict(x_test)\n",
    "predictions_self.append(y_BDT)"
   ]
  },
  {
   "cell_type": "markdown",
   "metadata": {},
   "source": [
    "#### ***Bagging + SVM***"
   ]
  },
  {
   "cell_type": "code",
   "execution_count": 95,
   "metadata": {},
   "outputs": [],
   "source": [
    "clfbagging=Bagging(baseClassifier='SVM').fit(x_train,y_train)\n",
    "y_Bs = clfbagging.predict(x_test)\n",
    "predictions_self.append(y_Bs)"
   ]
  },
  {
   "cell_type": "markdown",
   "metadata": {},
   "source": [
    "#### ***AdaBoost Algorithm***🧠\n",
    "- 初始给每个样本相等权重为 $1/N$;\n",
    "- ♻️**For** $t=1,2,\\ldots,T$ **Do**\n",
    "  1. 生成一个假设 $C_t$;\n",
    "  2. 计算错误率 $\\epsilon_t$:  \n",
    "     $\\epsilon_t$ = 所有错误分类样本权重和    \n",
    "  3. $\\alpha_t=\\frac{1}{2}\\ln{\\frac{1-\\epsilon_t}{\\epsilon_t}}$\n",
    "  4. 更新每个样本的权重：  \n",
    "     正确 分类：$W_{new}=W_{old}*e^{-\\alpha_t}$  \n",
    "     **If** $\\epsilon_t<0.5$ 🔽, $\\epsilon_t>0.5$ 🔼  \n",
    "     \n",
    "     错误 分类：$W_{new}=W_{old}*e^{\\alpha_t}$  \n",
    "     **If** $\\epsilon_t<0.5$ 🔼, $\\epsilon_t>0.5$ 🔽  \n",
    "  1. 归一化权重（权重和=1）;\n",
    "- 🕹️融合所有假设 $C_t$, 各自投票权重为 $\\alpha_t$ "
   ]
  },
  {
   "cell_type": "code",
   "execution_count": 96,
   "metadata": {},
   "outputs": [],
   "source": [
    "class AdaBoost():\n",
    "    def __init__(self,baseClassifier='DT',numIt=10) -> None:\n",
    "        self.baseClassifier = baseClassifier # 基分类器\n",
    "        self.numIt = numIt # 循环次数（基分类器个数）\n",
    "        self.estimators = [] # 存储基分类器\n",
    "        self.alphas = [] # 存储投票权重\n",
    "    \n",
    "    '''\n",
    "    函数说明：模型训练函数\n",
    "    Parameters:\n",
    "        data - 训练集特征\n",
    "        labels - 训练集标签\n",
    "    Returns:\n",
    "        返回训练后的基分类器以及投票权重\n",
    "    '''\n",
    "    def fit(self,data,labels):\n",
    "        m = np.shape(data)[0]\n",
    "        W = np.ones(m) / m # 样本权重，初始相等（1/样本数量）\n",
    "        aggClass = np.zeros(m)\n",
    "        for i in range(self.numIt):\n",
    "            # 基分类器选择\n",
    "            if self.baseClassifier == 'DT':\n",
    "                clf = DecisionTreeClassifier()\n",
    "            elif self.baseClassifier == 'SVM':\n",
    "                clf = SVC()\n",
    "            else:\n",
    "                pass # 可扩展更多的基分类器\n",
    "            clf.fit(data,labels,sample_weight=W)\n",
    "            baseclass = clf.predict(data)\n",
    "            error = np.sum(W * np.where(baseclass != labels, 1, 0)) # 计算加权误差\n",
    "            if error==0.5:\n",
    "                break\n",
    "            # 根据误差更新样本权重\n",
    "            alpha = float(0.5 * np.log((1.0 - error) / max(error, 1e-16)))\n",
    "            if alpha==0.0: break\n",
    "            self.alphas.append(alpha)\n",
    "            errorArr = [1 if j else -1 for j in np.array(labels).T == baseclass]\n",
    "            expon = -1 * alpha * np.array(errorArr)\n",
    "            W = np.multiply(W, np.exp(expon))\n",
    "            W = W / W.sum() # 归一化\n",
    "            \n",
    "            self.estimators.append(clf)\n",
    "            self.alphas.append(alpha)\n",
    "            \n",
    "            #计算AdaBoost误差，当误差为0的时候，退出循环\n",
    "            aggClass += alpha * baseclass                                 \n",
    "            errorRate =  np.sum(np.where(np.sign(aggClass) != labels, 1, 0)) / m\n",
    "            if errorRate == 0.0: \n",
    "                break\n",
    "        return self\n",
    "    \n",
    "    '''\n",
    "    函数说明：预测函数\n",
    "    Parameters:\n",
    "        data_test - 测试集特征\n",
    "    Returns:\n",
    "        返回预测结果\n",
    "    '''\n",
    "    def predict(self,data_test):\n",
    "        m = np.shape(data_test)[0]\n",
    "        aggClass = np.zeros(m)\n",
    "        for time in range(len(self.estimators)):\n",
    "            clf = self.estimators[time]\n",
    "            y_predict = clf.predict(data_test)\n",
    "            aggClass += self.alphas[time] * y_predict\n",
    "        return np.sign(aggClass)"
   ]
  },
  {
   "cell_type": "markdown",
   "metadata": {},
   "source": [
    "#### ***AdaBoost + DecisionTree***"
   ]
  },
  {
   "cell_type": "code",
   "execution_count": 97,
   "metadata": {},
   "outputs": [],
   "source": [
    "clfAdaBoost=AdaBoost().fit(x_train,y_train)\n",
    "y_adBtDT = clfAdaBoost.predict(x_test)\n",
    "predictions_self.append(y_adBtDT)"
   ]
  },
  {
   "cell_type": "markdown",
   "metadata": {},
   "source": [
    "#### ***AdaBoost + SVM***"
   ]
  },
  {
   "cell_type": "code",
   "execution_count": 98,
   "metadata": {},
   "outputs": [],
   "source": [
    "clfAdaBoost=AdaBoost(baseClassifier='SVM').fit(x_train,y_train)\n",
    "y_adBtsvm = clfAdaBoost.predict(x_test)\n",
    "predictions_self.append(y_adBtsvm)"
   ]
  },
  {
   "cell_type": "markdown",
   "metadata": {},
   "source": [
    "#### ***AdaBoostM1 Algorithm***🧠\n",
    "- 初始给每个样本相等权重为 $1/N$;\n",
    "- ♻️**For** $t=1,2,\\ldots,T$ **Do**\n",
    "  1. 生成一个假设 $C_t$;\n",
    "  2. 计算错误率 $\\epsilon_t$:  \n",
    "     $\\epsilon_t$ = 所有错误分类样本权重和  \n",
    "     if $\\epsilon_t$ > *0.5*, 则退出循环⚠️  \n",
    "  3. $\\beta_t=\\epsilon_t/(1-\\epsilon_t)$\n",
    "  4. 更新每个样本的权重：  \n",
    "     正确 分类：$W_{new}=W_{old}*\\beta_t$ 🔽  \n",
    "     错误 分类：$W_{new}=W_{old}$ 🔼  \n",
    "  5. 归一化权重（权重和=1）;\n",
    "- 🕹️融合所有假设 $C_t$, 各自投票权重为 $\\log{(1/\\beta_t)}$"
   ]
  },
  {
   "cell_type": "code",
   "execution_count": 99,
   "metadata": {},
   "outputs": [],
   "source": [
    "class AdaBoostM1():\n",
    "    def __init__(self,baseClassifier='DT',numIt=10) -> None:\n",
    "        self.baseClassifier = baseClassifier # 基分类器\n",
    "        self.numIt = numIt # 循环次数（基分类器个数）\n",
    "        self.estimators = [] # 存储基分类器\n",
    "        self.betas = [] # 存储投票权重\n",
    "    \n",
    "    '''\n",
    "    函数说明：模型训练函数\n",
    "    Parameters:\n",
    "        data - 训练集特征\n",
    "        labels - 训练集标签\n",
    "    Returns:\n",
    "        返回训练后的基分类器以及投票权重\n",
    "    '''\n",
    "    def fit(self,data,labels):\n",
    "        m = np.shape(data)[0]\n",
    "        W = np.ones(m) / m\n",
    "        aggClass = np.zeros(m)\n",
    "        for i in range(self.numIt):\n",
    "            # 基分类器选择\n",
    "            if self.baseClassifier == 'DT':\n",
    "                clf = DecisionTreeClassifier()\n",
    "            elif self.baseClassifier == 'SVM':\n",
    "                clf = SVC()\n",
    "            else:\n",
    "                pass # 可扩展更多的基分类器\n",
    "            clf.fit(data,labels,sample_weight=W)\n",
    "            baseclass = clf.predict(data)\n",
    "            error = np.dot(W.T, baseclass != labels) # 计算加权误差\n",
    "            # 如果误差大于0.5退出循环\n",
    "            if error > 0.5:\n",
    "                break\n",
    "            self.estimators.append(clf)\n",
    "            # 根据误差更新样本权重\n",
    "            beta = float( max(error, 1e-16) / (1.0 - error))\n",
    "            self.betas.append(beta)\n",
    "            update = np.array([beta if j else 1 for j in np.array(labels).T == baseclass])\n",
    "            W = np.multiply(W,update)\n",
    "            W = W / W.sum() # 归一化\n",
    "           \n",
    "            #计算AdaBoostM1误差，当误差为0的时候，退出循环\n",
    "            aggClass += np.log(1/beta) * baseclass                                 \n",
    "            errorRate =  np.sum(np.where(np.sign(aggClass) != labels, 1, 0)) / m\n",
    "            if errorRate == 0.0: \n",
    "                break\n",
    "        return self\n",
    "    \n",
    "    '''\n",
    "    函数说明：预测函数\n",
    "    Parameters:\n",
    "        data_test - 测试集特征\n",
    "    Returns:\n",
    "        返回预测结果\n",
    "    '''\n",
    "    def predict(self,data_test):\n",
    "        m = np.shape(data_test)[0]\n",
    "        aggClass = np.zeros(m)\n",
    "        for time in range(len(self.estimators)):\n",
    "            clf = self.estimators[time]\n",
    "            y_predict = clf.predict(data_test)\n",
    "            aggClass += np.log(1/self.betas[time]) * y_predict\n",
    "        return np.sign(aggClass)"
   ]
  },
  {
   "cell_type": "markdown",
   "metadata": {},
   "source": [
    "#### ***AdaBoostM1 + DecisionTree***"
   ]
  },
  {
   "cell_type": "code",
   "execution_count": 100,
   "metadata": {},
   "outputs": [],
   "source": [
    "clfAdaBoostM1=AdaBoostM1().fit(x_train,y_train)\n",
    "y_M1DT = clfAdaBoostM1.predict(x_test)\n",
    "predictions_self.append(y_M1DT)"
   ]
  },
  {
   "cell_type": "markdown",
   "metadata": {},
   "source": [
    "#### ***AdaBoostM1 + SVM***"
   ]
  },
  {
   "cell_type": "code",
   "execution_count": 101,
   "metadata": {},
   "outputs": [],
   "source": [
    "clfAdaBoostM1=AdaBoostM1(baseClassifier='SVM').fit(x_train,y_train)\n",
    "y_M1svm = clfAdaBoostM1.predict(x_test)\n",
    "predictions_self.append(y_M1svm)"
   ]
  },
  {
   "cell_type": "markdown",
   "metadata": {},
   "source": [
    "## 五.对比 ***Accuracy*** 模型性能💯\n",
    "统计对比模型准确率  \n",
    "*Test-1* 🔬\n",
    "- ***sklearn-models***\n",
    "- ***self-models***"
   ]
  },
  {
   "cell_type": "code",
   "execution_count": 102,
   "metadata": {},
   "outputs": [
    {
     "name": "stdout",
     "output_type": "stream",
     "text": [
      "sklearn-models >>>\n",
      "Bagging + SVM Accuracy : 0.795\n",
      "Bagging + DT Accuracy : 0.76\n",
      "AdaBoost + SVM Accuracy : 0.775\n",
      "AdaBoost + DT Accuracy : 0.755\n",
      "self-models >>>\n",
      "Bagging + DT Accuracy : 0.695\n",
      "Bagging + SVM Accuracy : 0.77\n",
      "AdaBoost + DT Accuracy : 0.665\n",
      "AdaBoost + SVM Accuracy : 0.77\n",
      "AdaBoostM1 + DT Accuracy : 0.675\n",
      "AdaBoostM1 + SVM Accuracy : 0.77\n"
     ]
    }
   ],
   "source": [
    "models_skl = [\"Bagging + SVM\",\"Bagging + DT\",\"AdaBoost + SVM\",\"AdaBoost + DT\"]\n",
    "models_self = [\"Bagging + DT\",\"Bagging + SVM\",\"AdaBoost + DT\",\"AdaBoost + SVM\",\"AdaBoostM1 + DT\",\"AdaBoostM1 + SVM\"]\n",
    "\n",
    "print(\"sklearn-models >>>\")\n",
    "for model,y in zip(models_skl,predictions):\n",
    "    acc = accuracy_score(y,y_test)\n",
    "    print( \"{0} Accuracy : {1}\" .format(model,acc))\n",
    "    \n",
    "print(\"self-models >>>\")\n",
    "for model,y in zip(models_self,predictions_self):\n",
    "    acc = accuracy_score(y,y_test)\n",
    "    print( \"{0} Accuracy : {1}\" .format(model,acc))"
   ]
  },
  {
   "cell_type": "markdown",
   "metadata": {},
   "source": [
    "## 六.对比 ***ROC/AUC*** 模型性能📈\n",
    "画出了模型ROC曲线  \n",
    "计算了AUC指标  \n",
    "*Test-1* 🔬\n",
    "- ***sklearn-models***\n",
    "- ***self-models***"
   ]
  },
  {
   "cell_type": "code",
   "execution_count": 103,
   "metadata": {},
   "outputs": [],
   "source": [
    "from itertools import cycle\n",
    "import matplotlib.pyplot as plt\n",
    "from sklearn.metrics import roc_curve, auc\n",
    "from sklearn.metrics import roc_auc_score"
   ]
  },
  {
   "cell_type": "markdown",
   "metadata": {},
   "source": [
    "### ***Sklearn-models***"
   ]
  },
  {
   "cell_type": "markdown",
   "metadata": {},
   "source": [
    "`proba`"
   ]
  },
  {
   "cell_type": "code",
   "execution_count": 110,
   "metadata": {},
   "outputs": [],
   "source": [
    "fpr = dict()\n",
    "tpr = dict()\n",
    "roc_auc = dict()\n",
    "for i in range(4):\n",
    "    fpr[i], tpr[i], _ = roc_curve(y_test, proba[i][:,1])\n",
    "    roc_auc[i] = auc(fpr[i], tpr[i])"
   ]
  },
  {
   "cell_type": "code",
   "execution_count": 111,
   "metadata": {},
   "outputs": [
    {
     "data": {
      "image/png": "[encoded data removed]",
      "text/plain": [
       "<Figure size 432x288 with 1 Axes>"
      ]
     },
     "metadata": {
      "needs_background": "light"
     },
     "output_type": "display_data"
    }
   ],
   "source": [
    "plt.figure()\n",
    "colors = cycle([\"aqua\", \"darkorange\", \"cornflowerblue\",\"deeppink\"])\n",
    "models = cycle([\"Bagging + SVM\",\"Bagging + DT\",\"AdaBoost + SVM\",\"AdaBoost + DT\"])\n",
    "for i, color,model in zip(range(4), colors, models):\n",
    "    plt.plot(\n",
    "        fpr[i],\n",
    "        tpr[i],\n",
    "        color=color,\n",
    "        label=\"ROC curve {0} (auc = {1:0.2f})\".format(model, roc_auc[i]),\n",
    "    )\n",
    "plt.plot([0, 1], [0, 1], color=\"black\", linestyle=\"--\")\n",
    "plt.xlim([0.0, 1.0])\n",
    "plt.ylim([0.0, 1.05])\n",
    "plt.xlabel(\"False Positive Rate\")\n",
    "plt.ylabel(\"True Positive Rate\")\n",
    "plt.title(\"ROC sklearn-models\")\n",
    "plt.legend(loc=\"lower right\")\n",
    "plt.show()"
   ]
  },
  {
   "cell_type": "markdown",
   "metadata": {},
   "source": [
    "`predictions`"
   ]
  },
  {
   "cell_type": "code",
   "execution_count": 108,
   "metadata": {},
   "outputs": [],
   "source": [
    "fpr = dict()\n",
    "tpr = dict()\n",
    "roc_auc = dict()\n",
    "for i in range(4):\n",
    "    fpr[i], tpr[i], _ = roc_curve(y_test, predictions[i])\n",
    "    roc_auc[i] = auc(fpr[i], tpr[i])"
   ]
  },
  {
   "cell_type": "code",
   "execution_count": 109,
   "metadata": {},
   "outputs": [
    {
     "data": {
      "image/png": "[encoded data removed]",
      "text/plain": [
       "<Figure size 432x288 with 1 Axes>"
      ]
     },
     "metadata": {
      "needs_background": "light"
     },
     "output_type": "display_data"
    }
   ],
   "source": [
    "plt.figure()\n",
    "colors = cycle([\"aqua\", \"darkorange\", \"cornflowerblue\",\"deeppink\"])\n",
    "models = cycle([\"Bagging + SVM\",\"Bagging + DT\",\"AdaBoost + SVM\",\"AdaBoost + DT\"])\n",
    "for i, color,model in zip(range(4), colors, models):\n",
    "    plt.plot(\n",
    "        fpr[i],\n",
    "        tpr[i],\n",
    "        color=color,\n",
    "        label=\"ROC curve {0} (auc = {1:0.2f})\".format(model, roc_auc[i]),\n",
    "    )\n",
    "plt.plot([0, 1], [0, 1], color=\"black\", linestyle=\"--\")\n",
    "plt.xlim([0.0, 1.0])\n",
    "plt.ylim([0.0, 1.05])\n",
    "plt.xlabel(\"False Positive Rate\")\n",
    "plt.ylabel(\"True Positive Rate\")\n",
    "plt.title(\"ROC sklearn-models\")\n",
    "plt.legend(loc=\"lower right\")\n",
    "plt.show()"
   ]
  },
  {
   "cell_type": "markdown",
   "metadata": {},
   "source": [
    "### ***Self-models***"
   ]
  },
  {
   "cell_type": "code",
   "execution_count": 106,
   "metadata": {},
   "outputs": [],
   "source": [
    "fpr = dict()\n",
    "tpr = dict()\n",
    "roc_auc = dict()\n",
    "for i in range(6):\n",
    "    fpr[i], tpr[i], _ = roc_curve(y_test, predictions_self[i])\n",
    "    roc_auc[i] = auc(fpr[i], tpr[i])"
   ]
  },
  {
   "cell_type": "code",
   "execution_count": 107,
   "metadata": {},
   "outputs": [
    {
     "data": {
      "image/png": "[encoded data removed]",
      "text/plain": [
       "<Figure size 432x288 with 1 Axes>"
      ]
     },
     "metadata": {
      "needs_background": "light"
     },
     "output_type": "display_data"
    }
   ],
   "source": [
    "plt.figure()\n",
    "colors = cycle([\"aqua\", \"darkorange\", \"cornflowerblue\",\"deeppink\",\"lawngreen\",\"gold\"])\n",
    "models = cycle([\"Bagging + DT\",\"Bagging + SVM\",\"AdaBoost + DT\",\"AdaBoost + SVM\",\"AdaBoostM1 + DT\",\"AdaBoostM1 + SVM\"])\n",
    "for i, color,model in zip(range(6), colors, models):\n",
    "    plt.plot(\n",
    "        fpr[i],\n",
    "        tpr[i],\n",
    "        color=color,\n",
    "        label=\"ROC curve {0} (auc = {1:0.2f})\".format(model, roc_auc[i]),\n",
    "    )\n",
    "plt.plot([0, 1], [0, 1], color=\"black\", linestyle=\"--\")\n",
    "plt.xlim([0.0, 1.0])\n",
    "plt.ylim([0.0, 1.05])\n",
    "plt.xlabel(\"False Positive Rate\")\n",
    "plt.ylabel(\"True Positive Rate\")\n",
    "plt.title(\"ROC self-models\")\n",
    "plt.legend(loc=\"lower right\")\n",
    "plt.show()"
   ]
  },
  {
   "cell_type": "code",
   "execution_count": null,
   "metadata": {},
   "outputs": [],
   "source": []
  }
 ],
 "metadata": {
  "kernelspec": {
   "display_name": "Python 3.9.12 ('base')",
   "language": "python",
   "name": "python3"
  },
  "language_info": {
   "codemirror_mode": {
    "name": "ipython",
    "version": 3
   },
   "file_extension": ".py",
   "mimetype": "text/x-python",
   "name": "python",
   "nbconvert_exporter": "python",
   "pygments_lexer": "ipython3",
   "version": "3.9.12"
  },
  "orig_nbformat": 4,
  "vscode": {
   "interpreter": {
    "hash": "a825f8e8905b8e64233e6384cfa1616d0baa442a3b458fa78e4916d5c671b0d4"
   }
  }
 },
 "nbformat": 4,
 "nbformat_minor": 2
}
